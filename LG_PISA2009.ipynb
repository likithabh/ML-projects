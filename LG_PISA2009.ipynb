{
 "cells": [
  {
   "cell_type": "code",
   "execution_count": 2,
   "metadata": {},
   "outputs": [],
   "source": [
    "import pandas as pd\n",
    "import numpy as np\n",
    "import seaborn as sns\n",
    "import matplotlib.pyplot as plt\n",
    "import statsmodels.formula.api as sm\n",
    "import scipy,scipy.stats\n",
    "import math\n",
    "from collections import Counter\n",
    "from sklearn import metrics\n",
    "from sklearn.linear_model import LinearRegression\n",
    "from sklearn.metrics import r2_score\n",
    "from statsmodels.api import add_constant"
   ]
  },
  {
   "cell_type": "code",
   "execution_count": 3,
   "metadata": {},
   "outputs": [],
   "source": [
    "%matplotlib inline"
   ]
  },
  {
   "cell_type": "code",
   "execution_count": 134,
   "metadata": {},
   "outputs": [],
   "source": [
    "pisatrain=pd.read_csv('pisa2009train.csv')"
   ]
  },
  {
   "cell_type": "code",
   "execution_count": 7,
   "metadata": {},
   "outputs": [],
   "source": [
    "pisatest=pd.read_csv('pisa2009test.csv')"
   ]
  },
  {
   "cell_type": "code",
   "execution_count": 23,
   "metadata": {},
   "outputs": [
    {
     "name": "stdout",
     "output_type": "stream",
     "text": [
      "<class 'pandas.core.frame.DataFrame'>\n",
      "RangeIndex: 3663 entries, 0 to 3662\n",
      "Data columns (total 24 columns):\n",
      "grade                    3663 non-null int64\n",
      "male                     3663 non-null int64\n",
      "raceeth                  3628 non-null object\n",
      "preschool                3607 non-null float64\n",
      "expectBachelors          3601 non-null float64\n",
      "motherHS                 3566 non-null float64\n",
      "motherBachelors          3266 non-null float64\n",
      "motherWork               3570 non-null float64\n",
      "fatherHS                 3418 non-null float64\n",
      "fatherBachelors          3094 non-null float64\n",
      "fatherWork               3430 non-null float64\n",
      "selfBornUS               3594 non-null float64\n",
      "motherBornUS             3592 non-null float64\n",
      "fatherBornUS             3550 non-null float64\n",
      "englishAtHome            3592 non-null float64\n",
      "computerForSchoolwork    3598 non-null float64\n",
      "read30MinsADay           3629 non-null float64\n",
      "minutesPerWeekEnglish    3477 non-null float64\n",
      "studentsInEnglish        3414 non-null float64\n",
      "schoolHasLibrary         3520 non-null float64\n",
      "publicSchool             3663 non-null int64\n",
      "urban                    3663 non-null int64\n",
      "schoolSize               3501 non-null float64\n",
      "readingScore             3663 non-null float64\n",
      "dtypes: float64(19), int64(4), object(1)\n",
      "memory usage: 686.9+ KB\n"
     ]
    },
    {
     "data": {
      "text/html": [
       "<div>\n",
       "<style scoped>\n",
       "    .dataframe tbody tr th:only-of-type {\n",
       "        vertical-align: middle;\n",
       "    }\n",
       "\n",
       "    .dataframe tbody tr th {\n",
       "        vertical-align: top;\n",
       "    }\n",
       "\n",
       "    .dataframe thead th {\n",
       "        text-align: right;\n",
       "    }\n",
       "</style>\n",
       "<table border=\"1\" class=\"dataframe\">\n",
       "  <thead>\n",
       "    <tr style=\"text-align: right;\">\n",
       "      <th></th>\n",
       "      <th>grade</th>\n",
       "      <th>male</th>\n",
       "      <th>raceeth</th>\n",
       "      <th>preschool</th>\n",
       "      <th>expectBachelors</th>\n",
       "      <th>motherHS</th>\n",
       "      <th>motherBachelors</th>\n",
       "      <th>motherWork</th>\n",
       "      <th>fatherHS</th>\n",
       "      <th>fatherBachelors</th>\n",
       "      <th>fatherWork</th>\n",
       "      <th>selfBornUS</th>\n",
       "      <th>motherBornUS</th>\n",
       "      <th>fatherBornUS</th>\n",
       "      <th>englishAtHome</th>\n",
       "      <th>computerForSchoolwork</th>\n",
       "      <th>read30MinsADay</th>\n",
       "      <th>minutesPerWeekEnglish</th>\n",
       "      <th>studentsInEnglish</th>\n",
       "      <th>schoolHasLibrary</th>\n",
       "      <th>publicSchool</th>\n",
       "      <th>urban</th>\n",
       "      <th>schoolSize</th>\n",
       "      <th>readingScore</th>\n",
       "    </tr>\n",
       "  </thead>\n",
       "  <tbody>\n",
       "    <tr>\n",
       "      <th>0</th>\n",
       "      <td>11</td>\n",
       "      <td>1</td>\n",
       "      <td>NaN</td>\n",
       "      <td>NaN</td>\n",
       "      <td>0.0</td>\n",
       "      <td>NaN</td>\n",
       "      <td>NaN</td>\n",
       "      <td>1.0</td>\n",
       "      <td>NaN</td>\n",
       "      <td>NaN</td>\n",
       "      <td>1.0</td>\n",
       "      <td>1.0</td>\n",
       "      <td>0.0</td>\n",
       "      <td>0.0</td>\n",
       "      <td>0.0</td>\n",
       "      <td>1.0</td>\n",
       "      <td>0.0</td>\n",
       "      <td>225.0</td>\n",
       "      <td>NaN</td>\n",
       "      <td>1.0</td>\n",
       "      <td>1</td>\n",
       "      <td>1</td>\n",
       "      <td>673.0</td>\n",
       "      <td>476.00</td>\n",
       "    </tr>\n",
       "    <tr>\n",
       "      <th>1</th>\n",
       "      <td>11</td>\n",
       "      <td>1</td>\n",
       "      <td>White</td>\n",
       "      <td>0.0</td>\n",
       "      <td>0.0</td>\n",
       "      <td>1.0</td>\n",
       "      <td>1.0</td>\n",
       "      <td>1.0</td>\n",
       "      <td>1.0</td>\n",
       "      <td>0.0</td>\n",
       "      <td>1.0</td>\n",
       "      <td>1.0</td>\n",
       "      <td>1.0</td>\n",
       "      <td>1.0</td>\n",
       "      <td>1.0</td>\n",
       "      <td>1.0</td>\n",
       "      <td>1.0</td>\n",
       "      <td>450.0</td>\n",
       "      <td>25.0</td>\n",
       "      <td>1.0</td>\n",
       "      <td>1</td>\n",
       "      <td>0</td>\n",
       "      <td>1173.0</td>\n",
       "      <td>575.01</td>\n",
       "    </tr>\n",
       "    <tr>\n",
       "      <th>2</th>\n",
       "      <td>9</td>\n",
       "      <td>1</td>\n",
       "      <td>White</td>\n",
       "      <td>1.0</td>\n",
       "      <td>1.0</td>\n",
       "      <td>1.0</td>\n",
       "      <td>1.0</td>\n",
       "      <td>1.0</td>\n",
       "      <td>1.0</td>\n",
       "      <td>NaN</td>\n",
       "      <td>1.0</td>\n",
       "      <td>1.0</td>\n",
       "      <td>1.0</td>\n",
       "      <td>1.0</td>\n",
       "      <td>1.0</td>\n",
       "      <td>1.0</td>\n",
       "      <td>0.0</td>\n",
       "      <td>250.0</td>\n",
       "      <td>28.0</td>\n",
       "      <td>1.0</td>\n",
       "      <td>1</td>\n",
       "      <td>0</td>\n",
       "      <td>1233.0</td>\n",
       "      <td>554.81</td>\n",
       "    </tr>\n",
       "    <tr>\n",
       "      <th>3</th>\n",
       "      <td>10</td>\n",
       "      <td>0</td>\n",
       "      <td>Black</td>\n",
       "      <td>1.0</td>\n",
       "      <td>1.0</td>\n",
       "      <td>0.0</td>\n",
       "      <td>0.0</td>\n",
       "      <td>1.0</td>\n",
       "      <td>1.0</td>\n",
       "      <td>0.0</td>\n",
       "      <td>1.0</td>\n",
       "      <td>1.0</td>\n",
       "      <td>1.0</td>\n",
       "      <td>1.0</td>\n",
       "      <td>1.0</td>\n",
       "      <td>1.0</td>\n",
       "      <td>1.0</td>\n",
       "      <td>200.0</td>\n",
       "      <td>23.0</td>\n",
       "      <td>1.0</td>\n",
       "      <td>1</td>\n",
       "      <td>1</td>\n",
       "      <td>2640.0</td>\n",
       "      <td>458.11</td>\n",
       "    </tr>\n",
       "    <tr>\n",
       "      <th>4</th>\n",
       "      <td>10</td>\n",
       "      <td>1</td>\n",
       "      <td>Hispanic</td>\n",
       "      <td>1.0</td>\n",
       "      <td>0.0</td>\n",
       "      <td>1.0</td>\n",
       "      <td>0.0</td>\n",
       "      <td>1.0</td>\n",
       "      <td>1.0</td>\n",
       "      <td>0.0</td>\n",
       "      <td>0.0</td>\n",
       "      <td>1.0</td>\n",
       "      <td>1.0</td>\n",
       "      <td>0.0</td>\n",
       "      <td>1.0</td>\n",
       "      <td>1.0</td>\n",
       "      <td>1.0</td>\n",
       "      <td>250.0</td>\n",
       "      <td>35.0</td>\n",
       "      <td>1.0</td>\n",
       "      <td>1</td>\n",
       "      <td>1</td>\n",
       "      <td>1095.0</td>\n",
       "      <td>613.89</td>\n",
       "    </tr>\n",
       "  </tbody>\n",
       "</table>\n",
       "</div>"
      ],
      "text/plain": [
       "   grade  male   raceeth  preschool  expectBachelors  ...  schoolHasLibrary  publicSchool  urban  schoolSize  readingScore\n",
       "0     11     1       NaN        NaN              0.0  ...               1.0             1      1       673.0        476.00\n",
       "1     11     1     White        0.0              0.0  ...               1.0             1      0      1173.0        575.01\n",
       "2      9     1     White        1.0              1.0  ...               1.0             1      0      1233.0        554.81\n",
       "3     10     0     Black        1.0              1.0  ...               1.0             1      1      2640.0        458.11\n",
       "4     10     1  Hispanic        1.0              0.0  ...               1.0             1      1      1095.0        613.89\n",
       "\n",
       "[5 rows x 24 columns]"
      ]
     },
     "execution_count": 23,
     "metadata": {},
     "output_type": "execute_result"
    }
   ],
   "source": [
    "pisatrain.info()\n",
    "pisatrain.head()"
   ]
  },
  {
   "cell_type": "code",
   "execution_count": 15,
   "metadata": {},
   "outputs": [
    {
     "data": {
      "text/plain": [
       "3663"
      ]
     },
     "execution_count": 15,
     "metadata": {},
     "output_type": "execute_result"
    }
   ],
   "source": [
    "len(pisatrain)"
   ]
  },
  {
   "cell_type": "code",
   "execution_count": 36,
   "metadata": {},
   "outputs": [
    {
     "data": {
      "text/plain": [
       "male\n",
       "0    512.940631\n",
       "1    483.532479\n",
       "Name: readingScore, dtype: float64"
      ]
     },
     "execution_count": 36,
     "metadata": {},
     "output_type": "execute_result"
    }
   ],
   "source": [
    "pisatrain.groupby(['male'])['readingScore'].mean()"
   ]
  },
  {
   "cell_type": "code",
   "execution_count": 39,
   "metadata": {},
   "outputs": [
    {
     "data": {
      "text/plain": [
       "grade                      0\n",
       "male                       0\n",
       "raceeth                   35\n",
       "preschool                 56\n",
       "expectBachelors           62\n",
       "motherHS                  97\n",
       "motherBachelors          397\n",
       "motherWork                93\n",
       "fatherHS                 245\n",
       "fatherBachelors          569\n",
       "fatherWork               233\n",
       "selfBornUS                69\n",
       "motherBornUS              71\n",
       "fatherBornUS             113\n",
       "englishAtHome             71\n",
       "computerForSchoolwork     65\n",
       "read30MinsADay            34\n",
       "minutesPerWeekEnglish    186\n",
       "studentsInEnglish        249\n",
       "schoolHasLibrary         143\n",
       "publicSchool               0\n",
       "urban                      0\n",
       "schoolSize               162\n",
       "readingScore               0\n",
       "dtype: int64"
      ]
     },
     "execution_count": 39,
     "metadata": {},
     "output_type": "execute_result"
    }
   ],
   "source": [
    "pisatrain.isna().sum()"
   ]
  },
  {
   "cell_type": "code",
   "execution_count": 135,
   "metadata": {},
   "outputs": [],
   "source": [
    "pisatrain1=pisatrain.dropna(axis=0)"
   ]
  },
  {
   "cell_type": "code",
   "execution_count": 136,
   "metadata": {},
   "outputs": [],
   "source": [
    "pisatest1=pisatest.dropna(axis=0)"
   ]
  },
  {
   "cell_type": "code",
   "execution_count": 42,
   "metadata": {},
   "outputs": [
    {
     "name": "stdout",
     "output_type": "stream",
     "text": [
      "<class 'pandas.core.frame.DataFrame'>\n",
      "Int64Index: 2414 entries, 1 to 3662\n",
      "Data columns (total 24 columns):\n",
      "grade                    2414 non-null int64\n",
      "male                     2414 non-null int64\n",
      "raceeth                  2414 non-null object\n",
      "preschool                2414 non-null float64\n",
      "expectBachelors          2414 non-null float64\n",
      "motherHS                 2414 non-null float64\n",
      "motherBachelors          2414 non-null float64\n",
      "motherWork               2414 non-null float64\n",
      "fatherHS                 2414 non-null float64\n",
      "fatherBachelors          2414 non-null float64\n",
      "fatherWork               2414 non-null float64\n",
      "selfBornUS               2414 non-null float64\n",
      "motherBornUS             2414 non-null float64\n",
      "fatherBornUS             2414 non-null float64\n",
      "englishAtHome            2414 non-null float64\n",
      "computerForSchoolwork    2414 non-null float64\n",
      "read30MinsADay           2414 non-null float64\n",
      "minutesPerWeekEnglish    2414 non-null float64\n",
      "studentsInEnglish        2414 non-null float64\n",
      "schoolHasLibrary         2414 non-null float64\n",
      "publicSchool             2414 non-null int64\n",
      "urban                    2414 non-null int64\n",
      "schoolSize               2414 non-null float64\n",
      "readingScore             2414 non-null float64\n",
      "dtypes: float64(19), int64(4), object(1)\n",
      "memory usage: 471.5+ KB\n"
     ]
    }
   ],
   "source": [
    "pisatrain1.info()"
   ]
  },
  {
   "cell_type": "code",
   "execution_count": 43,
   "metadata": {},
   "outputs": [
    {
     "name": "stdout",
     "output_type": "stream",
     "text": [
      "<class 'pandas.core.frame.DataFrame'>\n",
      "Int64Index: 990 entries, 0 to 1569\n",
      "Data columns (total 24 columns):\n",
      "grade                    990 non-null int64\n",
      "male                     990 non-null int64\n",
      "raceeth                  990 non-null object\n",
      "preschool                990 non-null float64\n",
      "expectBachelors          990 non-null float64\n",
      "motherHS                 990 non-null float64\n",
      "motherBachelors          990 non-null float64\n",
      "motherWork               990 non-null float64\n",
      "fatherHS                 990 non-null float64\n",
      "fatherBachelors          990 non-null float64\n",
      "fatherWork               990 non-null float64\n",
      "selfBornUS               990 non-null float64\n",
      "motherBornUS             990 non-null float64\n",
      "fatherBornUS             990 non-null float64\n",
      "englishAtHome            990 non-null float64\n",
      "computerForSchoolwork    990 non-null float64\n",
      "read30MinsADay           990 non-null float64\n",
      "minutesPerWeekEnglish    990 non-null float64\n",
      "studentsInEnglish        990 non-null float64\n",
      "schoolHasLibrary         990 non-null float64\n",
      "publicSchool             990 non-null int64\n",
      "urban                    990 non-null int64\n",
      "schoolSize               990 non-null float64\n",
      "readingScore             990 non-null float64\n",
      "dtypes: float64(19), int64(4), object(1)\n",
      "memory usage: 193.4+ KB\n"
     ]
    }
   ],
   "source": [
    "pisatest1.info()"
   ]
  },
  {
   "cell_type": "code",
   "execution_count": 44,
   "metadata": {},
   "outputs": [
    {
     "name": "stdout",
     "output_type": "stream",
     "text": [
      "<class 'pandas.core.frame.DataFrame'>\n",
      "RangeIndex: 3663 entries, 0 to 3662\n",
      "Data columns (total 24 columns):\n",
      "grade                    3663 non-null int64\n",
      "male                     3663 non-null int64\n",
      "raceeth                  3628 non-null object\n",
      "preschool                3607 non-null float64\n",
      "expectBachelors          3601 non-null float64\n",
      "motherHS                 3566 non-null float64\n",
      "motherBachelors          3266 non-null float64\n",
      "motherWork               3570 non-null float64\n",
      "fatherHS                 3418 non-null float64\n",
      "fatherBachelors          3094 non-null float64\n",
      "fatherWork               3430 non-null float64\n",
      "selfBornUS               3594 non-null float64\n",
      "motherBornUS             3592 non-null float64\n",
      "fatherBornUS             3550 non-null float64\n",
      "englishAtHome            3592 non-null float64\n",
      "computerForSchoolwork    3598 non-null float64\n",
      "read30MinsADay           3629 non-null float64\n",
      "minutesPerWeekEnglish    3477 non-null float64\n",
      "studentsInEnglish        3414 non-null float64\n",
      "schoolHasLibrary         3520 non-null float64\n",
      "publicSchool             3663 non-null int64\n",
      "urban                    3663 non-null int64\n",
      "schoolSize               3501 non-null float64\n",
      "readingScore             3663 non-null float64\n",
      "dtypes: float64(19), int64(4), object(1)\n",
      "memory usage: 686.9+ KB\n"
     ]
    }
   ],
   "source": [
    "pisatrain.info()"
   ]
  },
  {
   "cell_type": "code",
   "execution_count": 48,
   "metadata": {},
   "outputs": [
    {
     "data": {
      "text/plain": [
       "array([nan, 'White', 'Black', 'Hispanic', 'Asian', 'More than one race',\n",
       "       'American Indian/Alaska Native',\n",
       "       'Native Hawaiian/Other Pacific Islander'], dtype=object)"
      ]
     },
     "execution_count": 48,
     "metadata": {},
     "output_type": "execute_result"
    }
   ],
   "source": [
    "pisatrain['raceeth'].unique()"
   ]
  },
  {
   "cell_type": "code",
   "execution_count": 49,
   "metadata": {},
   "outputs": [
    {
     "data": {
      "text/html": [
       "<div>\n",
       "<style scoped>\n",
       "    .dataframe tbody tr th:only-of-type {\n",
       "        vertical-align: middle;\n",
       "    }\n",
       "\n",
       "    .dataframe tbody tr th {\n",
       "        vertical-align: top;\n",
       "    }\n",
       "\n",
       "    .dataframe thead th {\n",
       "        text-align: right;\n",
       "    }\n",
       "</style>\n",
       "<table border=\"1\" class=\"dataframe\">\n",
       "  <thead>\n",
       "    <tr style=\"text-align: right;\">\n",
       "      <th></th>\n",
       "      <th>grade</th>\n",
       "      <th>male</th>\n",
       "      <th>preschool</th>\n",
       "      <th>expectBachelors</th>\n",
       "      <th>motherHS</th>\n",
       "      <th>motherBachelors</th>\n",
       "      <th>motherWork</th>\n",
       "      <th>fatherHS</th>\n",
       "      <th>fatherBachelors</th>\n",
       "      <th>fatherWork</th>\n",
       "      <th>selfBornUS</th>\n",
       "      <th>motherBornUS</th>\n",
       "      <th>fatherBornUS</th>\n",
       "      <th>englishAtHome</th>\n",
       "      <th>computerForSchoolwork</th>\n",
       "      <th>read30MinsADay</th>\n",
       "      <th>minutesPerWeekEnglish</th>\n",
       "      <th>studentsInEnglish</th>\n",
       "      <th>schoolHasLibrary</th>\n",
       "      <th>publicSchool</th>\n",
       "      <th>urban</th>\n",
       "      <th>schoolSize</th>\n",
       "      <th>readingScore</th>\n",
       "    </tr>\n",
       "  </thead>\n",
       "  <tbody>\n",
       "    <tr>\n",
       "      <th>grade</th>\n",
       "      <td>1.000000</td>\n",
       "      <td>-0.097677</td>\n",
       "      <td>-0.023262</td>\n",
       "      <td>0.140200</td>\n",
       "      <td>0.005461</td>\n",
       "      <td>0.043171</td>\n",
       "      <td>0.019385</td>\n",
       "      <td>0.046210</td>\n",
       "      <td>0.061713</td>\n",
       "      <td>0.012731</td>\n",
       "      <td>-0.022154</td>\n",
       "      <td>-0.072814</td>\n",
       "      <td>-0.063530</td>\n",
       "      <td>-0.025675</td>\n",
       "      <td>0.112157</td>\n",
       "      <td>0.065008</td>\n",
       "      <td>0.028157</td>\n",
       "      <td>0.085289</td>\n",
       "      <td>-0.026542</td>\n",
       "      <td>-0.063972</td>\n",
       "      <td>0.076277</td>\n",
       "      <td>0.067454</td>\n",
       "      <td>0.286752</td>\n",
       "    </tr>\n",
       "    <tr>\n",
       "      <th>male</th>\n",
       "      <td>-0.097677</td>\n",
       "      <td>1.000000</td>\n",
       "      <td>0.014807</td>\n",
       "      <td>-0.078029</td>\n",
       "      <td>0.030586</td>\n",
       "      <td>0.074250</td>\n",
       "      <td>-0.011641</td>\n",
       "      <td>0.017784</td>\n",
       "      <td>0.076257</td>\n",
       "      <td>0.030614</td>\n",
       "      <td>0.022550</td>\n",
       "      <td>0.015107</td>\n",
       "      <td>0.008212</td>\n",
       "      <td>-0.009790</td>\n",
       "      <td>-0.015485</td>\n",
       "      <td>-0.220103</td>\n",
       "      <td>0.010700</td>\n",
       "      <td>-0.025404</td>\n",
       "      <td>0.032114</td>\n",
       "      <td>-0.075466</td>\n",
       "      <td>0.036377</td>\n",
       "      <td>0.012921</td>\n",
       "      <td>-0.153928</td>\n",
       "    </tr>\n",
       "    <tr>\n",
       "      <th>preschool</th>\n",
       "      <td>-0.023262</td>\n",
       "      <td>0.014807</td>\n",
       "      <td>1.000000</td>\n",
       "      <td>0.076046</td>\n",
       "      <td>0.141552</td>\n",
       "      <td>0.151832</td>\n",
       "      <td>0.069249</td>\n",
       "      <td>0.117443</td>\n",
       "      <td>0.141418</td>\n",
       "      <td>0.065079</td>\n",
       "      <td>0.092893</td>\n",
       "      <td>0.111684</td>\n",
       "      <td>0.112208</td>\n",
       "      <td>0.120480</td>\n",
       "      <td>0.076612</td>\n",
       "      <td>-0.008649</td>\n",
       "      <td>-0.015110</td>\n",
       "      <td>-0.027114</td>\n",
       "      <td>0.036506</td>\n",
       "      <td>-0.070919</td>\n",
       "      <td>-0.053684</td>\n",
       "      <td>-0.032582</td>\n",
       "      <td>0.040537</td>\n",
       "    </tr>\n",
       "    <tr>\n",
       "      <th>expectBachelors</th>\n",
       "      <td>0.140200</td>\n",
       "      <td>-0.078029</td>\n",
       "      <td>0.076046</td>\n",
       "      <td>1.000000</td>\n",
       "      <td>0.104886</td>\n",
       "      <td>0.168330</td>\n",
       "      <td>0.069366</td>\n",
       "      <td>0.156028</td>\n",
       "      <td>0.199217</td>\n",
       "      <td>0.003122</td>\n",
       "      <td>-0.010330</td>\n",
       "      <td>0.012359</td>\n",
       "      <td>0.015281</td>\n",
       "      <td>0.044169</td>\n",
       "      <td>0.130413</td>\n",
       "      <td>0.135002</td>\n",
       "      <td>0.018364</td>\n",
       "      <td>0.050988</td>\n",
       "      <td>0.072164</td>\n",
       "      <td>-0.112698</td>\n",
       "      <td>-0.004022</td>\n",
       "      <td>0.016164</td>\n",
       "      <td>0.360144</td>\n",
       "    </tr>\n",
       "    <tr>\n",
       "      <th>motherHS</th>\n",
       "      <td>0.005461</td>\n",
       "      <td>0.030586</td>\n",
       "      <td>0.141552</td>\n",
       "      <td>0.104886</td>\n",
       "      <td>1.000000</td>\n",
       "      <td>0.252322</td>\n",
       "      <td>0.176354</td>\n",
       "      <td>0.500723</td>\n",
       "      <td>0.227148</td>\n",
       "      <td>0.038105</td>\n",
       "      <td>0.179856</td>\n",
       "      <td>0.343146</td>\n",
       "      <td>0.336373</td>\n",
       "      <td>0.374486</td>\n",
       "      <td>0.187951</td>\n",
       "      <td>0.011641</td>\n",
       "      <td>0.019021</td>\n",
       "      <td>-0.036948</td>\n",
       "      <td>0.012129</td>\n",
       "      <td>-0.067646</td>\n",
       "      <td>-0.117988</td>\n",
       "      <td>-0.084460</td>\n",
       "      <td>0.156488</td>\n",
       "    </tr>\n",
       "    <tr>\n",
       "      <th>motherBachelors</th>\n",
       "      <td>0.043171</td>\n",
       "      <td>0.074250</td>\n",
       "      <td>0.151832</td>\n",
       "      <td>0.168330</td>\n",
       "      <td>0.252322</td>\n",
       "      <td>1.000000</td>\n",
       "      <td>0.142306</td>\n",
       "      <td>0.197929</td>\n",
       "      <td>0.543581</td>\n",
       "      <td>0.071973</td>\n",
       "      <td>0.044804</td>\n",
       "      <td>0.146741</td>\n",
       "      <td>0.125661</td>\n",
       "      <td>0.169733</td>\n",
       "      <td>0.146681</td>\n",
       "      <td>0.021138</td>\n",
       "      <td>0.023004</td>\n",
       "      <td>-0.041765</td>\n",
       "      <td>0.022990</td>\n",
       "      <td>-0.161796</td>\n",
       "      <td>-0.048131</td>\n",
       "      <td>-0.011638</td>\n",
       "      <td>0.214240</td>\n",
       "    </tr>\n",
       "    <tr>\n",
       "      <th>motherWork</th>\n",
       "      <td>0.019385</td>\n",
       "      <td>-0.011641</td>\n",
       "      <td>0.069249</td>\n",
       "      <td>0.069366</td>\n",
       "      <td>0.176354</td>\n",
       "      <td>0.142306</td>\n",
       "      <td>1.000000</td>\n",
       "      <td>0.102632</td>\n",
       "      <td>0.057245</td>\n",
       "      <td>0.039578</td>\n",
       "      <td>0.065549</td>\n",
       "      <td>0.096057</td>\n",
       "      <td>0.096592</td>\n",
       "      <td>0.128595</td>\n",
       "      <td>0.083805</td>\n",
       "      <td>-0.049956</td>\n",
       "      <td>0.009103</td>\n",
       "      <td>-0.032115</td>\n",
       "      <td>-0.011439</td>\n",
       "      <td>-0.036711</td>\n",
       "      <td>-0.012350</td>\n",
       "      <td>-0.039499</td>\n",
       "      <td>0.043401</td>\n",
       "    </tr>\n",
       "    <tr>\n",
       "      <th>fatherHS</th>\n",
       "      <td>0.046210</td>\n",
       "      <td>0.017784</td>\n",
       "      <td>0.117443</td>\n",
       "      <td>0.156028</td>\n",
       "      <td>0.500723</td>\n",
       "      <td>0.197929</td>\n",
       "      <td>0.102632</td>\n",
       "      <td>1.000000</td>\n",
       "      <td>0.280287</td>\n",
       "      <td>0.100620</td>\n",
       "      <td>0.139385</td>\n",
       "      <td>0.279932</td>\n",
       "      <td>0.308128</td>\n",
       "      <td>0.324131</td>\n",
       "      <td>0.173284</td>\n",
       "      <td>0.032457</td>\n",
       "      <td>0.041421</td>\n",
       "      <td>-0.007217</td>\n",
       "      <td>0.030027</td>\n",
       "      <td>-0.080654</td>\n",
       "      <td>-0.098083</td>\n",
       "      <td>-0.080115</td>\n",
       "      <td>0.175464</td>\n",
       "    </tr>\n",
       "    <tr>\n",
       "      <th>fatherBachelors</th>\n",
       "      <td>0.061713</td>\n",
       "      <td>0.076257</td>\n",
       "      <td>0.141418</td>\n",
       "      <td>0.199217</td>\n",
       "      <td>0.227148</td>\n",
       "      <td>0.543581</td>\n",
       "      <td>0.057245</td>\n",
       "      <td>0.280287</td>\n",
       "      <td>1.000000</td>\n",
       "      <td>0.106328</td>\n",
       "      <td>0.011592</td>\n",
       "      <td>0.081497</td>\n",
       "      <td>0.091718</td>\n",
       "      <td>0.138824</td>\n",
       "      <td>0.174256</td>\n",
       "      <td>0.047728</td>\n",
       "      <td>0.007736</td>\n",
       "      <td>-0.019529</td>\n",
       "      <td>0.017605</td>\n",
       "      <td>-0.176680</td>\n",
       "      <td>-0.018506</td>\n",
       "      <td>0.019602</td>\n",
       "      <td>0.266236</td>\n",
       "    </tr>\n",
       "    <tr>\n",
       "      <th>fatherWork</th>\n",
       "      <td>0.012731</td>\n",
       "      <td>0.030614</td>\n",
       "      <td>0.065079</td>\n",
       "      <td>0.003122</td>\n",
       "      <td>0.038105</td>\n",
       "      <td>0.071973</td>\n",
       "      <td>0.039578</td>\n",
       "      <td>0.100620</td>\n",
       "      <td>0.106328</td>\n",
       "      <td>1.000000</td>\n",
       "      <td>-0.028350</td>\n",
       "      <td>-0.008205</td>\n",
       "      <td>-0.004942</td>\n",
       "      <td>0.022521</td>\n",
       "      <td>0.078806</td>\n",
       "      <td>-0.012103</td>\n",
       "      <td>0.030462</td>\n",
       "      <td>-0.000204</td>\n",
       "      <td>-0.012325</td>\n",
       "      <td>-0.023248</td>\n",
       "      <td>-0.039698</td>\n",
       "      <td>-0.023414</td>\n",
       "      <td>0.070423</td>\n",
       "    </tr>\n",
       "    <tr>\n",
       "      <th>selfBornUS</th>\n",
       "      <td>-0.022154</td>\n",
       "      <td>0.022550</td>\n",
       "      <td>0.092893</td>\n",
       "      <td>-0.010330</td>\n",
       "      <td>0.179856</td>\n",
       "      <td>0.044804</td>\n",
       "      <td>0.065549</td>\n",
       "      <td>0.139385</td>\n",
       "      <td>0.011592</td>\n",
       "      <td>-0.028350</td>\n",
       "      <td>1.000000</td>\n",
       "      <td>0.461652</td>\n",
       "      <td>0.443246</td>\n",
       "      <td>0.456103</td>\n",
       "      <td>0.027402</td>\n",
       "      <td>-0.013808</td>\n",
       "      <td>0.004910</td>\n",
       "      <td>-0.033958</td>\n",
       "      <td>-0.008027</td>\n",
       "      <td>-0.041606</td>\n",
       "      <td>-0.115689</td>\n",
       "      <td>-0.118054</td>\n",
       "      <td>0.023530</td>\n",
       "    </tr>\n",
       "    <tr>\n",
       "      <th>motherBornUS</th>\n",
       "      <td>-0.072814</td>\n",
       "      <td>0.015107</td>\n",
       "      <td>0.111684</td>\n",
       "      <td>0.012359</td>\n",
       "      <td>0.343146</td>\n",
       "      <td>0.146741</td>\n",
       "      <td>0.096057</td>\n",
       "      <td>0.279932</td>\n",
       "      <td>0.081497</td>\n",
       "      <td>-0.008205</td>\n",
       "      <td>0.461652</td>\n",
       "      <td>1.000000</td>\n",
       "      <td>0.781642</td>\n",
       "      <td>0.644713</td>\n",
       "      <td>0.035398</td>\n",
       "      <td>-0.013966</td>\n",
       "      <td>0.017809</td>\n",
       "      <td>-0.095075</td>\n",
       "      <td>-0.005134</td>\n",
       "      <td>0.012995</td>\n",
       "      <td>-0.279346</td>\n",
       "      <td>-0.246404</td>\n",
       "      <td>0.062846</td>\n",
       "    </tr>\n",
       "    <tr>\n",
       "      <th>fatherBornUS</th>\n",
       "      <td>-0.063530</td>\n",
       "      <td>0.008212</td>\n",
       "      <td>0.112208</td>\n",
       "      <td>0.015281</td>\n",
       "      <td>0.336373</td>\n",
       "      <td>0.125661</td>\n",
       "      <td>0.096592</td>\n",
       "      <td>0.308128</td>\n",
       "      <td>0.091718</td>\n",
       "      <td>-0.004942</td>\n",
       "      <td>0.443246</td>\n",
       "      <td>0.781642</td>\n",
       "      <td>1.000000</td>\n",
       "      <td>0.622450</td>\n",
       "      <td>0.046293</td>\n",
       "      <td>0.002678</td>\n",
       "      <td>0.010291</td>\n",
       "      <td>-0.089547</td>\n",
       "      <td>-0.001739</td>\n",
       "      <td>0.021946</td>\n",
       "      <td>-0.294307</td>\n",
       "      <td>-0.258301</td>\n",
       "      <td>0.088670</td>\n",
       "    </tr>\n",
       "    <tr>\n",
       "      <th>englishAtHome</th>\n",
       "      <td>-0.025675</td>\n",
       "      <td>-0.009790</td>\n",
       "      <td>0.120480</td>\n",
       "      <td>0.044169</td>\n",
       "      <td>0.374486</td>\n",
       "      <td>0.169733</td>\n",
       "      <td>0.128595</td>\n",
       "      <td>0.324131</td>\n",
       "      <td>0.138824</td>\n",
       "      <td>0.022521</td>\n",
       "      <td>0.456103</td>\n",
       "      <td>0.644713</td>\n",
       "      <td>0.622450</td>\n",
       "      <td>1.000000</td>\n",
       "      <td>0.090044</td>\n",
       "      <td>-0.004536</td>\n",
       "      <td>-0.011085</td>\n",
       "      <td>-0.068254</td>\n",
       "      <td>-0.011153</td>\n",
       "      <td>-0.042673</td>\n",
       "      <td>-0.218851</td>\n",
       "      <td>-0.203584</td>\n",
       "      <td>0.126018</td>\n",
       "    </tr>\n",
       "    <tr>\n",
       "      <th>computerForSchoolwork</th>\n",
       "      <td>0.112157</td>\n",
       "      <td>-0.015485</td>\n",
       "      <td>0.076612</td>\n",
       "      <td>0.130413</td>\n",
       "      <td>0.187951</td>\n",
       "      <td>0.146681</td>\n",
       "      <td>0.083805</td>\n",
       "      <td>0.173284</td>\n",
       "      <td>0.174256</td>\n",
       "      <td>0.078806</td>\n",
       "      <td>0.027402</td>\n",
       "      <td>0.035398</td>\n",
       "      <td>0.046293</td>\n",
       "      <td>0.090044</td>\n",
       "      <td>1.000000</td>\n",
       "      <td>-0.028378</td>\n",
       "      <td>-0.001737</td>\n",
       "      <td>0.056054</td>\n",
       "      <td>-0.010667</td>\n",
       "      <td>-0.074832</td>\n",
       "      <td>0.020981</td>\n",
       "      <td>0.067300</td>\n",
       "      <td>0.190425</td>\n",
       "    </tr>\n",
       "    <tr>\n",
       "      <th>read30MinsADay</th>\n",
       "      <td>0.065008</td>\n",
       "      <td>-0.220103</td>\n",
       "      <td>-0.008649</td>\n",
       "      <td>0.135002</td>\n",
       "      <td>0.011641</td>\n",
       "      <td>0.021138</td>\n",
       "      <td>-0.049956</td>\n",
       "      <td>0.032457</td>\n",
       "      <td>0.047728</td>\n",
       "      <td>-0.012103</td>\n",
       "      <td>-0.013808</td>\n",
       "      <td>-0.013966</td>\n",
       "      <td>0.002678</td>\n",
       "      <td>-0.004536</td>\n",
       "      <td>-0.028378</td>\n",
       "      <td>1.000000</td>\n",
       "      <td>0.012495</td>\n",
       "      <td>0.006866</td>\n",
       "      <td>0.021687</td>\n",
       "      <td>0.006983</td>\n",
       "      <td>0.023078</td>\n",
       "      <td>-0.011673</td>\n",
       "      <td>0.247221</td>\n",
       "    </tr>\n",
       "    <tr>\n",
       "      <th>minutesPerWeekEnglish</th>\n",
       "      <td>0.028157</td>\n",
       "      <td>0.010700</td>\n",
       "      <td>-0.015110</td>\n",
       "      <td>0.018364</td>\n",
       "      <td>0.019021</td>\n",
       "      <td>0.023004</td>\n",
       "      <td>0.009103</td>\n",
       "      <td>0.041421</td>\n",
       "      <td>0.007736</td>\n",
       "      <td>0.030462</td>\n",
       "      <td>0.004910</td>\n",
       "      <td>0.017809</td>\n",
       "      <td>0.010291</td>\n",
       "      <td>-0.011085</td>\n",
       "      <td>-0.001737</td>\n",
       "      <td>0.012495</td>\n",
       "      <td>1.000000</td>\n",
       "      <td>0.050963</td>\n",
       "      <td>-0.003731</td>\n",
       "      <td>0.053556</td>\n",
       "      <td>-0.051268</td>\n",
       "      <td>0.007183</td>\n",
       "      <td>0.067823</td>\n",
       "    </tr>\n",
       "    <tr>\n",
       "      <th>studentsInEnglish</th>\n",
       "      <td>0.085289</td>\n",
       "      <td>-0.025404</td>\n",
       "      <td>-0.027114</td>\n",
       "      <td>0.050988</td>\n",
       "      <td>-0.036948</td>\n",
       "      <td>-0.041765</td>\n",
       "      <td>-0.032115</td>\n",
       "      <td>-0.007217</td>\n",
       "      <td>-0.019529</td>\n",
       "      <td>-0.000204</td>\n",
       "      <td>-0.033958</td>\n",
       "      <td>-0.095075</td>\n",
       "      <td>-0.089547</td>\n",
       "      <td>-0.068254</td>\n",
       "      <td>0.056054</td>\n",
       "      <td>0.006866</td>\n",
       "      <td>0.050963</td>\n",
       "      <td>1.000000</td>\n",
       "      <td>0.078381</td>\n",
       "      <td>0.081880</td>\n",
       "      <td>0.160524</td>\n",
       "      <td>0.258792</td>\n",
       "      <td>0.034653</td>\n",
       "    </tr>\n",
       "    <tr>\n",
       "      <th>schoolHasLibrary</th>\n",
       "      <td>-0.026542</td>\n",
       "      <td>0.032114</td>\n",
       "      <td>0.036506</td>\n",
       "      <td>0.072164</td>\n",
       "      <td>0.012129</td>\n",
       "      <td>0.022990</td>\n",
       "      <td>-0.011439</td>\n",
       "      <td>0.030027</td>\n",
       "      <td>0.017605</td>\n",
       "      <td>-0.012325</td>\n",
       "      <td>-0.008027</td>\n",
       "      <td>-0.005134</td>\n",
       "      <td>-0.001739</td>\n",
       "      <td>-0.011153</td>\n",
       "      <td>-0.010667</td>\n",
       "      <td>0.021687</td>\n",
       "      <td>-0.003731</td>\n",
       "      <td>0.078381</td>\n",
       "      <td>1.000000</td>\n",
       "      <td>0.059391</td>\n",
       "      <td>-0.116804</td>\n",
       "      <td>0.037762</td>\n",
       "      <td>0.038150</td>\n",
       "    </tr>\n",
       "    <tr>\n",
       "      <th>publicSchool</th>\n",
       "      <td>-0.063972</td>\n",
       "      <td>-0.075466</td>\n",
       "      <td>-0.070919</td>\n",
       "      <td>-0.112698</td>\n",
       "      <td>-0.067646</td>\n",
       "      <td>-0.161796</td>\n",
       "      <td>-0.036711</td>\n",
       "      <td>-0.080654</td>\n",
       "      <td>-0.176680</td>\n",
       "      <td>-0.023248</td>\n",
       "      <td>-0.041606</td>\n",
       "      <td>0.012995</td>\n",
       "      <td>0.021946</td>\n",
       "      <td>-0.042673</td>\n",
       "      <td>-0.074832</td>\n",
       "      <td>0.006983</td>\n",
       "      <td>0.053556</td>\n",
       "      <td>0.081880</td>\n",
       "      <td>0.059391</td>\n",
       "      <td>1.000000</td>\n",
       "      <td>-0.277477</td>\n",
       "      <td>0.234745</td>\n",
       "      <td>-0.133654</td>\n",
       "    </tr>\n",
       "    <tr>\n",
       "      <th>urban</th>\n",
       "      <td>0.076277</td>\n",
       "      <td>0.036377</td>\n",
       "      <td>-0.053684</td>\n",
       "      <td>-0.004022</td>\n",
       "      <td>-0.117988</td>\n",
       "      <td>-0.048131</td>\n",
       "      <td>-0.012350</td>\n",
       "      <td>-0.098083</td>\n",
       "      <td>-0.018506</td>\n",
       "      <td>-0.039698</td>\n",
       "      <td>-0.115689</td>\n",
       "      <td>-0.279346</td>\n",
       "      <td>-0.294307</td>\n",
       "      <td>-0.218851</td>\n",
       "      <td>0.020981</td>\n",
       "      <td>0.023078</td>\n",
       "      <td>-0.051268</td>\n",
       "      <td>0.160524</td>\n",
       "      <td>-0.116804</td>\n",
       "      <td>-0.277477</td>\n",
       "      <td>1.000000</td>\n",
       "      <td>0.326483</td>\n",
       "      <td>-0.064194</td>\n",
       "    </tr>\n",
       "    <tr>\n",
       "      <th>schoolSize</th>\n",
       "      <td>0.067454</td>\n",
       "      <td>0.012921</td>\n",
       "      <td>-0.032582</td>\n",
       "      <td>0.016164</td>\n",
       "      <td>-0.084460</td>\n",
       "      <td>-0.011638</td>\n",
       "      <td>-0.039499</td>\n",
       "      <td>-0.080115</td>\n",
       "      <td>0.019602</td>\n",
       "      <td>-0.023414</td>\n",
       "      <td>-0.118054</td>\n",
       "      <td>-0.246404</td>\n",
       "      <td>-0.258301</td>\n",
       "      <td>-0.203584</td>\n",
       "      <td>0.067300</td>\n",
       "      <td>-0.011673</td>\n",
       "      <td>0.007183</td>\n",
       "      <td>0.258792</td>\n",
       "      <td>0.037762</td>\n",
       "      <td>0.234745</td>\n",
       "      <td>0.326483</td>\n",
       "      <td>1.000000</td>\n",
       "      <td>0.026948</td>\n",
       "    </tr>\n",
       "    <tr>\n",
       "      <th>readingScore</th>\n",
       "      <td>0.286752</td>\n",
       "      <td>-0.153928</td>\n",
       "      <td>0.040537</td>\n",
       "      <td>0.360144</td>\n",
       "      <td>0.156488</td>\n",
       "      <td>0.214240</td>\n",
       "      <td>0.043401</td>\n",
       "      <td>0.175464</td>\n",
       "      <td>0.266236</td>\n",
       "      <td>0.070423</td>\n",
       "      <td>0.023530</td>\n",
       "      <td>0.062846</td>\n",
       "      <td>0.088670</td>\n",
       "      <td>0.126018</td>\n",
       "      <td>0.190425</td>\n",
       "      <td>0.247221</td>\n",
       "      <td>0.067823</td>\n",
       "      <td>0.034653</td>\n",
       "      <td>0.038150</td>\n",
       "      <td>-0.133654</td>\n",
       "      <td>-0.064194</td>\n",
       "      <td>0.026948</td>\n",
       "      <td>1.000000</td>\n",
       "    </tr>\n",
       "  </tbody>\n",
       "</table>\n",
       "</div>"
      ],
      "text/plain": [
       "                          grade      male  preschool  expectBachelors  ...  publicSchool     urban  schoolSize  readingScore\n",
       "grade                  1.000000 -0.097677  -0.023262         0.140200  ...     -0.063972  0.076277    0.067454      0.286752\n",
       "male                  -0.097677  1.000000   0.014807        -0.078029  ...     -0.075466  0.036377    0.012921     -0.153928\n",
       "preschool             -0.023262  0.014807   1.000000         0.076046  ...     -0.070919 -0.053684   -0.032582      0.040537\n",
       "expectBachelors        0.140200 -0.078029   0.076046         1.000000  ...     -0.112698 -0.004022    0.016164      0.360144\n",
       "motherHS               0.005461  0.030586   0.141552         0.104886  ...     -0.067646 -0.117988   -0.084460      0.156488\n",
       "motherBachelors        0.043171  0.074250   0.151832         0.168330  ...     -0.161796 -0.048131   -0.011638      0.214240\n",
       "motherWork             0.019385 -0.011641   0.069249         0.069366  ...     -0.036711 -0.012350   -0.039499      0.043401\n",
       "fatherHS               0.046210  0.017784   0.117443         0.156028  ...     -0.080654 -0.098083   -0.080115      0.175464\n",
       "fatherBachelors        0.061713  0.076257   0.141418         0.199217  ...     -0.176680 -0.018506    0.019602      0.266236\n",
       "fatherWork             0.012731  0.030614   0.065079         0.003122  ...     -0.023248 -0.039698   -0.023414      0.070423\n",
       "selfBornUS            -0.022154  0.022550   0.092893        -0.010330  ...     -0.041606 -0.115689   -0.118054      0.023530\n",
       "motherBornUS          -0.072814  0.015107   0.111684         0.012359  ...      0.012995 -0.279346   -0.246404      0.062846\n",
       "fatherBornUS          -0.063530  0.008212   0.112208         0.015281  ...      0.021946 -0.294307   -0.258301      0.088670\n",
       "englishAtHome         -0.025675 -0.009790   0.120480         0.044169  ...     -0.042673 -0.218851   -0.203584      0.126018\n",
       "computerForSchoolwork  0.112157 -0.015485   0.076612         0.130413  ...     -0.074832  0.020981    0.067300      0.190425\n",
       "read30MinsADay         0.065008 -0.220103  -0.008649         0.135002  ...      0.006983  0.023078   -0.011673      0.247221\n",
       "minutesPerWeekEnglish  0.028157  0.010700  -0.015110         0.018364  ...      0.053556 -0.051268    0.007183      0.067823\n",
       "studentsInEnglish      0.085289 -0.025404  -0.027114         0.050988  ...      0.081880  0.160524    0.258792      0.034653\n",
       "schoolHasLibrary      -0.026542  0.032114   0.036506         0.072164  ...      0.059391 -0.116804    0.037762      0.038150\n",
       "publicSchool          -0.063972 -0.075466  -0.070919        -0.112698  ...      1.000000 -0.277477    0.234745     -0.133654\n",
       "urban                  0.076277  0.036377  -0.053684        -0.004022  ...     -0.277477  1.000000    0.326483     -0.064194\n",
       "schoolSize             0.067454  0.012921  -0.032582         0.016164  ...      0.234745  0.326483    1.000000      0.026948\n",
       "readingScore           0.286752 -0.153928   0.040537         0.360144  ...     -0.133654 -0.064194    0.026948      1.000000\n",
       "\n",
       "[23 rows x 23 columns]"
      ]
     },
     "execution_count": 49,
     "metadata": {},
     "output_type": "execute_result"
    }
   ],
   "source": [
    "pisatrain.corr()"
   ]
  },
  {
   "cell_type": "code",
   "execution_count": 54,
   "metadata": {},
   "outputs": [
    {
     "data": {
      "text/plain": [
       "7"
      ]
     },
     "execution_count": 54,
     "metadata": {},
     "output_type": "execute_result"
    }
   ],
   "source": [
    "pisatrain['raceeth'].nunique()"
   ]
  },
  {
   "cell_type": "code",
   "execution_count": 137,
   "metadata": {},
   "outputs": [],
   "source": [
    "dummy=pd.get_dummies(pisatrain1['raceeth'],drop_first=True)"
   ]
  },
  {
   "cell_type": "code",
   "execution_count": 110,
   "metadata": {},
   "outputs": [
    {
     "data": {
      "text/html": [
       "<div>\n",
       "<style scoped>\n",
       "    .dataframe tbody tr th:only-of-type {\n",
       "        vertical-align: middle;\n",
       "    }\n",
       "\n",
       "    .dataframe tbody tr th {\n",
       "        vertical-align: top;\n",
       "    }\n",
       "\n",
       "    .dataframe thead th {\n",
       "        text-align: right;\n",
       "    }\n",
       "</style>\n",
       "<table border=\"1\" class=\"dataframe\">\n",
       "  <thead>\n",
       "    <tr style=\"text-align: right;\">\n",
       "      <th></th>\n",
       "      <th>grade</th>\n",
       "      <th>male</th>\n",
       "      <th>raceeth</th>\n",
       "      <th>preschool</th>\n",
       "      <th>expectBachelors</th>\n",
       "      <th>motherHS</th>\n",
       "      <th>motherBachelors</th>\n",
       "      <th>motherWork</th>\n",
       "      <th>fatherHS</th>\n",
       "      <th>fatherBachelors</th>\n",
       "      <th>fatherWork</th>\n",
       "      <th>selfBornUS</th>\n",
       "      <th>motherBornUS</th>\n",
       "      <th>fatherBornUS</th>\n",
       "      <th>englishAtHome</th>\n",
       "      <th>computerForSchoolwork</th>\n",
       "      <th>read30MinsADay</th>\n",
       "      <th>minutesPerWeekEnglish</th>\n",
       "      <th>studentsInEnglish</th>\n",
       "      <th>schoolHasLibrary</th>\n",
       "      <th>publicSchool</th>\n",
       "      <th>urban</th>\n",
       "      <th>schoolSize</th>\n",
       "      <th>readingScore</th>\n",
       "    </tr>\n",
       "  </thead>\n",
       "  <tbody>\n",
       "    <tr>\n",
       "      <th>1</th>\n",
       "      <td>11</td>\n",
       "      <td>1</td>\n",
       "      <td>White</td>\n",
       "      <td>0.0</td>\n",
       "      <td>0.0</td>\n",
       "      <td>1.0</td>\n",
       "      <td>1.0</td>\n",
       "      <td>1.0</td>\n",
       "      <td>1.0</td>\n",
       "      <td>0.0</td>\n",
       "      <td>1.0</td>\n",
       "      <td>1.0</td>\n",
       "      <td>1.0</td>\n",
       "      <td>1.0</td>\n",
       "      <td>1.0</td>\n",
       "      <td>1.0</td>\n",
       "      <td>1.0</td>\n",
       "      <td>450.0</td>\n",
       "      <td>25.0</td>\n",
       "      <td>1.0</td>\n",
       "      <td>1</td>\n",
       "      <td>0</td>\n",
       "      <td>1173.0</td>\n",
       "      <td>575.01</td>\n",
       "    </tr>\n",
       "    <tr>\n",
       "      <th>3</th>\n",
       "      <td>10</td>\n",
       "      <td>0</td>\n",
       "      <td>Black</td>\n",
       "      <td>1.0</td>\n",
       "      <td>1.0</td>\n",
       "      <td>0.0</td>\n",
       "      <td>0.0</td>\n",
       "      <td>1.0</td>\n",
       "      <td>1.0</td>\n",
       "      <td>0.0</td>\n",
       "      <td>1.0</td>\n",
       "      <td>1.0</td>\n",
       "      <td>1.0</td>\n",
       "      <td>1.0</td>\n",
       "      <td>1.0</td>\n",
       "      <td>1.0</td>\n",
       "      <td>1.0</td>\n",
       "      <td>200.0</td>\n",
       "      <td>23.0</td>\n",
       "      <td>1.0</td>\n",
       "      <td>1</td>\n",
       "      <td>1</td>\n",
       "      <td>2640.0</td>\n",
       "      <td>458.11</td>\n",
       "    </tr>\n",
       "    <tr>\n",
       "      <th>4</th>\n",
       "      <td>10</td>\n",
       "      <td>1</td>\n",
       "      <td>Hispanic</td>\n",
       "      <td>1.0</td>\n",
       "      <td>0.0</td>\n",
       "      <td>1.0</td>\n",
       "      <td>0.0</td>\n",
       "      <td>1.0</td>\n",
       "      <td>1.0</td>\n",
       "      <td>0.0</td>\n",
       "      <td>0.0</td>\n",
       "      <td>1.0</td>\n",
       "      <td>1.0</td>\n",
       "      <td>0.0</td>\n",
       "      <td>1.0</td>\n",
       "      <td>1.0</td>\n",
       "      <td>1.0</td>\n",
       "      <td>250.0</td>\n",
       "      <td>35.0</td>\n",
       "      <td>1.0</td>\n",
       "      <td>1</td>\n",
       "      <td>1</td>\n",
       "      <td>1095.0</td>\n",
       "      <td>613.89</td>\n",
       "    </tr>\n",
       "    <tr>\n",
       "      <th>7</th>\n",
       "      <td>10</td>\n",
       "      <td>0</td>\n",
       "      <td>White</td>\n",
       "      <td>1.0</td>\n",
       "      <td>1.0</td>\n",
       "      <td>1.0</td>\n",
       "      <td>0.0</td>\n",
       "      <td>0.0</td>\n",
       "      <td>1.0</td>\n",
       "      <td>0.0</td>\n",
       "      <td>1.0</td>\n",
       "      <td>1.0</td>\n",
       "      <td>1.0</td>\n",
       "      <td>1.0</td>\n",
       "      <td>1.0</td>\n",
       "      <td>1.0</td>\n",
       "      <td>1.0</td>\n",
       "      <td>300.0</td>\n",
       "      <td>30.0</td>\n",
       "      <td>1.0</td>\n",
       "      <td>1</td>\n",
       "      <td>0</td>\n",
       "      <td>1913.0</td>\n",
       "      <td>439.36</td>\n",
       "    </tr>\n",
       "    <tr>\n",
       "      <th>9</th>\n",
       "      <td>10</td>\n",
       "      <td>1</td>\n",
       "      <td>More than one race</td>\n",
       "      <td>1.0</td>\n",
       "      <td>1.0</td>\n",
       "      <td>1.0</td>\n",
       "      <td>1.0</td>\n",
       "      <td>1.0</td>\n",
       "      <td>0.0</td>\n",
       "      <td>0.0</td>\n",
       "      <td>1.0</td>\n",
       "      <td>1.0</td>\n",
       "      <td>1.0</td>\n",
       "      <td>1.0</td>\n",
       "      <td>1.0</td>\n",
       "      <td>1.0</td>\n",
       "      <td>0.0</td>\n",
       "      <td>294.0</td>\n",
       "      <td>24.0</td>\n",
       "      <td>1.0</td>\n",
       "      <td>1</td>\n",
       "      <td>0</td>\n",
       "      <td>899.0</td>\n",
       "      <td>465.90</td>\n",
       "    </tr>\n",
       "  </tbody>\n",
       "</table>\n",
       "</div>"
      ],
      "text/plain": [
       "   grade  male             raceeth  preschool  ...  publicSchool  urban  schoolSize  readingScore\n",
       "1     11     1               White        0.0  ...             1      0      1173.0        575.01\n",
       "3     10     0               Black        1.0  ...             1      1      2640.0        458.11\n",
       "4     10     1            Hispanic        1.0  ...             1      1      1095.0        613.89\n",
       "7     10     0               White        1.0  ...             1      0      1913.0        439.36\n",
       "9     10     1  More than one race        1.0  ...             1      0       899.0        465.90\n",
       "\n",
       "[5 rows x 24 columns]"
      ]
     },
     "execution_count": 110,
     "metadata": {},
     "output_type": "execute_result"
    }
   ],
   "source": [
    "pisatrain1.head()"
   ]
  },
  {
   "cell_type": "code",
   "execution_count": 138,
   "metadata": {},
   "outputs": [],
   "source": [
    "pisatrain1_dummy=pd.concat([pisatrain1,dummy],axis=1)"
   ]
  },
  {
   "cell_type": "code",
   "execution_count": 112,
   "metadata": {},
   "outputs": [
    {
     "data": {
      "text/plain": [
       "pandas.core.frame.DataFrame"
      ]
     },
     "execution_count": 112,
     "metadata": {},
     "output_type": "execute_result"
    }
   ],
   "source": [
    "type(pisatrain1_dummy)"
   ]
  },
  {
   "cell_type": "code",
   "execution_count": 139,
   "metadata": {},
   "outputs": [],
   "source": [
    "pisatrain1_dummy=pisatrain1_dummy.drop('raceeth',axis=1)"
   ]
  },
  {
   "cell_type": "code",
   "execution_count": 114,
   "metadata": {},
   "outputs": [
    {
     "data": {
      "text/html": [
       "<div>\n",
       "<style scoped>\n",
       "    .dataframe tbody tr th:only-of-type {\n",
       "        vertical-align: middle;\n",
       "    }\n",
       "\n",
       "    .dataframe tbody tr th {\n",
       "        vertical-align: top;\n",
       "    }\n",
       "\n",
       "    .dataframe thead th {\n",
       "        text-align: right;\n",
       "    }\n",
       "</style>\n",
       "<table border=\"1\" class=\"dataframe\">\n",
       "  <thead>\n",
       "    <tr style=\"text-align: right;\">\n",
       "      <th></th>\n",
       "      <th>grade</th>\n",
       "      <th>male</th>\n",
       "      <th>preschool</th>\n",
       "      <th>expectBachelors</th>\n",
       "      <th>motherHS</th>\n",
       "      <th>motherBachelors</th>\n",
       "      <th>motherWork</th>\n",
       "      <th>fatherHS</th>\n",
       "      <th>fatherBachelors</th>\n",
       "      <th>fatherWork</th>\n",
       "      <th>selfBornUS</th>\n",
       "      <th>motherBornUS</th>\n",
       "      <th>fatherBornUS</th>\n",
       "      <th>englishAtHome</th>\n",
       "      <th>computerForSchoolwork</th>\n",
       "      <th>read30MinsADay</th>\n",
       "      <th>minutesPerWeekEnglish</th>\n",
       "      <th>studentsInEnglish</th>\n",
       "      <th>schoolHasLibrary</th>\n",
       "      <th>publicSchool</th>\n",
       "      <th>urban</th>\n",
       "      <th>schoolSize</th>\n",
       "      <th>readingScore</th>\n",
       "      <th>Asian</th>\n",
       "      <th>Black</th>\n",
       "      <th>Hispanic</th>\n",
       "      <th>More than one race</th>\n",
       "      <th>Native Hawaiian/Other Pacific Islander</th>\n",
       "      <th>White</th>\n",
       "    </tr>\n",
       "  </thead>\n",
       "  <tbody>\n",
       "    <tr>\n",
       "      <th>1</th>\n",
       "      <td>11</td>\n",
       "      <td>1</td>\n",
       "      <td>0.0</td>\n",
       "      <td>0.0</td>\n",
       "      <td>1.0</td>\n",
       "      <td>1.0</td>\n",
       "      <td>1.0</td>\n",
       "      <td>1.0</td>\n",
       "      <td>0.0</td>\n",
       "      <td>1.0</td>\n",
       "      <td>1.0</td>\n",
       "      <td>1.0</td>\n",
       "      <td>1.0</td>\n",
       "      <td>1.0</td>\n",
       "      <td>1.0</td>\n",
       "      <td>1.0</td>\n",
       "      <td>450.0</td>\n",
       "      <td>25.0</td>\n",
       "      <td>1.0</td>\n",
       "      <td>1</td>\n",
       "      <td>0</td>\n",
       "      <td>1173.0</td>\n",
       "      <td>575.01</td>\n",
       "      <td>0</td>\n",
       "      <td>0</td>\n",
       "      <td>0</td>\n",
       "      <td>0</td>\n",
       "      <td>0</td>\n",
       "      <td>1</td>\n",
       "    </tr>\n",
       "    <tr>\n",
       "      <th>3</th>\n",
       "      <td>10</td>\n",
       "      <td>0</td>\n",
       "      <td>1.0</td>\n",
       "      <td>1.0</td>\n",
       "      <td>0.0</td>\n",
       "      <td>0.0</td>\n",
       "      <td>1.0</td>\n",
       "      <td>1.0</td>\n",
       "      <td>0.0</td>\n",
       "      <td>1.0</td>\n",
       "      <td>1.0</td>\n",
       "      <td>1.0</td>\n",
       "      <td>1.0</td>\n",
       "      <td>1.0</td>\n",
       "      <td>1.0</td>\n",
       "      <td>1.0</td>\n",
       "      <td>200.0</td>\n",
       "      <td>23.0</td>\n",
       "      <td>1.0</td>\n",
       "      <td>1</td>\n",
       "      <td>1</td>\n",
       "      <td>2640.0</td>\n",
       "      <td>458.11</td>\n",
       "      <td>0</td>\n",
       "      <td>1</td>\n",
       "      <td>0</td>\n",
       "      <td>0</td>\n",
       "      <td>0</td>\n",
       "      <td>0</td>\n",
       "    </tr>\n",
       "    <tr>\n",
       "      <th>4</th>\n",
       "      <td>10</td>\n",
       "      <td>1</td>\n",
       "      <td>1.0</td>\n",
       "      <td>0.0</td>\n",
       "      <td>1.0</td>\n",
       "      <td>0.0</td>\n",
       "      <td>1.0</td>\n",
       "      <td>1.0</td>\n",
       "      <td>0.0</td>\n",
       "      <td>0.0</td>\n",
       "      <td>1.0</td>\n",
       "      <td>1.0</td>\n",
       "      <td>0.0</td>\n",
       "      <td>1.0</td>\n",
       "      <td>1.0</td>\n",
       "      <td>1.0</td>\n",
       "      <td>250.0</td>\n",
       "      <td>35.0</td>\n",
       "      <td>1.0</td>\n",
       "      <td>1</td>\n",
       "      <td>1</td>\n",
       "      <td>1095.0</td>\n",
       "      <td>613.89</td>\n",
       "      <td>0</td>\n",
       "      <td>0</td>\n",
       "      <td>1</td>\n",
       "      <td>0</td>\n",
       "      <td>0</td>\n",
       "      <td>0</td>\n",
       "    </tr>\n",
       "    <tr>\n",
       "      <th>7</th>\n",
       "      <td>10</td>\n",
       "      <td>0</td>\n",
       "      <td>1.0</td>\n",
       "      <td>1.0</td>\n",
       "      <td>1.0</td>\n",
       "      <td>0.0</td>\n",
       "      <td>0.0</td>\n",
       "      <td>1.0</td>\n",
       "      <td>0.0</td>\n",
       "      <td>1.0</td>\n",
       "      <td>1.0</td>\n",
       "      <td>1.0</td>\n",
       "      <td>1.0</td>\n",
       "      <td>1.0</td>\n",
       "      <td>1.0</td>\n",
       "      <td>1.0</td>\n",
       "      <td>300.0</td>\n",
       "      <td>30.0</td>\n",
       "      <td>1.0</td>\n",
       "      <td>1</td>\n",
       "      <td>0</td>\n",
       "      <td>1913.0</td>\n",
       "      <td>439.36</td>\n",
       "      <td>0</td>\n",
       "      <td>0</td>\n",
       "      <td>0</td>\n",
       "      <td>0</td>\n",
       "      <td>0</td>\n",
       "      <td>1</td>\n",
       "    </tr>\n",
       "    <tr>\n",
       "      <th>9</th>\n",
       "      <td>10</td>\n",
       "      <td>1</td>\n",
       "      <td>1.0</td>\n",
       "      <td>1.0</td>\n",
       "      <td>1.0</td>\n",
       "      <td>1.0</td>\n",
       "      <td>1.0</td>\n",
       "      <td>0.0</td>\n",
       "      <td>0.0</td>\n",
       "      <td>1.0</td>\n",
       "      <td>1.0</td>\n",
       "      <td>1.0</td>\n",
       "      <td>1.0</td>\n",
       "      <td>1.0</td>\n",
       "      <td>1.0</td>\n",
       "      <td>0.0</td>\n",
       "      <td>294.0</td>\n",
       "      <td>24.0</td>\n",
       "      <td>1.0</td>\n",
       "      <td>1</td>\n",
       "      <td>0</td>\n",
       "      <td>899.0</td>\n",
       "      <td>465.90</td>\n",
       "      <td>0</td>\n",
       "      <td>0</td>\n",
       "      <td>0</td>\n",
       "      <td>1</td>\n",
       "      <td>0</td>\n",
       "      <td>0</td>\n",
       "    </tr>\n",
       "  </tbody>\n",
       "</table>\n",
       "</div>"
      ],
      "text/plain": [
       "   grade  male  preschool  expectBachelors  ...  Hispanic  More than one race  Native Hawaiian/Other Pacific Islander  White\n",
       "1     11     1        0.0              0.0  ...         0                   0                                       0      1\n",
       "3     10     0        1.0              1.0  ...         0                   0                                       0      0\n",
       "4     10     1        1.0              0.0  ...         1                   0                                       0      0\n",
       "7     10     0        1.0              1.0  ...         0                   0                                       0      1\n",
       "9     10     1        1.0              1.0  ...         0                   1                                       0      0\n",
       "\n",
       "[5 rows x 29 columns]"
      ]
     },
     "execution_count": 114,
     "metadata": {},
     "output_type": "execute_result"
    }
   ],
   "source": [
    "pisatrain1_dummy.head()"
   ]
  },
  {
   "cell_type": "code",
   "execution_count": 140,
   "metadata": {},
   "outputs": [],
   "source": [
    "x=pisatrain1_dummy.drop('readingScore',axis=1)"
   ]
  },
  {
   "cell_type": "code",
   "execution_count": 141,
   "metadata": {},
   "outputs": [],
   "source": [
    "y=pisatrain1_dummy['readingScore']"
   ]
  },
  {
   "cell_type": "code",
   "execution_count": 142,
   "metadata": {},
   "outputs": [],
   "source": [
    "lm=LinearRegression()"
   ]
  },
  {
   "cell_type": "code",
   "execution_count": 143,
   "metadata": {},
   "outputs": [
    {
     "data": {
      "text/plain": [
       "LinearRegression(copy_X=True, fit_intercept=True, n_jobs=None,\n",
       "         normalize=False)"
      ]
     },
     "execution_count": 143,
     "metadata": {},
     "output_type": "execute_result"
    }
   ],
   "source": [
    "lm.fit(x,y)"
   ]
  },
  {
   "cell_type": "code",
   "execution_count": 144,
   "metadata": {},
   "outputs": [
    {
     "name": "stdout",
     "output_type": "stream",
     "text": [
      "intercept: 76.48900632875143 coefficeints [ 2.95427071e+01 -1.45216535e+01 -4.46367032e+00  5.52670801e+01\n",
      "  6.05877432e+00  1.26380678e+01 -2.80910060e+00  4.01821353e+00\n",
      "  1.69297547e+01  5.84279834e+00 -3.80627792e+00 -8.79815308e+00\n",
      "  4.30699432e+00  8.03568537e+00  2.25002323e+01  3.48719242e+01\n",
      "  1.27884515e-02 -2.86630774e-01  1.22150850e+01 -1.68574750e+01\n",
      " -1.10131762e-01  6.54038148e-03  6.31670019e+01  2.64980050e-01\n",
      "  2.83018415e+01  5.03548051e+01  6.21757262e+01  6.72773271e+01]\n"
     ]
    }
   ],
   "source": [
    "print('intercept:',lm.intercept_,'coefficeints',lm.coef_)"
   ]
  },
  {
   "cell_type": "code",
   "execution_count": 145,
   "metadata": {},
   "outputs": [],
   "source": [
    "pred=lm.predict(x)"
   ]
  },
  {
   "cell_type": "code",
   "execution_count": 146,
   "metadata": {},
   "outputs": [
    {
     "data": {
      "text/plain": [
       "0.3251433559213568"
      ]
     },
     "execution_count": 146,
     "metadata": {},
     "output_type": "execute_result"
    }
   ],
   "source": [
    "r2_score(y,pred)"
   ]
  },
  {
   "cell_type": "code",
   "execution_count": 147,
   "metadata": {},
   "outputs": [
    {
     "data": {
      "text/plain": [
       "5382.5041370658955"
      ]
     },
     "execution_count": 147,
     "metadata": {},
     "output_type": "execute_result"
    }
   ],
   "source": [
    "metrics.mean_squared_error(y,pred)"
   ]
  },
  {
   "cell_type": "code",
   "execution_count": 148,
   "metadata": {},
   "outputs": [
    {
     "data": {
      "text/plain": [
       "73.3655514329845"
      ]
     },
     "execution_count": 148,
     "metadata": {},
     "output_type": "execute_result"
    }
   ],
   "source": [
    "np.sqrt(metrics.mean_squared_error(y,pred))"
   ]
  },
  {
   "cell_type": "code",
   "execution_count": 164,
   "metadata": {},
   "outputs": [
    {
     "data": {
      "text/plain": [
       "array(['White', 'Black', 'Hispanic', 'More than one race',\n",
       "       'American Indian/Alaska Native', 'Asian',\n",
       "       'Native Hawaiian/Other Pacific Islander'], dtype=object)"
      ]
     },
     "execution_count": 164,
     "metadata": {},
     "output_type": "execute_result"
    }
   ],
   "source": [
    "pisatrain1['raceeth'].unique()"
   ]
  },
  {
   "cell_type": "code",
   "execution_count": 165,
   "metadata": {},
   "outputs": [
    {
     "name": "stderr",
     "output_type": "stream",
     "text": [
      "C:\\ProgramData\\Anaconda3\\lib\\site-packages\\numpy\\core\\fromnumeric.py:2389: FutureWarning: Method .ptp is deprecated and will be removed in a future version. Use numpy.ptp instead.\n",
      "  return ptp(axis=axis, out=out, **kwargs)\n"
     ]
    }
   ],
   "source": [
    "x2=add_constant(x)"
   ]
  },
  {
   "cell_type": "code",
   "execution_count": 167,
   "metadata": {},
   "outputs": [],
   "source": [
    "lm=sm.OLS(y,x2)"
   ]
  },
  {
   "cell_type": "code",
   "execution_count": 168,
   "metadata": {},
   "outputs": [],
   "source": [
    "lm2=lm.fit()"
   ]
  },
  {
   "cell_type": "code",
   "execution_count": 169,
   "metadata": {},
   "outputs": [
    {
     "data": {
      "text/plain": [
       "const                                     4.042509e-02\n",
       "grade                                     2.468118e-23\n",
       "male                                      4.416601e-06\n",
       "preschool                                 2.005164e-01\n",
       "expectBachelors                           1.059226e-36\n",
       "motherHS                                  3.200122e-01\n",
       "motherBachelors                           1.079791e-03\n",
       "motherWork                                4.251670e-01\n",
       "fatherHS                                  4.714698e-01\n",
       "fatherBachelors                           2.346477e-05\n",
       "fatherWork                                1.839343e-01\n",
       "selfBornUS                                6.033074e-01\n",
       "motherBornUS                              1.818211e-01\n",
       "fatherBornUS                              4.917762e-01\n",
       "englishAtHome                             2.415272e-01\n",
       "computerForSchoolwork                     8.188776e-05\n",
       "read30MinsADay                            4.489941e-24\n",
       "minutesPerWeekEnglish                     2.326444e-01\n",
       "studentsInEnglish                         2.084598e-01\n",
       "schoolHasLibrary                          1.874869e-01\n",
       "publicSchool                              1.226078e-02\n",
       "urban                                     9.778304e-01\n",
       "schoolSize                                2.941535e-03\n",
       "Asian                                     8.836631e-04\n",
       "Black                                     9.878296e-01\n",
       "Hispanic                                  1.011694e-01\n",
       "More than one race                        6.743900e-03\n",
       "Native Hawaiian/Other Pacific Islander    8.996825e-03\n",
       "White                                     6.318811e-05\n",
       "dtype: float64"
      ]
     },
     "execution_count": 169,
     "metadata": {},
     "output_type": "execute_result"
    }
   ],
   "source": [
    "lm2.pvalues"
   ]
  },
  {
   "cell_type": "code",
   "execution_count": 170,
   "metadata": {},
   "outputs": [
    {
     "name": "stdout",
     "output_type": "stream",
     "text": [
      "                            OLS Regression Results                            \n",
      "==============================================================================\n",
      "Dep. Variable:           readingScore   R-squared:                       0.325\n",
      "Model:                            OLS   Adj. R-squared:                  0.317\n",
      "Method:                 Least Squares   F-statistic:                     41.04\n",
      "Date:                Mon, 16 Sep 2019   Prob (F-statistic):          1.72e-180\n",
      "Time:                        03:47:33   Log-Likelihood:                -13795.\n",
      "No. Observations:                2414   AIC:                         2.765e+04\n",
      "Df Residuals:                    2385   BIC:                         2.781e+04\n",
      "Df Model:                          28                                         \n",
      "Covariance Type:            nonrobust                                         \n",
      "==========================================================================================================\n",
      "                                             coef    std err          t      P>|t|      [0.025      0.975]\n",
      "----------------------------------------------------------------------------------------------------------\n",
      "const                                     76.4890     37.303      2.050      0.040       3.340     149.638\n",
      "grade                                     29.5427      2.937     10.057      0.000      23.783      35.303\n",
      "male                                     -14.5217      3.156     -4.601      0.000     -20.710      -8.333\n",
      "preschool                                 -4.4637      3.486     -1.280      0.201     -11.300       2.372\n",
      "expectBachelors                           55.2671      4.294     12.871      0.000      46.847      63.687\n",
      "motherHS                                   6.0588      6.091      0.995      0.320      -5.886      18.004\n",
      "motherBachelors                           12.6381      3.861      3.273      0.001       5.066      20.210\n",
      "motherWork                                -2.8091      3.522     -0.798      0.425      -9.715       4.097\n",
      "fatherHS                                   4.0182      5.579      0.720      0.471      -6.923      14.959\n",
      "fatherBachelors                           16.9298      3.995      4.237      0.000       9.095      24.764\n",
      "fatherWork                                 5.8428      4.396      1.329      0.184      -2.778      14.463\n",
      "selfBornUS                                -3.8063      7.324     -0.520      0.603     -18.168      10.555\n",
      "motherBornUS                              -8.7982      6.588     -1.336      0.182     -21.716       4.120\n",
      "fatherBornUS                               4.3070      6.264      0.688      0.492      -7.976      16.590\n",
      "englishAtHome                              8.0357      6.859      1.171      0.242      -5.415      21.487\n",
      "computerForSchoolwork                     22.5002      5.703      3.946      0.000      11.318      33.683\n",
      "read30MinsADay                            34.8719      3.408     10.231      0.000      28.188      41.556\n",
      "minutesPerWeekEnglish                      0.0128      0.011      1.194      0.233      -0.008       0.034\n",
      "studentsInEnglish                         -0.2866      0.228     -1.258      0.208      -0.733       0.160\n",
      "schoolHasLibrary                          12.2151      9.265      1.318      0.187      -5.953      30.383\n",
      "publicSchool                             -16.8575      6.726     -2.506      0.012     -30.046      -3.669\n",
      "urban                                     -0.1101      3.963     -0.028      0.978      -7.881       7.661\n",
      "schoolSize                                 0.0065      0.002      2.977      0.003       0.002       0.011\n",
      "Asian                                     63.1670     18.973      3.329      0.001      25.962     100.372\n",
      "Black                                      0.2650     17.370      0.015      0.988     -33.796      34.326\n",
      "Hispanic                                  28.3018     17.259      1.640      0.101      -5.542      62.146\n",
      "More than one race                        50.3548     18.570      2.712      0.007      13.940      86.770\n",
      "Native Hawaiian/Other Pacific Islander    62.1757     23.783      2.614      0.009      15.539     108.813\n",
      "White                                     67.2773     16.787      4.008      0.000      34.359     100.196\n",
      "==============================================================================\n",
      "Omnibus:                        8.273   Durbin-Watson:                   1.998\n",
      "Prob(Omnibus):                  0.016   Jarque-Bera (JB):                8.362\n",
      "Skew:                          -0.141   Prob(JB):                       0.0153\n",
      "Kurtosis:                       2.943   Cond. No.                     5.17e+04\n",
      "==============================================================================\n",
      "\n",
      "Warnings:\n",
      "[1] Standard Errors assume that the covariance matrix of the errors is correctly specified.\n",
      "[2] The condition number is large, 5.17e+04. This might indicate that there are\n",
      "strong multicollinearity or other numerical problems.\n"
     ]
    }
   ],
   "source": [
    "print(lm2.summary())"
   ]
  },
  {
   "cell_type": "code",
   "execution_count": 178,
   "metadata": {},
   "outputs": [],
   "source": [
    "dummy2=pd.get_dummies(pisatest1['raceeth'],drop_first=True)"
   ]
  },
  {
   "cell_type": "code",
   "execution_count": 180,
   "metadata": {},
   "outputs": [],
   "source": [
    "pisatest1=pd.concat([pisatest1,dummy2],axis=1)"
   ]
  },
  {
   "cell_type": "code",
   "execution_count": 189,
   "metadata": {},
   "outputs": [],
   "source": [
    "x_test=pisatest1.drop(['readingScore','raceeth'],axis=1)"
   ]
  },
  {
   "cell_type": "code",
   "execution_count": 191,
   "metadata": {},
   "outputs": [],
   "source": [
    "y_test=pisatest1['readingScore']"
   ]
  },
  {
   "cell_type": "code",
   "execution_count": 194,
   "metadata": {},
   "outputs": [],
   "source": [
    "lmtest=LinearRegression()"
   ]
  },
  {
   "cell_type": "code",
   "execution_count": 195,
   "metadata": {},
   "outputs": [
    {
     "data": {
      "text/plain": [
       "LinearRegression(copy_X=True, fit_intercept=True, n_jobs=None,\n",
       "         normalize=False)"
      ]
     },
     "execution_count": 195,
     "metadata": {},
     "output_type": "execute_result"
    }
   ],
   "source": [
    "lmtest.fit(x_test,y_test)"
   ]
  },
  {
   "cell_type": "code",
   "execution_count": 196,
   "metadata": {},
   "outputs": [],
   "source": [
    "pred_test=lmtest.predict(x_test)"
   ]
  },
  {
   "cell_type": "code",
   "execution_count": 228,
   "metadata": {},
   "outputs": [
    {
     "data": {
      "text/plain": [
       "990"
      ]
     },
     "execution_count": 228,
     "metadata": {},
     "output_type": "execute_result"
    }
   ],
   "source": [
    "(pred_test.max())-(pred_test.min())\n",
    "len(pred_test)"
   ]
  },
  {
   "cell_type": "code",
   "execution_count": 229,
   "metadata": {},
   "outputs": [
    {
     "data": {
      "text/plain": [
       "74.70434728222544"
      ]
     },
     "execution_count": 229,
     "metadata": {},
     "output_type": "execute_result"
    }
   ],
   "source": [
    "(sum(((pred_test)-(y_test))**2)/990)**0.5\n"
   ]
  },
  {
   "cell_type": "code",
   "execution_count": 224,
   "metadata": {},
   "outputs": [
    {
     "data": {
      "text/plain": [
       "74.70434728222536"
      ]
     },
     "execution_count": 224,
     "metadata": {},
     "output_type": "execute_result"
    }
   ],
   "source": [
    "np.sqrt(metrics.mean_squared_error(y_test,pred_test))"
   ]
  },
  {
   "cell_type": "code",
   "execution_count": 225,
   "metadata": {},
   "outputs": [
    {
     "data": {
      "text/plain": [
       "5524932.107834697"
      ]
     },
     "execution_count": 225,
     "metadata": {},
     "output_type": "execute_result"
    }
   ],
   "source": [
    "metrics.mean_squared_error(y_test,pred_test)*990"
   ]
  },
  {
   "cell_type": "code",
   "execution_count": 226,
   "metadata": {},
   "outputs": [
    {
     "data": {
      "text/plain": [
       "990"
      ]
     },
     "execution_count": 226,
     "metadata": {},
     "output_type": "execute_result"
    }
   ],
   "source": [
    "len(pred_test)"
   ]
  },
  {
   "cell_type": "code",
   "execution_count": 207,
   "metadata": {},
   "outputs": [
    {
     "data": {
      "text/plain": [
       "517.9628873239429"
      ]
     },
     "execution_count": 207,
     "metadata": {},
     "output_type": "execute_result"
    }
   ],
   "source": [
    "np.mean(y)"
   ]
  },
  {
   "cell_type": "code",
   "execution_count": 230,
   "metadata": {},
   "outputs": [
    {
     "data": {
      "text/plain": [
       "7802354.077613839"
      ]
     },
     "execution_count": 230,
     "metadata": {},
     "output_type": "execute_result"
    }
   ],
   "source": [
    "sum(((y_test)-np.mean(y))**2)"
   ]
  },
  {
   "cell_type": "code",
   "execution_count": 231,
   "metadata": {},
   "outputs": [
    {
     "data": {
      "text/plain": [
       "0.29156410673966104"
      ]
     },
     "execution_count": 231,
     "metadata": {},
     "output_type": "execute_result"
    }
   ],
   "source": [
    "r2_score(y_test,pred_test)"
   ]
  },
  {
   "cell_type": "code",
   "execution_count": 212,
   "metadata": {},
   "outputs": [
    {
     "data": {
      "text/plain": [
       "grade\n",
       "8     389.970000\n",
       "9     412.826398\n",
       "10    503.256963\n",
       "11    525.996915\n",
       "12    569.280000\n",
       "Name: readingScore, dtype: float64"
      ]
     },
     "execution_count": 212,
     "metadata": {},
     "output_type": "execute_result"
    }
   ],
   "source": [
    "pisatrain.groupby(['grade'])['readingScore'].mean()"
   ]
  },
  {
   "cell_type": "code",
   "execution_count": null,
   "metadata": {},
   "outputs": [],
   "source": []
  }
 ],
 "metadata": {
  "kernelspec": {
   "display_name": "Python 3",
   "language": "python",
   "name": "python3"
  },
  "language_info": {
   "codemirror_mode": {
    "name": "ipython",
    "version": 3
   },
   "file_extension": ".py",
   "mimetype": "text/x-python",
   "name": "python",
   "nbconvert_exporter": "python",
   "pygments_lexer": "ipython3",
   "version": "3.7.3"
  }
 },
 "nbformat": 4,
 "nbformat_minor": 2
}

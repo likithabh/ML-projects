{
 "cells": [
  {
   "cell_type": "code",
   "execution_count": 91,
   "metadata": {},
   "outputs": [],
   "source": [
    "import pandas as pd\n",
    "import numpy as np\n",
    "import matplotlib.pyplot as plt\n",
    "import statsmodels.formula.api as sm\n",
    "import seaborn as sns\n",
    "import scipy, scipy.stats\n",
    "import math\n",
    "from collections import Counter\n",
    "%matplotlib inline"
   ]
  },
  {
   "cell_type": "code",
   "execution_count": 92,
   "metadata": {},
   "outputs": [],
   "source": [
    "df=pd.read_csv('climate_change.csv')"
   ]
  },
  {
   "cell_type": "code",
   "execution_count": 48,
   "metadata": {},
   "outputs": [
    {
     "data": {
      "text/plain": [
       "Year        284\n",
       "Month       284\n",
       "MEI         284\n",
       "CO2         284\n",
       "CH4         284\n",
       "N2O         284\n",
       "CFC-11      284\n",
       "CFC-12      284\n",
       "TSI         284\n",
       "Aerosols    284\n",
       "Temp        284\n",
       "dtype: int64"
      ]
     },
     "execution_count": 48,
     "metadata": {},
     "output_type": "execute_result"
    }
   ],
   "source": [
    "df.head()\n",
    "df[df['Year']<2007].count()"
   ]
  },
  {
   "cell_type": "code",
   "execution_count": 12,
   "metadata": {},
   "outputs": [
    {
     "data": {
      "text/html": [
       "<div>\n",
       "<style scoped>\n",
       "    .dataframe tbody tr th:only-of-type {\n",
       "        vertical-align: middle;\n",
       "    }\n",
       "\n",
       "    .dataframe tbody tr th {\n",
       "        vertical-align: top;\n",
       "    }\n",
       "\n",
       "    .dataframe thead th {\n",
       "        text-align: right;\n",
       "    }\n",
       "</style>\n",
       "<table border=\"1\" class=\"dataframe\">\n",
       "  <thead>\n",
       "    <tr style=\"text-align: right;\">\n",
       "      <th></th>\n",
       "      <th>Year</th>\n",
       "      <th>Month</th>\n",
       "      <th>MEI</th>\n",
       "      <th>CO2</th>\n",
       "      <th>CH4</th>\n",
       "      <th>N2O</th>\n",
       "      <th>CFC-11</th>\n",
       "      <th>CFC-12</th>\n",
       "      <th>TSI</th>\n",
       "      <th>Aerosols</th>\n",
       "      <th>Temp</th>\n",
       "    </tr>\n",
       "  </thead>\n",
       "  <tbody>\n",
       "    <tr>\n",
       "      <th>count</th>\n",
       "      <td>308.000000</td>\n",
       "      <td>308.000000</td>\n",
       "      <td>308.000000</td>\n",
       "      <td>308.000000</td>\n",
       "      <td>308.000000</td>\n",
       "      <td>308.000000</td>\n",
       "      <td>308.000000</td>\n",
       "      <td>308.000000</td>\n",
       "      <td>308.000000</td>\n",
       "      <td>308.000000</td>\n",
       "      <td>308.000000</td>\n",
       "    </tr>\n",
       "    <tr>\n",
       "      <th>mean</th>\n",
       "      <td>1995.662338</td>\n",
       "      <td>6.551948</td>\n",
       "      <td>0.275555</td>\n",
       "      <td>363.226753</td>\n",
       "      <td>1749.824513</td>\n",
       "      <td>312.391834</td>\n",
       "      <td>251.973068</td>\n",
       "      <td>497.524782</td>\n",
       "      <td>1366.070759</td>\n",
       "      <td>0.016657</td>\n",
       "      <td>0.256776</td>\n",
       "    </tr>\n",
       "    <tr>\n",
       "      <th>std</th>\n",
       "      <td>7.423197</td>\n",
       "      <td>3.447214</td>\n",
       "      <td>0.937918</td>\n",
       "      <td>12.647125</td>\n",
       "      <td>46.051678</td>\n",
       "      <td>5.225131</td>\n",
       "      <td>20.231783</td>\n",
       "      <td>57.826899</td>\n",
       "      <td>0.399610</td>\n",
       "      <td>0.029050</td>\n",
       "      <td>0.179090</td>\n",
       "    </tr>\n",
       "    <tr>\n",
       "      <th>min</th>\n",
       "      <td>1983.000000</td>\n",
       "      <td>1.000000</td>\n",
       "      <td>-1.635000</td>\n",
       "      <td>340.170000</td>\n",
       "      <td>1629.890000</td>\n",
       "      <td>303.677000</td>\n",
       "      <td>191.324000</td>\n",
       "      <td>350.113000</td>\n",
       "      <td>1365.426100</td>\n",
       "      <td>0.001600</td>\n",
       "      <td>-0.282000</td>\n",
       "    </tr>\n",
       "    <tr>\n",
       "      <th>25%</th>\n",
       "      <td>1989.000000</td>\n",
       "      <td>4.000000</td>\n",
       "      <td>-0.398750</td>\n",
       "      <td>353.020000</td>\n",
       "      <td>1722.182500</td>\n",
       "      <td>308.111500</td>\n",
       "      <td>246.295500</td>\n",
       "      <td>472.410750</td>\n",
       "      <td>1365.717050</td>\n",
       "      <td>0.002800</td>\n",
       "      <td>0.121750</td>\n",
       "    </tr>\n",
       "    <tr>\n",
       "      <th>50%</th>\n",
       "      <td>1996.000000</td>\n",
       "      <td>7.000000</td>\n",
       "      <td>0.237500</td>\n",
       "      <td>361.735000</td>\n",
       "      <td>1764.040000</td>\n",
       "      <td>311.507000</td>\n",
       "      <td>258.344000</td>\n",
       "      <td>528.356000</td>\n",
       "      <td>1365.980900</td>\n",
       "      <td>0.005750</td>\n",
       "      <td>0.248000</td>\n",
       "    </tr>\n",
       "    <tr>\n",
       "      <th>75%</th>\n",
       "      <td>2002.000000</td>\n",
       "      <td>10.000000</td>\n",
       "      <td>0.830500</td>\n",
       "      <td>373.455000</td>\n",
       "      <td>1786.885000</td>\n",
       "      <td>316.979000</td>\n",
       "      <td>267.031000</td>\n",
       "      <td>540.524250</td>\n",
       "      <td>1366.363250</td>\n",
       "      <td>0.012600</td>\n",
       "      <td>0.407250</td>\n",
       "    </tr>\n",
       "    <tr>\n",
       "      <th>max</th>\n",
       "      <td>2008.000000</td>\n",
       "      <td>12.000000</td>\n",
       "      <td>3.001000</td>\n",
       "      <td>388.500000</td>\n",
       "      <td>1814.180000</td>\n",
       "      <td>322.182000</td>\n",
       "      <td>271.494000</td>\n",
       "      <td>543.813000</td>\n",
       "      <td>1367.316200</td>\n",
       "      <td>0.149400</td>\n",
       "      <td>0.739000</td>\n",
       "    </tr>\n",
       "  </tbody>\n",
       "</table>\n",
       "</div>"
      ],
      "text/plain": [
       "              Year       Month         MEI         CO2  ...      CFC-12          TSI    Aerosols        Temp\n",
       "count   308.000000  308.000000  308.000000  308.000000  ...  308.000000   308.000000  308.000000  308.000000\n",
       "mean   1995.662338    6.551948    0.275555  363.226753  ...  497.524782  1366.070759    0.016657    0.256776\n",
       "std       7.423197    3.447214    0.937918   12.647125  ...   57.826899     0.399610    0.029050    0.179090\n",
       "min    1983.000000    1.000000   -1.635000  340.170000  ...  350.113000  1365.426100    0.001600   -0.282000\n",
       "25%    1989.000000    4.000000   -0.398750  353.020000  ...  472.410750  1365.717050    0.002800    0.121750\n",
       "50%    1996.000000    7.000000    0.237500  361.735000  ...  528.356000  1365.980900    0.005750    0.248000\n",
       "75%    2002.000000   10.000000    0.830500  373.455000  ...  540.524250  1366.363250    0.012600    0.407250\n",
       "max    2008.000000   12.000000    3.001000  388.500000  ...  543.813000  1367.316200    0.149400    0.739000\n",
       "\n",
       "[8 rows x 11 columns]"
      ]
     },
     "execution_count": 12,
     "metadata": {},
     "output_type": "execute_result"
    }
   ],
   "source": [
    "df.describe()"
   ]
  },
  {
   "cell_type": "code",
   "execution_count": 13,
   "metadata": {},
   "outputs": [
    {
     "data": {
      "text/plain": [
       "(308, 11)"
      ]
     },
     "execution_count": 13,
     "metadata": {},
     "output_type": "execute_result"
    }
   ],
   "source": [
    "df.shape"
   ]
  },
  {
   "cell_type": "code",
   "execution_count": 15,
   "metadata": {},
   "outputs": [
    {
     "name": "stdout",
     "output_type": "stream",
     "text": [
      "<class 'pandas.core.frame.DataFrame'>\n",
      "RangeIndex: 308 entries, 0 to 307\n",
      "Data columns (total 11 columns):\n",
      "Year        308 non-null int64\n",
      "Month       308 non-null int64\n",
      "MEI         308 non-null float64\n",
      "CO2         308 non-null float64\n",
      "CH4         308 non-null float64\n",
      "N2O         308 non-null float64\n",
      "CFC-11      308 non-null float64\n",
      "CFC-12      308 non-null float64\n",
      "TSI         308 non-null float64\n",
      "Aerosols    308 non-null float64\n",
      "Temp        308 non-null float64\n",
      "dtypes: float64(9), int64(2)\n",
      "memory usage: 26.5 KB\n"
     ]
    }
   ],
   "source": [
    "df.info()"
   ]
  },
  {
   "cell_type": "code",
   "execution_count": 27,
   "metadata": {},
   "outputs": [
    {
     "data": {
      "image/png": "[encoded data removed]",
      "text/plain": [
       "<Figure size 432x288 with 1 Axes>"
      ]
     },
     "metadata": {
      "needs_background": "light"
     },
     "output_type": "display_data"
    }
   ],
   "source": [
    "sns.distplot(df['Temp'],kde=False,bins=50);\n",
    "Year        308 non-null int64\n",
    "Month       308 non-null int64\n",
    "MEI         308 non-null float64\n",
    "CO2         308 non-null float64\n",
    "CH4         308 non-null float64\n",
    "N2O         308 non-null float64\n",
    "CFC-11      308 non-null float64\n",
    "CFC-12      308 non-null float64\n",
    "TSI         308 non-null float64\n",
    "Aerosols    308 non-null float64\n",
    "Temp        308 non-null float64"
   ]
  },
  {
   "cell_type": "code",
   "execution_count": 39,
   "metadata": {},
   "outputs": [
    {
     "data": {
      "text/html": [
       "<div>\n",
       "<style scoped>\n",
       "    .dataframe tbody tr th:only-of-type {\n",
       "        vertical-align: middle;\n",
       "    }\n",
       "\n",
       "    .dataframe tbody tr th {\n",
       "        vertical-align: top;\n",
       "    }\n",
       "\n",
       "    .dataframe thead th {\n",
       "        text-align: right;\n",
       "    }\n",
       "</style>\n",
       "<table border=\"1\" class=\"dataframe\">\n",
       "  <thead>\n",
       "    <tr style=\"text-align: right;\">\n",
       "      <th></th>\n",
       "      <th>Year</th>\n",
       "      <th>Month</th>\n",
       "      <th>MEI</th>\n",
       "      <th>CO2</th>\n",
       "      <th>CH4</th>\n",
       "      <th>N2O</th>\n",
       "      <th>CFC-11</th>\n",
       "      <th>CFC-12</th>\n",
       "      <th>TSI</th>\n",
       "      <th>Aerosols</th>\n",
       "      <th>Temp</th>\n",
       "    </tr>\n",
       "  </thead>\n",
       "  <tbody>\n",
       "    <tr>\n",
       "      <th>Year</th>\n",
       "      <td>1.000000</td>\n",
       "      <td>-0.025789</td>\n",
       "      <td>-0.145345</td>\n",
       "      <td>0.985379</td>\n",
       "      <td>0.910563</td>\n",
       "      <td>0.994850</td>\n",
       "      <td>0.460965</td>\n",
       "      <td>0.870067</td>\n",
       "      <td>0.022353</td>\n",
       "      <td>-0.361884</td>\n",
       "      <td>0.755731</td>\n",
       "    </tr>\n",
       "    <tr>\n",
       "      <th>Month</th>\n",
       "      <td>-0.025789</td>\n",
       "      <td>1.000000</td>\n",
       "      <td>-0.016345</td>\n",
       "      <td>-0.096287</td>\n",
       "      <td>0.017558</td>\n",
       "      <td>0.012395</td>\n",
       "      <td>-0.014914</td>\n",
       "      <td>-0.001084</td>\n",
       "      <td>-0.032754</td>\n",
       "      <td>0.014845</td>\n",
       "      <td>-0.098016</td>\n",
       "    </tr>\n",
       "    <tr>\n",
       "      <th>MEI</th>\n",
       "      <td>-0.145345</td>\n",
       "      <td>-0.016345</td>\n",
       "      <td>1.000000</td>\n",
       "      <td>-0.152911</td>\n",
       "      <td>-0.105555</td>\n",
       "      <td>-0.162375</td>\n",
       "      <td>0.088171</td>\n",
       "      <td>-0.039836</td>\n",
       "      <td>-0.076826</td>\n",
       "      <td>0.352351</td>\n",
       "      <td>0.135292</td>\n",
       "    </tr>\n",
       "    <tr>\n",
       "      <th>CO2</th>\n",
       "      <td>0.985379</td>\n",
       "      <td>-0.096287</td>\n",
       "      <td>-0.152911</td>\n",
       "      <td>1.000000</td>\n",
       "      <td>0.872253</td>\n",
       "      <td>0.981135</td>\n",
       "      <td>0.401284</td>\n",
       "      <td>0.823210</td>\n",
       "      <td>0.017867</td>\n",
       "      <td>-0.369265</td>\n",
       "      <td>0.748505</td>\n",
       "    </tr>\n",
       "    <tr>\n",
       "      <th>CH4</th>\n",
       "      <td>0.910563</td>\n",
       "      <td>0.017558</td>\n",
       "      <td>-0.105555</td>\n",
       "      <td>0.872253</td>\n",
       "      <td>1.000000</td>\n",
       "      <td>0.894409</td>\n",
       "      <td>0.713504</td>\n",
       "      <td>0.958237</td>\n",
       "      <td>0.146335</td>\n",
       "      <td>-0.290381</td>\n",
       "      <td>0.699697</td>\n",
       "    </tr>\n",
       "    <tr>\n",
       "      <th>N2O</th>\n",
       "      <td>0.994850</td>\n",
       "      <td>0.012395</td>\n",
       "      <td>-0.162375</td>\n",
       "      <td>0.981135</td>\n",
       "      <td>0.894409</td>\n",
       "      <td>1.000000</td>\n",
       "      <td>0.412155</td>\n",
       "      <td>0.839295</td>\n",
       "      <td>0.039892</td>\n",
       "      <td>-0.353499</td>\n",
       "      <td>0.743242</td>\n",
       "    </tr>\n",
       "    <tr>\n",
       "      <th>CFC-11</th>\n",
       "      <td>0.460965</td>\n",
       "      <td>-0.014914</td>\n",
       "      <td>0.088171</td>\n",
       "      <td>0.401284</td>\n",
       "      <td>0.713504</td>\n",
       "      <td>0.412155</td>\n",
       "      <td>1.000000</td>\n",
       "      <td>0.831381</td>\n",
       "      <td>0.284629</td>\n",
       "      <td>-0.032302</td>\n",
       "      <td>0.380111</td>\n",
       "    </tr>\n",
       "    <tr>\n",
       "      <th>CFC-12</th>\n",
       "      <td>0.870067</td>\n",
       "      <td>-0.001084</td>\n",
       "      <td>-0.039836</td>\n",
       "      <td>0.823210</td>\n",
       "      <td>0.958237</td>\n",
       "      <td>0.839295</td>\n",
       "      <td>0.831381</td>\n",
       "      <td>1.000000</td>\n",
       "      <td>0.189270</td>\n",
       "      <td>-0.243785</td>\n",
       "      <td>0.688944</td>\n",
       "    </tr>\n",
       "    <tr>\n",
       "      <th>TSI</th>\n",
       "      <td>0.022353</td>\n",
       "      <td>-0.032754</td>\n",
       "      <td>-0.076826</td>\n",
       "      <td>0.017867</td>\n",
       "      <td>0.146335</td>\n",
       "      <td>0.039892</td>\n",
       "      <td>0.284629</td>\n",
       "      <td>0.189270</td>\n",
       "      <td>1.000000</td>\n",
       "      <td>0.083238</td>\n",
       "      <td>0.182186</td>\n",
       "    </tr>\n",
       "    <tr>\n",
       "      <th>Aerosols</th>\n",
       "      <td>-0.361884</td>\n",
       "      <td>0.014845</td>\n",
       "      <td>0.352351</td>\n",
       "      <td>-0.369265</td>\n",
       "      <td>-0.290381</td>\n",
       "      <td>-0.353499</td>\n",
       "      <td>-0.032302</td>\n",
       "      <td>-0.243785</td>\n",
       "      <td>0.083238</td>\n",
       "      <td>1.000000</td>\n",
       "      <td>-0.392069</td>\n",
       "    </tr>\n",
       "    <tr>\n",
       "      <th>Temp</th>\n",
       "      <td>0.755731</td>\n",
       "      <td>-0.098016</td>\n",
       "      <td>0.135292</td>\n",
       "      <td>0.748505</td>\n",
       "      <td>0.699697</td>\n",
       "      <td>0.743242</td>\n",
       "      <td>0.380111</td>\n",
       "      <td>0.688944</td>\n",
       "      <td>0.182186</td>\n",
       "      <td>-0.392069</td>\n",
       "      <td>1.000000</td>\n",
       "    </tr>\n",
       "  </tbody>\n",
       "</table>\n",
       "</div>"
      ],
      "text/plain": [
       "              Year     Month       MEI       CO2       CH4       N2O    CFC-11    CFC-12       TSI  Aerosols      Temp\n",
       "Year      1.000000 -0.025789 -0.145345  0.985379  0.910563  0.994850  0.460965  0.870067  0.022353 -0.361884  0.755731\n",
       "Month    -0.025789  1.000000 -0.016345 -0.096287  0.017558  0.012395 -0.014914 -0.001084 -0.032754  0.014845 -0.098016\n",
       "MEI      -0.145345 -0.016345  1.000000 -0.152911 -0.105555 -0.162375  0.088171 -0.039836 -0.076826  0.352351  0.135292\n",
       "CO2       0.985379 -0.096287 -0.152911  1.000000  0.872253  0.981135  0.401284  0.823210  0.017867 -0.369265  0.748505\n",
       "CH4       0.910563  0.017558 -0.105555  0.872253  1.000000  0.894409  0.713504  0.958237  0.146335 -0.290381  0.699697\n",
       "N2O       0.994850  0.012395 -0.162375  0.981135  0.894409  1.000000  0.412155  0.839295  0.039892 -0.353499  0.743242\n",
       "CFC-11    0.460965 -0.014914  0.088171  0.401284  0.713504  0.412155  1.000000  0.831381  0.284629 -0.032302  0.380111\n",
       "CFC-12    0.870067 -0.001084 -0.039836  0.823210  0.958237  0.839295  0.831381  1.000000  0.189270 -0.243785  0.688944\n",
       "TSI       0.022353 -0.032754 -0.076826  0.017867  0.146335  0.039892  0.284629  0.189270  1.000000  0.083238  0.182186\n",
       "Aerosols -0.361884  0.014845  0.352351 -0.369265 -0.290381 -0.353499 -0.032302 -0.243785  0.083238  1.000000 -0.392069\n",
       "Temp      0.755731 -0.098016  0.135292  0.748505  0.699697  0.743242  0.380111  0.688944  0.182186 -0.392069  1.000000"
      ]
     },
     "execution_count": 39,
     "metadata": {},
     "output_type": "execute_result"
    }
   ],
   "source": [
    "df.corr()"
   ]
  },
  {
   "cell_type": "code",
   "execution_count": 40,
   "metadata": {},
   "outputs": [],
   "source": [
    "from sklearn.model_selection import train_test_split"
   ]
  },
  {
   "cell_type": "code",
   "execution_count": 93,
   "metadata": {},
   "outputs": [],
   "source": [
    "x_train=df[df['Year']<=2006]"
   ]
  },
  {
   "cell_type": "code",
   "execution_count": 94,
   "metadata": {},
   "outputs": [
    {
     "data": {
      "text/html": [
       "<div>\n",
       "<style scoped>\n",
       "    .dataframe tbody tr th:only-of-type {\n",
       "        vertical-align: middle;\n",
       "    }\n",
       "\n",
       "    .dataframe tbody tr th {\n",
       "        vertical-align: top;\n",
       "    }\n",
       "\n",
       "    .dataframe thead th {\n",
       "        text-align: right;\n",
       "    }\n",
       "</style>\n",
       "<table border=\"1\" class=\"dataframe\">\n",
       "  <thead>\n",
       "    <tr style=\"text-align: right;\">\n",
       "      <th></th>\n",
       "      <th>Year</th>\n",
       "      <th>Month</th>\n",
       "      <th>MEI</th>\n",
       "      <th>CO2</th>\n",
       "      <th>CH4</th>\n",
       "      <th>N2O</th>\n",
       "      <th>CFC-11</th>\n",
       "      <th>CFC-12</th>\n",
       "      <th>TSI</th>\n",
       "      <th>Aerosols</th>\n",
       "      <th>Temp</th>\n",
       "    </tr>\n",
       "  </thead>\n",
       "  <tbody>\n",
       "    <tr>\n",
       "      <th>0</th>\n",
       "      <td>1983</td>\n",
       "      <td>5</td>\n",
       "      <td>2.556</td>\n",
       "      <td>345.96</td>\n",
       "      <td>1638.59</td>\n",
       "      <td>303.677</td>\n",
       "      <td>191.324</td>\n",
       "      <td>350.113</td>\n",
       "      <td>1366.1024</td>\n",
       "      <td>0.0863</td>\n",
       "      <td>0.109</td>\n",
       "    </tr>\n",
       "    <tr>\n",
       "      <th>1</th>\n",
       "      <td>1983</td>\n",
       "      <td>6</td>\n",
       "      <td>2.167</td>\n",
       "      <td>345.52</td>\n",
       "      <td>1633.71</td>\n",
       "      <td>303.746</td>\n",
       "      <td>192.057</td>\n",
       "      <td>351.848</td>\n",
       "      <td>1366.1208</td>\n",
       "      <td>0.0794</td>\n",
       "      <td>0.118</td>\n",
       "    </tr>\n",
       "  </tbody>\n",
       "</table>\n",
       "</div>"
      ],
      "text/plain": [
       "   Year  Month    MEI     CO2      CH4      N2O   CFC-11   CFC-12        TSI  Aerosols   Temp\n",
       "0  1983      5  2.556  345.96  1638.59  303.677  191.324  350.113  1366.1024    0.0863  0.109\n",
       "1  1983      6  2.167  345.52  1633.71  303.746  192.057  351.848  1366.1208    0.0794  0.118"
      ]
     },
     "execution_count": 94,
     "metadata": {},
     "output_type": "execute_result"
    }
   ],
   "source": [
    "x_train.head(2)"
   ]
  },
  {
   "cell_type": "code",
   "execution_count": 95,
   "metadata": {},
   "outputs": [],
   "source": [
    "x_test=df[df['Year']>2006]"
   ]
  },
  {
   "cell_type": "code",
   "execution_count": 96,
   "metadata": {},
   "outputs": [
    {
     "data": {
      "text/html": [
       "<div>\n",
       "<style scoped>\n",
       "    .dataframe tbody tr th:only-of-type {\n",
       "        vertical-align: middle;\n",
       "    }\n",
       "\n",
       "    .dataframe tbody tr th {\n",
       "        vertical-align: top;\n",
       "    }\n",
       "\n",
       "    .dataframe thead th {\n",
       "        text-align: right;\n",
       "    }\n",
       "</style>\n",
       "<table border=\"1\" class=\"dataframe\">\n",
       "  <thead>\n",
       "    <tr style=\"text-align: right;\">\n",
       "      <th></th>\n",
       "      <th>Year</th>\n",
       "      <th>Month</th>\n",
       "      <th>MEI</th>\n",
       "      <th>CO2</th>\n",
       "      <th>CH4</th>\n",
       "      <th>N2O</th>\n",
       "      <th>CFC-11</th>\n",
       "      <th>CFC-12</th>\n",
       "      <th>TSI</th>\n",
       "      <th>Aerosols</th>\n",
       "      <th>Temp</th>\n",
       "    </tr>\n",
       "  </thead>\n",
       "  <tbody>\n",
       "    <tr>\n",
       "      <th>284</th>\n",
       "      <td>2007</td>\n",
       "      <td>1</td>\n",
       "      <td>0.974</td>\n",
       "      <td>382.93</td>\n",
       "      <td>1799.66</td>\n",
       "      <td>320.561</td>\n",
       "      <td>248.372</td>\n",
       "      <td>539.206</td>\n",
       "      <td>1365.7173</td>\n",
       "      <td>0.0054</td>\n",
       "      <td>0.601</td>\n",
       "    </tr>\n",
       "    <tr>\n",
       "      <th>285</th>\n",
       "      <td>2007</td>\n",
       "      <td>2</td>\n",
       "      <td>0.510</td>\n",
       "      <td>383.81</td>\n",
       "      <td>1803.08</td>\n",
       "      <td>320.571</td>\n",
       "      <td>248.264</td>\n",
       "      <td>538.973</td>\n",
       "      <td>1365.7145</td>\n",
       "      <td>0.0051</td>\n",
       "      <td>0.498</td>\n",
       "    </tr>\n",
       "  </tbody>\n",
       "</table>\n",
       "</div>"
      ],
      "text/plain": [
       "     Year  Month    MEI     CO2      CH4      N2O   CFC-11   CFC-12        TSI  Aerosols   Temp\n",
       "284  2007      1  0.974  382.93  1799.66  320.561  248.372  539.206  1365.7173    0.0054  0.601\n",
       "285  2007      2  0.510  383.81  1803.08  320.571  248.264  538.973  1365.7145    0.0051  0.498"
      ]
     },
     "execution_count": 96,
     "metadata": {},
     "output_type": "execute_result"
    }
   ],
   "source": [
    "x_test.head(2)"
   ]
  },
  {
   "cell_type": "code",
   "execution_count": 112,
   "metadata": {},
   "outputs": [],
   "source": [
    "y_train=x_train['Temp']"
   ]
  },
  {
   "cell_type": "code",
   "execution_count": 99,
   "metadata": {},
   "outputs": [],
   "source": [
    "y_test=x_test['Temp']"
   ]
  },
  {
   "cell_type": "code",
   "execution_count": 100,
   "metadata": {},
   "outputs": [],
   "source": [
    "x=x_train[['MEI','CO2','CH4','N2O','CFC-11','CFC-12','TSI','Aerosols']]"
   ]
  },
  {
   "cell_type": "code",
   "execution_count": 101,
   "metadata": {},
   "outputs": [],
   "source": [
    "x1=x_test[['MEI','CO2','CH4','N2O','CFC-11','CFC-12','TSI','Aerosols']]"
   ]
  },
  {
   "cell_type": "code",
   "execution_count": 102,
   "metadata": {},
   "outputs": [],
   "source": [
    "from sklearn.linear_model import LinearRegression"
   ]
  },
  {
   "cell_type": "code",
   "execution_count": 103,
   "metadata": {},
   "outputs": [],
   "source": [
    "lm=LinearRegression()"
   ]
  },
  {
   "cell_type": "code",
   "execution_count": 104,
   "metadata": {},
   "outputs": [
    {
     "data": {
      "text/plain": [
       "LinearRegression(copy_X=True, fit_intercept=True, n_jobs=None,\n",
       "         normalize=False)"
      ]
     },
     "execution_count": 104,
     "metadata": {},
     "output_type": "execute_result"
    }
   ],
   "source": [
    "lm.fit(x,y_train)"
   ]
  },
  {
   "cell_type": "code",
   "execution_count": 105,
   "metadata": {},
   "outputs": [
    {
     "name": "stdout",
     "output_type": "stream",
     "text": [
      "train data B0 -124.59426040111438\n",
      "train data Betas [ 6.42053134e-02  6.45735927e-03  1.24041896e-04 -1.65280033e-02\n",
      " -6.63048889e-03  3.80810324e-03  9.31410835e-02 -1.53761324e+00]\n"
     ]
    }
   ],
   "source": [
    "print('train data B0',lm.intercept_)\n",
    "print('train data Betas',lm.coef_)"
   ]
  },
  {
   "cell_type": "code",
   "execution_count": 115,
   "metadata": {},
   "outputs": [],
   "source": [
    "from sklearn import metrics\n",
    "pred=lm.predict(x)"
   ]
  },
  {
   "cell_type": "code",
   "execution_count": 108,
   "metadata": {},
   "outputs": [
    {
     "data": {
      "text/plain": [
       "0.1837783533313837"
      ]
     },
     "execution_count": 108,
     "metadata": {},
     "output_type": "execute_result"
    }
   ],
   "source": [
    "from sklearn.metrics import r2_score\n",
    "r2_score(y_test,pred)"
   ]
  },
  {
   "cell_type": "code",
   "execution_count": 117,
   "metadata": {},
   "outputs": [
    {
     "data": {
      "text/plain": [
       "0.7508932770523417"
      ]
     },
     "execution_count": 117,
     "metadata": {},
     "output_type": "execute_result"
    }
   ],
   "source": [
    "r2_score(y_train,pred)"
   ]
  },
  {
   "cell_type": "code",
   "execution_count": 118,
   "metadata": {},
   "outputs": [],
   "source": [
    "from statsmodels.api import add_constant"
   ]
  },
  {
   "cell_type": "code",
   "execution_count": 120,
   "metadata": {},
   "outputs": [],
   "source": [
    "x2=add_constant(x)"
   ]
  },
  {
   "cell_type": "code",
   "execution_count": 121,
   "metadata": {},
   "outputs": [],
   "source": [
    "lm_new=sm.OLS(y_train,x2)"
   ]
  },
  {
   "cell_type": "code",
   "execution_count": 122,
   "metadata": {},
   "outputs": [],
   "source": [
    "lm2=lm_new.fit()"
   ]
  },
  {
   "cell_type": "code",
   "execution_count": 123,
   "metadata": {},
   "outputs": [
    {
     "data": {
      "text/plain": [
       "const       1.431046e-09\n",
       "MEI         4.898887e-20\n",
       "CO2         5.052521e-03\n",
       "CH4         8.101456e-01\n",
       "N2O         5.466931e-02\n",
       "CFC-11      5.957288e-05\n",
       "CFC-12      2.097199e-04\n",
       "TSI         1.095945e-09\n",
       "Aerosols    5.411273e-12\n",
       "dtype: float64"
      ]
     },
     "execution_count": 123,
     "metadata": {},
     "output_type": "execute_result"
    }
   ],
   "source": [
    "lm2.pvalues"
   ]
  },
  {
   "cell_type": "code",
   "execution_count": 124,
   "metadata": {},
   "outputs": [
    {
     "name": "stdout",
     "output_type": "stream",
     "text": [
      "                            OLS Regression Results                            \n",
      "==============================================================================\n",
      "Dep. Variable:                   Temp   R-squared:                       0.751\n",
      "Model:                            OLS   Adj. R-squared:                  0.744\n",
      "Method:                 Least Squares   F-statistic:                     103.6\n",
      "Date:                Tue, 10 Sep 2019   Prob (F-statistic):           1.94e-78\n",
      "Time:                        08:21:07   Log-Likelihood:                 280.10\n",
      "No. Observations:                 284   AIC:                            -542.2\n",
      "Df Residuals:                     275   BIC:                            -509.4\n",
      "Df Model:                           8                                         \n",
      "Covariance Type:            nonrobust                                         \n",
      "==============================================================================\n",
      "                 coef    std err          t      P>|t|      [0.025      0.975]\n",
      "------------------------------------------------------------------------------\n",
      "const       -124.5943     19.887     -6.265      0.000    -163.744     -85.445\n",
      "MEI            0.0642      0.006      9.923      0.000       0.051       0.077\n",
      "CO2            0.0065      0.002      2.826      0.005       0.002       0.011\n",
      "CH4            0.0001      0.001      0.240      0.810      -0.001       0.001\n",
      "N2O           -0.0165      0.009     -1.930      0.055      -0.033       0.000\n",
      "CFC-11        -0.0066      0.002     -4.078      0.000      -0.010      -0.003\n",
      "CFC-12         0.0038      0.001      3.757      0.000       0.002       0.006\n",
      "TSI            0.0931      0.015      6.313      0.000       0.064       0.122\n",
      "Aerosols      -1.5376      0.213     -7.210      0.000      -1.957      -1.118\n",
      "==============================================================================\n",
      "Omnibus:                        8.740   Durbin-Watson:                   0.956\n",
      "Prob(Omnibus):                  0.013   Jarque-Bera (JB):               10.327\n",
      "Skew:                           0.289   Prob(JB):                      0.00572\n",
      "Kurtosis:                       3.733   Cond. No.                     8.53e+06\n",
      "==============================================================================\n",
      "\n",
      "Warnings:\n",
      "[1] Standard Errors assume that the covariance matrix of the errors is correctly specified.\n",
      "[2] The condition number is large, 8.53e+06. This might indicate that there are\n",
      "strong multicollinearity or other numerical problems.\n"
     ]
    }
   ],
   "source": [
    "print(lm2.summary())"
   ]
  },
  {
   "cell_type": "code",
   "execution_count": 125,
   "metadata": {},
   "outputs": [
    {
     "data": {
      "text/html": [
       "<div>\n",
       "<style scoped>\n",
       "    .dataframe tbody tr th:only-of-type {\n",
       "        vertical-align: middle;\n",
       "    }\n",
       "\n",
       "    .dataframe tbody tr th {\n",
       "        vertical-align: top;\n",
       "    }\n",
       "\n",
       "    .dataframe thead th {\n",
       "        text-align: right;\n",
       "    }\n",
       "</style>\n",
       "<table border=\"1\" class=\"dataframe\">\n",
       "  <thead>\n",
       "    <tr style=\"text-align: right;\">\n",
       "      <th></th>\n",
       "      <th>MEI</th>\n",
       "      <th>CO2</th>\n",
       "      <th>CH4</th>\n",
       "      <th>N2O</th>\n",
       "      <th>CFC-11</th>\n",
       "      <th>CFC-12</th>\n",
       "      <th>TSI</th>\n",
       "      <th>Aerosols</th>\n",
       "    </tr>\n",
       "  </thead>\n",
       "  <tbody>\n",
       "    <tr>\n",
       "      <th>0</th>\n",
       "      <td>2.556</td>\n",
       "      <td>345.96</td>\n",
       "      <td>1638.59</td>\n",
       "      <td>303.677</td>\n",
       "      <td>191.324</td>\n",
       "      <td>350.113</td>\n",
       "      <td>1366.1024</td>\n",
       "      <td>0.0863</td>\n",
       "    </tr>\n",
       "    <tr>\n",
       "      <th>1</th>\n",
       "      <td>2.167</td>\n",
       "      <td>345.52</td>\n",
       "      <td>1633.71</td>\n",
       "      <td>303.746</td>\n",
       "      <td>192.057</td>\n",
       "      <td>351.848</td>\n",
       "      <td>1366.1208</td>\n",
       "      <td>0.0794</td>\n",
       "    </tr>\n",
       "    <tr>\n",
       "      <th>2</th>\n",
       "      <td>1.741</td>\n",
       "      <td>344.15</td>\n",
       "      <td>1633.22</td>\n",
       "      <td>303.795</td>\n",
       "      <td>192.818</td>\n",
       "      <td>353.725</td>\n",
       "      <td>1366.2850</td>\n",
       "      <td>0.0731</td>\n",
       "    </tr>\n",
       "    <tr>\n",
       "      <th>3</th>\n",
       "      <td>1.130</td>\n",
       "      <td>342.25</td>\n",
       "      <td>1631.35</td>\n",
       "      <td>303.839</td>\n",
       "      <td>193.602</td>\n",
       "      <td>355.633</td>\n",
       "      <td>1366.4202</td>\n",
       "      <td>0.0673</td>\n",
       "    </tr>\n",
       "    <tr>\n",
       "      <th>4</th>\n",
       "      <td>0.428</td>\n",
       "      <td>340.17</td>\n",
       "      <td>1648.40</td>\n",
       "      <td>303.901</td>\n",
       "      <td>194.392</td>\n",
       "      <td>357.465</td>\n",
       "      <td>1366.2335</td>\n",
       "      <td>0.0619</td>\n",
       "    </tr>\n",
       "  </tbody>\n",
       "</table>\n",
       "</div>"
      ],
      "text/plain": [
       "     MEI     CO2      CH4      N2O   CFC-11   CFC-12        TSI  Aerosols\n",
       "0  2.556  345.96  1638.59  303.677  191.324  350.113  1366.1024    0.0863\n",
       "1  2.167  345.52  1633.71  303.746  192.057  351.848  1366.1208    0.0794\n",
       "2  1.741  344.15  1633.22  303.795  192.818  353.725  1366.2850    0.0731\n",
       "3  1.130  342.25  1631.35  303.839  193.602  355.633  1366.4202    0.0673\n",
       "4  0.428  340.17  1648.40  303.901  194.392  357.465  1366.2335    0.0619"
      ]
     },
     "execution_count": 125,
     "metadata": {},
     "output_type": "execute_result"
    }
   ],
   "source": [
    "x.head()\n",
    "train data B0 -124.59426040111438\n",
    "train data Betas [ 6.42053134e-02  6.45735927e-03  1.24041896e-04 -1.65280033e-02\n",
    " -6.63048889e-03  3.80810324e-03  9.31410835e-02 -1.53761324e+00]"
   ]
  },
  {
   "cell_type": "code",
   "execution_count": 128,
   "metadata": {},
   "outputs": [],
   "source": [
    "x_new=x_train[['MEI','N2O','TSI','Aerosols']]"
   ]
  },
  {
   "cell_type": "code",
   "execution_count": 136,
   "metadata": {},
   "outputs": [],
   "source": [
    "x_test.head()\n",
    "x_test_2=x_test[['MEI','N2O','TSI','Aerosols']]"
   ]
  },
  {
   "cell_type": "code",
   "execution_count": 130,
   "metadata": {},
   "outputs": [],
   "source": [
    "lm_new=LinearRegression()"
   ]
  },
  {
   "cell_type": "code",
   "execution_count": 131,
   "metadata": {},
   "outputs": [
    {
     "data": {
      "text/plain": [
       "LinearRegression(copy_X=True, fit_intercept=True, n_jobs=None,\n",
       "         normalize=False)"
      ]
     },
     "execution_count": 131,
     "metadata": {},
     "output_type": "execute_result"
    }
   ],
   "source": [
    "lm_new.fit(x_new,y_train)"
   ]
  },
  {
   "cell_type": "code",
   "execution_count": 132,
   "metadata": {},
   "outputs": [
    {
     "name": "stdout",
     "output_type": "stream",
     "text": [
      "[ 0.06418576  0.02531975  0.07949028 -1.70173707]\n"
     ]
    }
   ],
   "source": [
    "print(lm_new.coef_)"
   ]
  },
  {
   "cell_type": "code",
   "execution_count": 133,
   "metadata": {},
   "outputs": [],
   "source": [
    "pred_new=lm_new.predict(x_new)"
   ]
  },
  {
   "cell_type": "code",
   "execution_count": 134,
   "metadata": {},
   "outputs": [
    {
     "data": {
      "text/plain": [
       "0.726132127951111"
      ]
     },
     "execution_count": 134,
     "metadata": {},
     "output_type": "execute_result"
    }
   ],
   "source": [
    "r2_score(y_train,pred_new)"
   ]
  },
  {
   "cell_type": "code",
   "execution_count": 138,
   "metadata": {},
   "outputs": [],
   "source": [
    "pred_rev=lm_new.predict(x_test_2)"
   ]
  },
  {
   "cell_type": "code",
   "execution_count": 142,
   "metadata": {},
   "outputs": [
    {
     "data": {
      "text/plain": [
       "-0.10237639062709314"
      ]
     },
     "execution_count": 142,
     "metadata": {},
     "output_type": "execute_result"
    }
   ],
   "source": [
    "r2_score(y_test,pred_rev)"
   ]
  },
  {
   "cell_type": "code",
   "execution_count": null,
   "metadata": {},
   "outputs": [],
   "source": []
  }
 ],
 "metadata": {
  "kernelspec": {
   "display_name": "Python 3",
   "language": "python",
   "name": "python3"
  },
  "language_info": {
   "codemirror_mode": {
    "name": "ipython",
    "version": 3
   },
   "file_extension": ".py",
   "mimetype": "text/x-python",
   "name": "python",
   "nbconvert_exporter": "python",
   "pygments_lexer": "ipython3",
   "version": "3.7.3"
  }
 },
 "nbformat": 4,
 "nbformat_minor": 2
}

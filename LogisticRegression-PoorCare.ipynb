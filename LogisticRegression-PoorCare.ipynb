{
 "cells": [
  {
   "cell_type": "code",
   "execution_count": 1,
   "metadata": {},
   "outputs": [],
   "source": [
    "import pandas as pd\n",
    "import numpy as np\n",
    "import matplotlib.pyplot as plt\n",
    "import seaborn as sns\n",
    "import statsmodels.formula.api as sm\n",
    "from sklearn.model_selection import train_test_split\n",
    "from sklearn import metrics\n",
    "from sklearn.linear_model import LogisticRegression\n",
    "import statsmodels.discrete.discrete_model as sms\n",
    "from statsmodels.api import add_constant"
   ]
  },
  {
   "cell_type": "code",
   "execution_count": 2,
   "metadata": {},
   "outputs": [],
   "source": [
    "df=pd.read_csv('quality.csv')"
   ]
  },
  {
   "cell_type": "code",
   "execution_count": 3,
   "metadata": {},
   "outputs": [
    {
     "data": {
      "text/html": [
       "<div>\n",
       "<style scoped>\n",
       "    .dataframe tbody tr th:only-of-type {\n",
       "        vertical-align: middle;\n",
       "    }\n",
       "\n",
       "    .dataframe tbody tr th {\n",
       "        vertical-align: top;\n",
       "    }\n",
       "\n",
       "    .dataframe thead th {\n",
       "        text-align: right;\n",
       "    }\n",
       "</style>\n",
       "<table border=\"1\" class=\"dataframe\">\n",
       "  <thead>\n",
       "    <tr style=\"text-align: right;\">\n",
       "      <th></th>\n",
       "      <th>MemberID</th>\n",
       "      <th>InpatientDays</th>\n",
       "      <th>ERVisits</th>\n",
       "      <th>OfficeVisits</th>\n",
       "      <th>Narcotics</th>\n",
       "      <th>DaysSinceLastERVisit</th>\n",
       "      <th>Pain</th>\n",
       "      <th>TotalVisits</th>\n",
       "      <th>ProviderCount</th>\n",
       "      <th>MedicalClaims</th>\n",
       "      <th>ClaimLines</th>\n",
       "      <th>StartedOnCombination</th>\n",
       "      <th>AcuteDrugGapSmall</th>\n",
       "      <th>PoorCare</th>\n",
       "    </tr>\n",
       "  </thead>\n",
       "  <tbody>\n",
       "    <tr>\n",
       "      <th>0</th>\n",
       "      <td>1</td>\n",
       "      <td>0</td>\n",
       "      <td>0</td>\n",
       "      <td>18</td>\n",
       "      <td>1</td>\n",
       "      <td>731.0</td>\n",
       "      <td>10</td>\n",
       "      <td>18</td>\n",
       "      <td>21</td>\n",
       "      <td>93</td>\n",
       "      <td>222</td>\n",
       "      <td>False</td>\n",
       "      <td>0</td>\n",
       "      <td>0</td>\n",
       "    </tr>\n",
       "    <tr>\n",
       "      <th>1</th>\n",
       "      <td>2</td>\n",
       "      <td>1</td>\n",
       "      <td>1</td>\n",
       "      <td>6</td>\n",
       "      <td>1</td>\n",
       "      <td>411.0</td>\n",
       "      <td>0</td>\n",
       "      <td>8</td>\n",
       "      <td>27</td>\n",
       "      <td>19</td>\n",
       "      <td>115</td>\n",
       "      <td>False</td>\n",
       "      <td>1</td>\n",
       "      <td>0</td>\n",
       "    </tr>\n",
       "    <tr>\n",
       "      <th>2</th>\n",
       "      <td>3</td>\n",
       "      <td>0</td>\n",
       "      <td>0</td>\n",
       "      <td>5</td>\n",
       "      <td>3</td>\n",
       "      <td>731.0</td>\n",
       "      <td>10</td>\n",
       "      <td>5</td>\n",
       "      <td>16</td>\n",
       "      <td>27</td>\n",
       "      <td>148</td>\n",
       "      <td>False</td>\n",
       "      <td>5</td>\n",
       "      <td>0</td>\n",
       "    </tr>\n",
       "    <tr>\n",
       "      <th>3</th>\n",
       "      <td>4</td>\n",
       "      <td>0</td>\n",
       "      <td>1</td>\n",
       "      <td>19</td>\n",
       "      <td>0</td>\n",
       "      <td>158.0</td>\n",
       "      <td>34</td>\n",
       "      <td>20</td>\n",
       "      <td>14</td>\n",
       "      <td>59</td>\n",
       "      <td>242</td>\n",
       "      <td>False</td>\n",
       "      <td>0</td>\n",
       "      <td>0</td>\n",
       "    </tr>\n",
       "    <tr>\n",
       "      <th>4</th>\n",
       "      <td>5</td>\n",
       "      <td>8</td>\n",
       "      <td>2</td>\n",
       "      <td>19</td>\n",
       "      <td>3</td>\n",
       "      <td>449.0</td>\n",
       "      <td>10</td>\n",
       "      <td>29</td>\n",
       "      <td>24</td>\n",
       "      <td>51</td>\n",
       "      <td>204</td>\n",
       "      <td>False</td>\n",
       "      <td>0</td>\n",
       "      <td>0</td>\n",
       "    </tr>\n",
       "  </tbody>\n",
       "</table>\n",
       "</div>"
      ],
      "text/plain": [
       "   MemberID  InpatientDays  ERVisits  OfficeVisits  Narcotics  \\\n",
       "0         1              0         0            18          1   \n",
       "1         2              1         1             6          1   \n",
       "2         3              0         0             5          3   \n",
       "3         4              0         1            19          0   \n",
       "4         5              8         2            19          3   \n",
       "\n",
       "   DaysSinceLastERVisit  Pain  TotalVisits  ProviderCount  MedicalClaims  \\\n",
       "0                 731.0    10           18             21             93   \n",
       "1                 411.0     0            8             27             19   \n",
       "2                 731.0    10            5             16             27   \n",
       "3                 158.0    34           20             14             59   \n",
       "4                 449.0    10           29             24             51   \n",
       "\n",
       "   ClaimLines  StartedOnCombination  AcuteDrugGapSmall  PoorCare  \n",
       "0         222                 False                  0         0  \n",
       "1         115                 False                  1         0  \n",
       "2         148                 False                  5         0  \n",
       "3         242                 False                  0         0  \n",
       "4         204                 False                  0         0  "
      ]
     },
     "execution_count": 3,
     "metadata": {},
     "output_type": "execute_result"
    }
   ],
   "source": [
    "df.head()"
   ]
  },
  {
   "cell_type": "code",
   "execution_count": 4,
   "metadata": {},
   "outputs": [
    {
     "name": "stdout",
     "output_type": "stream",
     "text": [
      "<class 'pandas.core.frame.DataFrame'>\n",
      "RangeIndex: 131 entries, 0 to 130\n",
      "Data columns (total 14 columns):\n",
      "MemberID                131 non-null int64\n",
      "InpatientDays           131 non-null int64\n",
      "ERVisits                131 non-null int64\n",
      "OfficeVisits            131 non-null int64\n",
      "Narcotics               131 non-null int64\n",
      "DaysSinceLastERVisit    131 non-null float64\n",
      "Pain                    131 non-null int64\n",
      "TotalVisits             131 non-null int64\n",
      "ProviderCount           131 non-null int64\n",
      "MedicalClaims           131 non-null int64\n",
      "ClaimLines              131 non-null int64\n",
      "StartedOnCombination    131 non-null bool\n",
      "AcuteDrugGapSmall       131 non-null int64\n",
      "PoorCare                131 non-null int64\n",
      "dtypes: bool(1), float64(1), int64(12)\n",
      "memory usage: 13.5 KB\n"
     ]
    }
   ],
   "source": [
    "df.info()"
   ]
  },
  {
   "cell_type": "code",
   "execution_count": 5,
   "metadata": {},
   "outputs": [
    {
     "data": {
      "text/html": [
       "<div>\n",
       "<style scoped>\n",
       "    .dataframe tbody tr th:only-of-type {\n",
       "        vertical-align: middle;\n",
       "    }\n",
       "\n",
       "    .dataframe tbody tr th {\n",
       "        vertical-align: top;\n",
       "    }\n",
       "\n",
       "    .dataframe thead th {\n",
       "        text-align: right;\n",
       "    }\n",
       "</style>\n",
       "<table border=\"1\" class=\"dataframe\">\n",
       "  <thead>\n",
       "    <tr style=\"text-align: right;\">\n",
       "      <th></th>\n",
       "      <th>MemberID</th>\n",
       "      <th>InpatientDays</th>\n",
       "      <th>ERVisits</th>\n",
       "      <th>OfficeVisits</th>\n",
       "      <th>Narcotics</th>\n",
       "      <th>DaysSinceLastERVisit</th>\n",
       "      <th>Pain</th>\n",
       "      <th>TotalVisits</th>\n",
       "      <th>ProviderCount</th>\n",
       "      <th>MedicalClaims</th>\n",
       "      <th>ClaimLines</th>\n",
       "      <th>AcuteDrugGapSmall</th>\n",
       "      <th>PoorCare</th>\n",
       "    </tr>\n",
       "  </thead>\n",
       "  <tbody>\n",
       "    <tr>\n",
       "      <th>count</th>\n",
       "      <td>131.000000</td>\n",
       "      <td>131.000000</td>\n",
       "      <td>131.000000</td>\n",
       "      <td>131.000000</td>\n",
       "      <td>131.000000</td>\n",
       "      <td>131.000000</td>\n",
       "      <td>131.000000</td>\n",
       "      <td>131.000000</td>\n",
       "      <td>131.000000</td>\n",
       "      <td>131.000000</td>\n",
       "      <td>131.000000</td>\n",
       "      <td>131.000000</td>\n",
       "      <td>131.000000</td>\n",
       "    </tr>\n",
       "    <tr>\n",
       "      <th>mean</th>\n",
       "      <td>66.000000</td>\n",
       "      <td>2.717557</td>\n",
       "      <td>1.496183</td>\n",
       "      <td>13.229008</td>\n",
       "      <td>4.572519</td>\n",
       "      <td>480.567112</td>\n",
       "      <td>15.557252</td>\n",
       "      <td>17.442748</td>\n",
       "      <td>23.984733</td>\n",
       "      <td>43.244275</td>\n",
       "      <td>142.862595</td>\n",
       "      <td>2.694656</td>\n",
       "      <td>0.251908</td>\n",
       "    </tr>\n",
       "    <tr>\n",
       "      <th>std</th>\n",
       "      <td>37.960506</td>\n",
       "      <td>5.099434</td>\n",
       "      <td>2.167501</td>\n",
       "      <td>9.077076</td>\n",
       "      <td>9.713615</td>\n",
       "      <td>274.767240</td>\n",
       "      <td>20.418001</td>\n",
       "      <td>12.298318</td>\n",
       "      <td>13.670285</td>\n",
       "      <td>28.886540</td>\n",
       "      <td>91.629921</td>\n",
       "      <td>6.983379</td>\n",
       "      <td>0.435775</td>\n",
       "    </tr>\n",
       "    <tr>\n",
       "      <th>min</th>\n",
       "      <td>1.000000</td>\n",
       "      <td>0.000000</td>\n",
       "      <td>0.000000</td>\n",
       "      <td>0.000000</td>\n",
       "      <td>0.000000</td>\n",
       "      <td>6.000000</td>\n",
       "      <td>0.000000</td>\n",
       "      <td>0.000000</td>\n",
       "      <td>5.000000</td>\n",
       "      <td>11.000000</td>\n",
       "      <td>20.000000</td>\n",
       "      <td>0.000000</td>\n",
       "      <td>0.000000</td>\n",
       "    </tr>\n",
       "    <tr>\n",
       "      <th>25%</th>\n",
       "      <td>33.500000</td>\n",
       "      <td>0.000000</td>\n",
       "      <td>0.000000</td>\n",
       "      <td>7.000000</td>\n",
       "      <td>0.000000</td>\n",
       "      <td>206.958333</td>\n",
       "      <td>1.000000</td>\n",
       "      <td>8.000000</td>\n",
       "      <td>15.000000</td>\n",
       "      <td>25.500000</td>\n",
       "      <td>83.500000</td>\n",
       "      <td>0.000000</td>\n",
       "      <td>0.000000</td>\n",
       "    </tr>\n",
       "    <tr>\n",
       "      <th>50%</th>\n",
       "      <td>66.000000</td>\n",
       "      <td>0.000000</td>\n",
       "      <td>1.000000</td>\n",
       "      <td>12.000000</td>\n",
       "      <td>1.000000</td>\n",
       "      <td>640.958333</td>\n",
       "      <td>8.000000</td>\n",
       "      <td>15.000000</td>\n",
       "      <td>20.000000</td>\n",
       "      <td>37.000000</td>\n",
       "      <td>120.000000</td>\n",
       "      <td>1.000000</td>\n",
       "      <td>0.000000</td>\n",
       "    </tr>\n",
       "    <tr>\n",
       "      <th>75%</th>\n",
       "      <td>98.500000</td>\n",
       "      <td>3.000000</td>\n",
       "      <td>2.000000</td>\n",
       "      <td>18.500000</td>\n",
       "      <td>3.000000</td>\n",
       "      <td>731.000000</td>\n",
       "      <td>23.000000</td>\n",
       "      <td>22.500000</td>\n",
       "      <td>30.000000</td>\n",
       "      <td>49.500000</td>\n",
       "      <td>185.000000</td>\n",
       "      <td>3.000000</td>\n",
       "      <td>0.500000</td>\n",
       "    </tr>\n",
       "    <tr>\n",
       "      <th>max</th>\n",
       "      <td>131.000000</td>\n",
       "      <td>30.000000</td>\n",
       "      <td>11.000000</td>\n",
       "      <td>46.000000</td>\n",
       "      <td>59.000000</td>\n",
       "      <td>731.000000</td>\n",
       "      <td>104.000000</td>\n",
       "      <td>69.000000</td>\n",
       "      <td>82.000000</td>\n",
       "      <td>194.000000</td>\n",
       "      <td>577.000000</td>\n",
       "      <td>71.000000</td>\n",
       "      <td>1.000000</td>\n",
       "    </tr>\n",
       "  </tbody>\n",
       "</table>\n",
       "</div>"
      ],
      "text/plain": [
       "         MemberID  InpatientDays    ERVisits  OfficeVisits   Narcotics  \\\n",
       "count  131.000000     131.000000  131.000000    131.000000  131.000000   \n",
       "mean    66.000000       2.717557    1.496183     13.229008    4.572519   \n",
       "std     37.960506       5.099434    2.167501      9.077076    9.713615   \n",
       "min      1.000000       0.000000    0.000000      0.000000    0.000000   \n",
       "25%     33.500000       0.000000    0.000000      7.000000    0.000000   \n",
       "50%     66.000000       0.000000    1.000000     12.000000    1.000000   \n",
       "75%     98.500000       3.000000    2.000000     18.500000    3.000000   \n",
       "max    131.000000      30.000000   11.000000     46.000000   59.000000   \n",
       "\n",
       "       DaysSinceLastERVisit        Pain  TotalVisits  ProviderCount  \\\n",
       "count            131.000000  131.000000   131.000000     131.000000   \n",
       "mean             480.567112   15.557252    17.442748      23.984733   \n",
       "std              274.767240   20.418001    12.298318      13.670285   \n",
       "min                6.000000    0.000000     0.000000       5.000000   \n",
       "25%              206.958333    1.000000     8.000000      15.000000   \n",
       "50%              640.958333    8.000000    15.000000      20.000000   \n",
       "75%              731.000000   23.000000    22.500000      30.000000   \n",
       "max              731.000000  104.000000    69.000000      82.000000   \n",
       "\n",
       "       MedicalClaims  ClaimLines  AcuteDrugGapSmall    PoorCare  \n",
       "count     131.000000  131.000000         131.000000  131.000000  \n",
       "mean       43.244275  142.862595           2.694656    0.251908  \n",
       "std        28.886540   91.629921           6.983379    0.435775  \n",
       "min        11.000000   20.000000           0.000000    0.000000  \n",
       "25%        25.500000   83.500000           0.000000    0.000000  \n",
       "50%        37.000000  120.000000           1.000000    0.000000  \n",
       "75%        49.500000  185.000000           3.000000    0.500000  \n",
       "max       194.000000  577.000000          71.000000    1.000000  "
      ]
     },
     "execution_count": 5,
     "metadata": {},
     "output_type": "execute_result"
    }
   ],
   "source": [
    "df.describe()"
   ]
  },
  {
   "cell_type": "code",
   "execution_count": 6,
   "metadata": {},
   "outputs": [
    {
     "data": {
      "text/plain": [
       "0    98\n",
       "1    33\n",
       "Name: PoorCare, dtype: int64"
      ]
     },
     "execution_count": 6,
     "metadata": {},
     "output_type": "execute_result"
    }
   ],
   "source": [
    "df['PoorCare'].value_counts()"
   ]
  },
  {
   "cell_type": "code",
   "execution_count": 7,
   "metadata": {},
   "outputs": [
    {
     "data": {
      "text/plain": [
       "Index(['MemberID', 'InpatientDays', 'ERVisits', 'OfficeVisits', 'Narcotics',\n",
       "       'DaysSinceLastERVisit', 'Pain', 'TotalVisits', 'ProviderCount',\n",
       "       'MedicalClaims', 'ClaimLines', 'StartedOnCombination',\n",
       "       'AcuteDrugGapSmall', 'PoorCare'],\n",
       "      dtype='object')"
      ]
     },
     "execution_count": 7,
     "metadata": {},
     "output_type": "execute_result"
    }
   ],
   "source": [
    "df.columns"
   ]
  },
  {
   "cell_type": "code",
   "execution_count": 8,
   "metadata": {},
   "outputs": [],
   "source": [
    "baseline_model_accuracy=98/(98+33)\n",
    "#The logistic model I am going to build should do better than this!"
   ]
  },
  {
   "cell_type": "code",
   "execution_count": 9,
   "metadata": {},
   "outputs": [
    {
     "name": "stderr",
     "output_type": "stream",
     "text": [
      "C:\\ProgramData\\Anaconda3\\lib\\site-packages\\statsmodels\\nonparametric\\kde.py:488: RuntimeWarning: invalid value encountered in true_divide\n",
      "  binned = fast_linbin(X, a, b, gridsize) / (delta * nobs)\n",
      "C:\\ProgramData\\Anaconda3\\lib\\site-packages\\statsmodels\\nonparametric\\kdetools.py:34: RuntimeWarning: invalid value encountered in double_scalars\n",
      "  FAC1 = 2*(np.pi*bw/RANGE)**2\n"
     ]
    },
    {
     "data": {
      "image/png": "[encoded data removed]",
      "text/plain": [
       "<Figure size 413.375x360 with 6 Axes>"
      ]
     },
     "metadata": {
      "needs_background": "light"
     },
     "output_type": "display_data"
    },
    {
     "data": {
      "image/png": "[encoded data removed]",
      "text/plain": [
       "<Figure size 413.375x360 with 6 Axes>"
      ]
     },
     "metadata": {
      "needs_background": "light"
     },
     "output_type": "display_data"
    },
    {
     "data": {
      "image/png": "[encoded data removed]",
      "text/plain": [
       "<Figure size 413.375x360 with 6 Axes>"
      ]
     },
     "metadata": {
      "needs_background": "light"
     },
     "output_type": "display_data"
    },
    {
     "data": {
      "image/png": "[encoded data removed]",
      "text/plain": [
       "<Figure size 413.375x360 with 6 Axes>"
      ]
     },
     "metadata": {
      "needs_background": "light"
     },
     "output_type": "display_data"
    },
    {
     "data": {
      "image/png": "[encoded data removed]",
      "text/plain": [
       "<Figure size 413.375x360 with 6 Axes>"
      ]
     },
     "metadata": {
      "needs_background": "light"
     },
     "output_type": "display_data"
    },
    {
     "data": {
      "image/png": "[encoded data removed]",
      "text/plain": [
       "<Figure size 413.375x360 with 6 Axes>"
      ]
     },
     "metadata": {
      "needs_background": "light"
     },
     "output_type": "display_data"
    },
    {
     "data": {
      "image/png": "[encoded data removed]",
      "text/plain": [
       "<Figure size 413.375x360 with 6 Axes>"
      ]
     },
     "metadata": {
      "needs_background": "light"
     },
     "output_type": "display_data"
    },
    {
     "data": {
      "image/png": "[encoded data removed]",
      "text/plain": [
       "<Figure size 413.375x360 with 6 Axes>"
      ]
     },
     "metadata": {
      "needs_background": "light"
     },
     "output_type": "display_data"
    },
    {
     "data": {
      "image/png": "[encoded data removed]",
      "text/plain": [
       "<Figure size 413.375x360 with 6 Axes>"
      ]
     },
     "metadata": {
      "needs_background": "light"
     },
     "output_type": "display_data"
    },
    {
     "data": {
      "image/png": "[encoded data removed]",
      "text/plain": [
       "<Figure size 413.375x360 with 6 Axes>"
      ]
     },
     "metadata": {
      "needs_background": "light"
     },
     "output_type": "display_data"
    },
    {
     "data": {
      "image/png": "[encoded data removed]",
      "text/plain": [
       "<Figure size 413.375x360 with 6 Axes>"
      ]
     },
     "metadata": {
      "needs_background": "light"
     },
     "output_type": "display_data"
    }
   ],
   "source": [
    "sns.pairplot(df[['ERVisits','PoorCare']],hue='PoorCare');\n",
    "sns.pairplot(df[['OfficeVisits','PoorCare']],hue='PoorCare');\n",
    "sns.pairplot(df[['Narcotics','PoorCare']],hue='PoorCare');\n",
    "sns.pairplot(df[['DaysSinceLastERVisit','PoorCare']],hue='PoorCare');\n",
    "sns.pairplot(df[['Pain','PoorCare']],hue='PoorCare');\n",
    "sns.pairplot(df[['TotalVisits','PoorCare']],hue='PoorCare');\n",
    "sns.pairplot(df[['ProviderCount','PoorCare']],hue='PoorCare');\n",
    "sns.pairplot(df[['MedicalClaims','PoorCare']],hue='PoorCare');\n",
    "sns.pairplot(df[['ClaimLines','PoorCare']],hue='PoorCare');\n",
    "sns.pairplot(df[['StartedOnCombination','PoorCare']],hue='PoorCare');\n",
    "sns.pairplot(df[['AcuteDrugGapSmall','PoorCare']],hue='PoorCare');"
   ]
  },
  {
   "cell_type": "code",
   "execution_count": 10,
   "metadata": {},
   "outputs": [
    {
     "data": {
      "text/html": [
       "<div>\n",
       "<style scoped>\n",
       "    .dataframe tbody tr th:only-of-type {\n",
       "        vertical-align: middle;\n",
       "    }\n",
       "\n",
       "    .dataframe tbody tr th {\n",
       "        vertical-align: top;\n",
       "    }\n",
       "\n",
       "    .dataframe thead th {\n",
       "        text-align: right;\n",
       "    }\n",
       "</style>\n",
       "<table border=\"1\" class=\"dataframe\">\n",
       "  <thead>\n",
       "    <tr style=\"text-align: right;\">\n",
       "      <th></th>\n",
       "      <th>MemberID</th>\n",
       "      <th>InpatientDays</th>\n",
       "      <th>ERVisits</th>\n",
       "      <th>OfficeVisits</th>\n",
       "      <th>Narcotics</th>\n",
       "      <th>DaysSinceLastERVisit</th>\n",
       "      <th>Pain</th>\n",
       "      <th>TotalVisits</th>\n",
       "      <th>ProviderCount</th>\n",
       "      <th>MedicalClaims</th>\n",
       "      <th>ClaimLines</th>\n",
       "      <th>StartedOnCombination</th>\n",
       "      <th>AcuteDrugGapSmall</th>\n",
       "      <th>PoorCare</th>\n",
       "    </tr>\n",
       "  </thead>\n",
       "  <tbody>\n",
       "    <tr>\n",
       "      <th>MemberID</th>\n",
       "      <td>1.000000</td>\n",
       "      <td>-0.063620</td>\n",
       "      <td>-0.011032</td>\n",
       "      <td>-0.006273</td>\n",
       "      <td>0.203962</td>\n",
       "      <td>0.100174</td>\n",
       "      <td>0.023700</td>\n",
       "      <td>-0.032954</td>\n",
       "      <td>0.012511</td>\n",
       "      <td>-0.065212</td>\n",
       "      <td>-0.090459</td>\n",
       "      <td>-0.144841</td>\n",
       "      <td>0.196651</td>\n",
       "      <td>0.060916</td>\n",
       "    </tr>\n",
       "    <tr>\n",
       "      <th>InpatientDays</th>\n",
       "      <td>-0.063620</td>\n",
       "      <td>1.000000</td>\n",
       "      <td>0.440087</td>\n",
       "      <td>0.175901</td>\n",
       "      <td>-0.093769</td>\n",
       "      <td>-0.290121</td>\n",
       "      <td>0.304058</td>\n",
       "      <td>0.622036</td>\n",
       "      <td>0.244023</td>\n",
       "      <td>0.286378</td>\n",
       "      <td>0.386951</td>\n",
       "      <td>0.105626</td>\n",
       "      <td>-0.001144</td>\n",
       "      <td>0.080726</td>\n",
       "    </tr>\n",
       "    <tr>\n",
       "      <th>ERVisits</th>\n",
       "      <td>-0.011032</td>\n",
       "      <td>0.440087</td>\n",
       "      <td>1.000000</td>\n",
       "      <td>0.308526</td>\n",
       "      <td>-0.003732</td>\n",
       "      <td>-0.735246</td>\n",
       "      <td>0.546779</td>\n",
       "      <td>0.586439</td>\n",
       "      <td>0.457429</td>\n",
       "      <td>0.355319</td>\n",
       "      <td>0.542001</td>\n",
       "      <td>0.118766</td>\n",
       "      <td>-0.072750</td>\n",
       "      <td>0.135401</td>\n",
       "    </tr>\n",
       "    <tr>\n",
       "      <th>OfficeVisits</th>\n",
       "      <td>-0.006273</td>\n",
       "      <td>0.175901</td>\n",
       "      <td>0.308526</td>\n",
       "      <td>1.000000</td>\n",
       "      <td>0.275759</td>\n",
       "      <td>-0.128388</td>\n",
       "      <td>0.352968</td>\n",
       "      <td>0.865387</td>\n",
       "      <td>0.365469</td>\n",
       "      <td>0.498513</td>\n",
       "      <td>0.424953</td>\n",
       "      <td>0.164056</td>\n",
       "      <td>0.200735</td>\n",
       "      <td>0.329512</td>\n",
       "    </tr>\n",
       "    <tr>\n",
       "      <th>Narcotics</th>\n",
       "      <td>0.203962</td>\n",
       "      <td>-0.093769</td>\n",
       "      <td>-0.003732</td>\n",
       "      <td>0.275759</td>\n",
       "      <td>1.000000</td>\n",
       "      <td>0.065055</td>\n",
       "      <td>0.106860</td>\n",
       "      <td>0.163992</td>\n",
       "      <td>0.293478</td>\n",
       "      <td>0.220541</td>\n",
       "      <td>0.185799</td>\n",
       "      <td>0.043641</td>\n",
       "      <td>0.710889</td>\n",
       "      <td>0.447236</td>\n",
       "    </tr>\n",
       "    <tr>\n",
       "      <th>DaysSinceLastERVisit</th>\n",
       "      <td>0.100174</td>\n",
       "      <td>-0.290121</td>\n",
       "      <td>-0.735246</td>\n",
       "      <td>-0.128388</td>\n",
       "      <td>0.065055</td>\n",
       "      <td>1.000000</td>\n",
       "      <td>-0.358781</td>\n",
       "      <td>-0.344640</td>\n",
       "      <td>-0.297701</td>\n",
       "      <td>-0.198114</td>\n",
       "      <td>-0.412797</td>\n",
       "      <td>-0.061953</td>\n",
       "      <td>0.131085</td>\n",
       "      <td>-0.107983</td>\n",
       "    </tr>\n",
       "    <tr>\n",
       "      <th>Pain</th>\n",
       "      <td>0.023700</td>\n",
       "      <td>0.304058</td>\n",
       "      <td>0.546779</td>\n",
       "      <td>0.352968</td>\n",
       "      <td>0.106860</td>\n",
       "      <td>-0.358781</td>\n",
       "      <td>1.000000</td>\n",
       "      <td>0.482959</td>\n",
       "      <td>0.405095</td>\n",
       "      <td>0.296697</td>\n",
       "      <td>0.464713</td>\n",
       "      <td>0.078373</td>\n",
       "      <td>-0.031490</td>\n",
       "      <td>0.092168</td>\n",
       "    </tr>\n",
       "    <tr>\n",
       "      <th>TotalVisits</th>\n",
       "      <td>-0.032954</td>\n",
       "      <td>0.622036</td>\n",
       "      <td>0.586439</td>\n",
       "      <td>0.865387</td>\n",
       "      <td>0.163992</td>\n",
       "      <td>-0.344640</td>\n",
       "      <td>0.482959</td>\n",
       "      <td>1.000000</td>\n",
       "      <td>0.451545</td>\n",
       "      <td>0.549308</td>\n",
       "      <td>0.569619</td>\n",
       "      <td>0.185814</td>\n",
       "      <td>0.134861</td>\n",
       "      <td>0.300540</td>\n",
       "    </tr>\n",
       "    <tr>\n",
       "      <th>ProviderCount</th>\n",
       "      <td>0.012511</td>\n",
       "      <td>0.244023</td>\n",
       "      <td>0.457429</td>\n",
       "      <td>0.365469</td>\n",
       "      <td>0.293478</td>\n",
       "      <td>-0.297701</td>\n",
       "      <td>0.405095</td>\n",
       "      <td>0.451545</td>\n",
       "      <td>1.000000</td>\n",
       "      <td>0.517002</td>\n",
       "      <td>0.605357</td>\n",
       "      <td>0.155765</td>\n",
       "      <td>0.141284</td>\n",
       "      <td>0.220166</td>\n",
       "    </tr>\n",
       "    <tr>\n",
       "      <th>MedicalClaims</th>\n",
       "      <td>-0.065212</td>\n",
       "      <td>0.286378</td>\n",
       "      <td>0.355319</td>\n",
       "      <td>0.498513</td>\n",
       "      <td>0.220541</td>\n",
       "      <td>-0.198114</td>\n",
       "      <td>0.296697</td>\n",
       "      <td>0.549308</td>\n",
       "      <td>0.517002</td>\n",
       "      <td>1.000000</td>\n",
       "      <td>0.813935</td>\n",
       "      <td>0.067931</td>\n",
       "      <td>0.085637</td>\n",
       "      <td>0.167399</td>\n",
       "    </tr>\n",
       "    <tr>\n",
       "      <th>ClaimLines</th>\n",
       "      <td>-0.090459</td>\n",
       "      <td>0.386951</td>\n",
       "      <td>0.542001</td>\n",
       "      <td>0.424953</td>\n",
       "      <td>0.185799</td>\n",
       "      <td>-0.412797</td>\n",
       "      <td>0.464713</td>\n",
       "      <td>0.569619</td>\n",
       "      <td>0.605357</td>\n",
       "      <td>0.813935</td>\n",
       "      <td>1.000000</td>\n",
       "      <td>0.045934</td>\n",
       "      <td>-0.013229</td>\n",
       "      <td>0.129175</td>\n",
       "    </tr>\n",
       "    <tr>\n",
       "      <th>StartedOnCombination</th>\n",
       "      <td>-0.144841</td>\n",
       "      <td>0.105626</td>\n",
       "      <td>0.118766</td>\n",
       "      <td>0.164056</td>\n",
       "      <td>0.043641</td>\n",
       "      <td>-0.061953</td>\n",
       "      <td>0.078373</td>\n",
       "      <td>0.185814</td>\n",
       "      <td>0.155765</td>\n",
       "      <td>0.067931</td>\n",
       "      <td>0.045934</td>\n",
       "      <td>1.000000</td>\n",
       "      <td>-0.032375</td>\n",
       "      <td>0.293437</td>\n",
       "    </tr>\n",
       "    <tr>\n",
       "      <th>AcuteDrugGapSmall</th>\n",
       "      <td>0.196651</td>\n",
       "      <td>-0.001144</td>\n",
       "      <td>-0.072750</td>\n",
       "      <td>0.200735</td>\n",
       "      <td>0.710889</td>\n",
       "      <td>0.131085</td>\n",
       "      <td>-0.031490</td>\n",
       "      <td>0.134861</td>\n",
       "      <td>0.141284</td>\n",
       "      <td>0.085637</td>\n",
       "      <td>-0.013229</td>\n",
       "      <td>-0.032375</td>\n",
       "      <td>1.000000</td>\n",
       "      <td>0.341435</td>\n",
       "    </tr>\n",
       "    <tr>\n",
       "      <th>PoorCare</th>\n",
       "      <td>0.060916</td>\n",
       "      <td>0.080726</td>\n",
       "      <td>0.135401</td>\n",
       "      <td>0.329512</td>\n",
       "      <td>0.447236</td>\n",
       "      <td>-0.107983</td>\n",
       "      <td>0.092168</td>\n",
       "      <td>0.300540</td>\n",
       "      <td>0.220166</td>\n",
       "      <td>0.167399</td>\n",
       "      <td>0.129175</td>\n",
       "      <td>0.293437</td>\n",
       "      <td>0.341435</td>\n",
       "      <td>1.000000</td>\n",
       "    </tr>\n",
       "  </tbody>\n",
       "</table>\n",
       "</div>"
      ],
      "text/plain": [
       "                      MemberID  InpatientDays  ERVisits  OfficeVisits  \\\n",
       "MemberID              1.000000      -0.063620 -0.011032     -0.006273   \n",
       "InpatientDays        -0.063620       1.000000  0.440087      0.175901   \n",
       "ERVisits             -0.011032       0.440087  1.000000      0.308526   \n",
       "OfficeVisits         -0.006273       0.175901  0.308526      1.000000   \n",
       "Narcotics             0.203962      -0.093769 -0.003732      0.275759   \n",
       "DaysSinceLastERVisit  0.100174      -0.290121 -0.735246     -0.128388   \n",
       "Pain                  0.023700       0.304058  0.546779      0.352968   \n",
       "TotalVisits          -0.032954       0.622036  0.586439      0.865387   \n",
       "ProviderCount         0.012511       0.244023  0.457429      0.365469   \n",
       "MedicalClaims        -0.065212       0.286378  0.355319      0.498513   \n",
       "ClaimLines           -0.090459       0.386951  0.542001      0.424953   \n",
       "StartedOnCombination -0.144841       0.105626  0.118766      0.164056   \n",
       "AcuteDrugGapSmall     0.196651      -0.001144 -0.072750      0.200735   \n",
       "PoorCare              0.060916       0.080726  0.135401      0.329512   \n",
       "\n",
       "                      Narcotics  DaysSinceLastERVisit      Pain  TotalVisits  \\\n",
       "MemberID               0.203962              0.100174  0.023700    -0.032954   \n",
       "InpatientDays         -0.093769             -0.290121  0.304058     0.622036   \n",
       "ERVisits              -0.003732             -0.735246  0.546779     0.586439   \n",
       "OfficeVisits           0.275759             -0.128388  0.352968     0.865387   \n",
       "Narcotics              1.000000              0.065055  0.106860     0.163992   \n",
       "DaysSinceLastERVisit   0.065055              1.000000 -0.358781    -0.344640   \n",
       "Pain                   0.106860             -0.358781  1.000000     0.482959   \n",
       "TotalVisits            0.163992             -0.344640  0.482959     1.000000   \n",
       "ProviderCount          0.293478             -0.297701  0.405095     0.451545   \n",
       "MedicalClaims          0.220541             -0.198114  0.296697     0.549308   \n",
       "ClaimLines             0.185799             -0.412797  0.464713     0.569619   \n",
       "StartedOnCombination   0.043641             -0.061953  0.078373     0.185814   \n",
       "AcuteDrugGapSmall      0.710889              0.131085 -0.031490     0.134861   \n",
       "PoorCare               0.447236             -0.107983  0.092168     0.300540   \n",
       "\n",
       "                      ProviderCount  MedicalClaims  ClaimLines  \\\n",
       "MemberID                   0.012511      -0.065212   -0.090459   \n",
       "InpatientDays              0.244023       0.286378    0.386951   \n",
       "ERVisits                   0.457429       0.355319    0.542001   \n",
       "OfficeVisits               0.365469       0.498513    0.424953   \n",
       "Narcotics                  0.293478       0.220541    0.185799   \n",
       "DaysSinceLastERVisit      -0.297701      -0.198114   -0.412797   \n",
       "Pain                       0.405095       0.296697    0.464713   \n",
       "TotalVisits                0.451545       0.549308    0.569619   \n",
       "ProviderCount              1.000000       0.517002    0.605357   \n",
       "MedicalClaims              0.517002       1.000000    0.813935   \n",
       "ClaimLines                 0.605357       0.813935    1.000000   \n",
       "StartedOnCombination       0.155765       0.067931    0.045934   \n",
       "AcuteDrugGapSmall          0.141284       0.085637   -0.013229   \n",
       "PoorCare                   0.220166       0.167399    0.129175   \n",
       "\n",
       "                      StartedOnCombination  AcuteDrugGapSmall  PoorCare  \n",
       "MemberID                         -0.144841           0.196651  0.060916  \n",
       "InpatientDays                     0.105626          -0.001144  0.080726  \n",
       "ERVisits                          0.118766          -0.072750  0.135401  \n",
       "OfficeVisits                      0.164056           0.200735  0.329512  \n",
       "Narcotics                         0.043641           0.710889  0.447236  \n",
       "DaysSinceLastERVisit             -0.061953           0.131085 -0.107983  \n",
       "Pain                              0.078373          -0.031490  0.092168  \n",
       "TotalVisits                       0.185814           0.134861  0.300540  \n",
       "ProviderCount                     0.155765           0.141284  0.220166  \n",
       "MedicalClaims                     0.067931           0.085637  0.167399  \n",
       "ClaimLines                        0.045934          -0.013229  0.129175  \n",
       "StartedOnCombination              1.000000          -0.032375  0.293437  \n",
       "AcuteDrugGapSmall                -0.032375           1.000000  0.341435  \n",
       "PoorCare                          0.293437           0.341435  1.000000  "
      ]
     },
     "execution_count": 10,
     "metadata": {},
     "output_type": "execute_result"
    }
   ],
   "source": [
    "df.corr()"
   ]
  },
  {
   "cell_type": "code",
   "execution_count": 11,
   "metadata": {},
   "outputs": [
    {
     "data": {
      "text/html": [
       "<div>\n",
       "<style scoped>\n",
       "    .dataframe tbody tr th:only-of-type {\n",
       "        vertical-align: middle;\n",
       "    }\n",
       "\n",
       "    .dataframe tbody tr th {\n",
       "        vertical-align: top;\n",
       "    }\n",
       "\n",
       "    .dataframe thead th {\n",
       "        text-align: right;\n",
       "    }\n",
       "</style>\n",
       "<table border=\"1\" class=\"dataframe\">\n",
       "  <thead>\n",
       "    <tr style=\"text-align: right;\">\n",
       "      <th>StartedOnCombination</th>\n",
       "      <th>False</th>\n",
       "      <th>True</th>\n",
       "    </tr>\n",
       "    <tr>\n",
       "      <th>PoorCare</th>\n",
       "      <th></th>\n",
       "      <th></th>\n",
       "    </tr>\n",
       "  </thead>\n",
       "  <tbody>\n",
       "    <tr>\n",
       "      <th>0</th>\n",
       "      <td>97</td>\n",
       "      <td>1</td>\n",
       "    </tr>\n",
       "    <tr>\n",
       "      <th>1</th>\n",
       "      <td>28</td>\n",
       "      <td>5</td>\n",
       "    </tr>\n",
       "  </tbody>\n",
       "</table>\n",
       "</div>"
      ],
      "text/plain": [
       "StartedOnCombination  False  True \n",
       "PoorCare                          \n",
       "0                        97      1\n",
       "1                        28      5"
      ]
     },
     "execution_count": 11,
     "metadata": {},
     "output_type": "execute_result"
    }
   ],
   "source": [
    "pd.crosstab(df['PoorCare'],df['StartedOnCombination'])"
   ]
  },
  {
   "cell_type": "code",
   "execution_count": 12,
   "metadata": {},
   "outputs": [],
   "source": [
    "temp=pd.get_dummies(df['StartedOnCombination'],drop_first=True)"
   ]
  },
  {
   "cell_type": "code",
   "execution_count": 13,
   "metadata": {},
   "outputs": [],
   "source": [
    "df_final=pd.concat([df,temp],axis=1)"
   ]
  },
  {
   "cell_type": "code",
   "execution_count": 14,
   "metadata": {},
   "outputs": [],
   "source": [
    "df_final=df_final.drop(['StartedOnCombination'],axis=1)"
   ]
  },
  {
   "cell_type": "code",
   "execution_count": 15,
   "metadata": {},
   "outputs": [
    {
     "data": {
      "text/plain": [
       "Index([            'MemberID',        'InpatientDays',             'ERVisits',\n",
       "               'OfficeVisits',            'Narcotics', 'DaysSinceLastERVisit',\n",
       "                       'Pain',          'TotalVisits',        'ProviderCount',\n",
       "              'MedicalClaims',           'ClaimLines',    'AcuteDrugGapSmall',\n",
       "                   'PoorCare',                   True],\n",
       "      dtype='object')"
      ]
     },
     "execution_count": 15,
     "metadata": {},
     "output_type": "execute_result"
    }
   ],
   "source": [
    "df_final.head()\n",
    "df_final.columns"
   ]
  },
  {
   "cell_type": "code",
   "execution_count": 16,
   "metadata": {},
   "outputs": [],
   "source": [
    "log_reg=LogisticRegression(C=1e9)"
   ]
  },
  {
   "cell_type": "code",
   "execution_count": 17,
   "metadata": {},
   "outputs": [],
   "source": [
    "X_train, X_test, y_train, y_test =train_test_split(df_final[['InpatientDays','ERVisits','OfficeVisits','Narcotics','DaysSinceLastERVisit','Pain','TotalVisits','ProviderCount','MedicalClaims','AcuteDrugGapSmall',True]],df_final['PoorCare'],test_size=0.3,random_state=1)"
   ]
  },
  {
   "cell_type": "code",
   "execution_count": 18,
   "metadata": {},
   "outputs": [
    {
     "name": "stderr",
     "output_type": "stream",
     "text": [
      "C:\\ProgramData\\Anaconda3\\lib\\site-packages\\sklearn\\linear_model\\logistic.py:433: FutureWarning: Default solver will be changed to 'lbfgs' in 0.22. Specify a solver to silence this warning.\n",
      "  FutureWarning)\n"
     ]
    },
    {
     "data": {
      "text/plain": [
       "LogisticRegression(C=1000000000.0, class_weight=None, dual=False,\n",
       "          fit_intercept=True, intercept_scaling=1, max_iter=100,\n",
       "          multi_class='warn', n_jobs=None, penalty='l2', random_state=None,\n",
       "          solver='warn', tol=0.0001, verbose=0, warm_start=False)"
      ]
     },
     "execution_count": 18,
     "metadata": {},
     "output_type": "execute_result"
    }
   ],
   "source": [
    "log_reg.fit(X_train,y_train)"
   ]
  },
  {
   "cell_type": "code",
   "execution_count": 19,
   "metadata": {},
   "outputs": [],
   "source": [
    "pred_train=log_reg.predict(X_train)"
   ]
  },
  {
   "cell_type": "code",
   "execution_count": 20,
   "metadata": {},
   "outputs": [
    {
     "data": {
      "text/html": [
       "<div>\n",
       "<style scoped>\n",
       "    .dataframe tbody tr th:only-of-type {\n",
       "        vertical-align: middle;\n",
       "    }\n",
       "\n",
       "    .dataframe tbody tr th {\n",
       "        vertical-align: top;\n",
       "    }\n",
       "\n",
       "    .dataframe thead th {\n",
       "        text-align: right;\n",
       "    }\n",
       "</style>\n",
       "<table border=\"1\" class=\"dataframe\">\n",
       "  <thead>\n",
       "    <tr style=\"text-align: right;\">\n",
       "      <th>col_0</th>\n",
       "      <th>0</th>\n",
       "      <th>1</th>\n",
       "    </tr>\n",
       "    <tr>\n",
       "      <th>PoorCare</th>\n",
       "      <th></th>\n",
       "      <th></th>\n",
       "    </tr>\n",
       "  </thead>\n",
       "  <tbody>\n",
       "    <tr>\n",
       "      <th>0</th>\n",
       "      <td>69</td>\n",
       "      <td>2</td>\n",
       "    </tr>\n",
       "    <tr>\n",
       "      <th>1</th>\n",
       "      <td>10</td>\n",
       "      <td>10</td>\n",
       "    </tr>\n",
       "  </tbody>\n",
       "</table>\n",
       "</div>"
      ],
      "text/plain": [
       "col_0      0   1\n",
       "PoorCare        \n",
       "0         69   2\n",
       "1         10  10"
      ]
     },
     "execution_count": 20,
     "metadata": {},
     "output_type": "execute_result"
    }
   ],
   "source": [
    "pd.crosstab(y_train,pred_train)"
   ]
  },
  {
   "cell_type": "code",
   "execution_count": 21,
   "metadata": {},
   "outputs": [],
   "source": [
    "accuracy1=(69+10)/len(y_train)"
   ]
  },
  {
   "cell_type": "code",
   "execution_count": 22,
   "metadata": {},
   "outputs": [
    {
     "data": {
      "text/plain": [
       "0.8681318681318682"
      ]
     },
     "execution_count": 22,
     "metadata": {},
     "output_type": "execute_result"
    }
   ],
   "source": [
    "accuracy1"
   ]
  },
  {
   "cell_type": "code",
   "execution_count": 23,
   "metadata": {},
   "outputs": [],
   "source": [
    "pred_test=log_reg.predict(X_test)"
   ]
  },
  {
   "cell_type": "code",
   "execution_count": 24,
   "metadata": {},
   "outputs": [
    {
     "data": {
      "text/html": [
       "<div>\n",
       "<style scoped>\n",
       "    .dataframe tbody tr th:only-of-type {\n",
       "        vertical-align: middle;\n",
       "    }\n",
       "\n",
       "    .dataframe tbody tr th {\n",
       "        vertical-align: top;\n",
       "    }\n",
       "\n",
       "    .dataframe thead th {\n",
       "        text-align: right;\n",
       "    }\n",
       "</style>\n",
       "<table border=\"1\" class=\"dataframe\">\n",
       "  <thead>\n",
       "    <tr style=\"text-align: right;\">\n",
       "      <th>col_0</th>\n",
       "      <th>0</th>\n",
       "      <th>1</th>\n",
       "    </tr>\n",
       "    <tr>\n",
       "      <th>PoorCare</th>\n",
       "      <th></th>\n",
       "      <th></th>\n",
       "    </tr>\n",
       "  </thead>\n",
       "  <tbody>\n",
       "    <tr>\n",
       "      <th>0</th>\n",
       "      <td>22</td>\n",
       "      <td>5</td>\n",
       "    </tr>\n",
       "    <tr>\n",
       "      <th>1</th>\n",
       "      <td>7</td>\n",
       "      <td>6</td>\n",
       "    </tr>\n",
       "  </tbody>\n",
       "</table>\n",
       "</div>"
      ],
      "text/plain": [
       "col_0      0  1\n",
       "PoorCare       \n",
       "0         22  5\n",
       "1          7  6"
      ]
     },
     "execution_count": 24,
     "metadata": {},
     "output_type": "execute_result"
    }
   ],
   "source": [
    "pd.crosstab(y_test,pred_test)"
   ]
  },
  {
   "cell_type": "code",
   "execution_count": 25,
   "metadata": {},
   "outputs": [],
   "source": [
    "accuracy2=(22+6)/len(y_test)"
   ]
  },
  {
   "cell_type": "code",
   "execution_count": 26,
   "metadata": {},
   "outputs": [
    {
     "data": {
      "text/plain": [
       "0.7"
      ]
     },
     "execution_count": 26,
     "metadata": {},
     "output_type": "execute_result"
    }
   ],
   "source": [
    "accuracy2"
   ]
  },
  {
   "cell_type": "code",
   "execution_count": 27,
   "metadata": {},
   "outputs": [
    {
     "name": "stderr",
     "output_type": "stream",
     "text": [
      "C:\\ProgramData\\Anaconda3\\lib\\site-packages\\numpy\\core\\fromnumeric.py:2389: FutureWarning: Method .ptp is deprecated and will be removed in a future version. Use numpy.ptp instead.\n",
      "  return ptp(axis=axis, out=out, **kwargs)\n"
     ]
    }
   ],
   "source": [
    "X2=add_constant(X_train)"
   ]
  },
  {
   "cell_type": "code",
   "execution_count": 28,
   "metadata": {},
   "outputs": [],
   "source": [
    "logit=sms.Logit(y_train,X2)"
   ]
  },
  {
   "cell_type": "code",
   "execution_count": 29,
   "metadata": {},
   "outputs": [
    {
     "name": "stdout",
     "output_type": "stream",
     "text": [
      "Warning: Maximum number of iterations has been exceeded.\n",
      "         Current function value: 0.326526\n",
      "         Iterations: 35\n"
     ]
    },
    {
     "name": "stderr",
     "output_type": "stream",
     "text": [
      "C:\\ProgramData\\Anaconda3\\lib\\site-packages\\statsmodels\\base\\model.py:508: ConvergenceWarning: Maximum Likelihood optimization failed to converge. Check mle_retvals\n",
      "  \"Check mle_retvals\", ConvergenceWarning)\n"
     ]
    }
   ],
   "source": [
    "result=logit.fit()"
   ]
  },
  {
   "cell_type": "code",
   "execution_count": 30,
   "metadata": {},
   "outputs": [
    {
     "name": "stderr",
     "output_type": "stream",
     "text": [
      "C:\\ProgramData\\Anaconda3\\lib\\site-packages\\statsmodels\\base\\model.py:1092: RuntimeWarning: invalid value encountered in sqrt\n",
      "  bse_ = np.sqrt(np.diag(self.cov_params()))\n"
     ]
    },
    {
     "name": "stdout",
     "output_type": "stream",
     "text": [
      "                           Logit Regression Results                           \n",
      "==============================================================================\n",
      "Dep. Variable:               PoorCare   No. Observations:                   91\n",
      "Model:                          Logit   Df Residuals:                       80\n",
      "Method:                           MLE   Df Model:                           10\n",
      "Date:                Sun, 22 Sep 2019   Pseudo R-squ.:                  0.3800\n",
      "Time:                        09:05:16   Log-Likelihood:                -29.714\n",
      "converged:                      False   LL-Null:                       -47.923\n",
      "                                        LLR p-value:                 7.130e-05\n",
      "========================================================================================\n",
      "                           coef    std err          z      P>|z|      [0.025      0.975]\n",
      "----------------------------------------------------------------------------------------\n",
      "const                   -1.9094      1.444     -1.323      0.186      -4.739       0.920\n",
      "InpatientDays            0.0221        nan        nan        nan         nan         nan\n",
      "ERVisits                -0.1902        nan        nan        nan         nan         nan\n",
      "OfficeVisits             0.1548        nan        nan        nan         nan         nan\n",
      "Narcotics                0.1010      0.050      2.036      0.042       0.004       0.198\n",
      "DaysSinceLastERVisit    -0.0040      0.002     -1.941      0.052      -0.008    3.95e-05\n",
      "Pain                    -0.0406      0.027     -1.506      0.132      -0.093       0.012\n",
      "TotalVisits             -0.0132        nan        nan        nan         nan         nan\n",
      "ProviderCount            0.0591      0.039      1.503      0.133      -0.018       0.136\n",
      "MedicalClaims           -0.0310      0.027     -1.129      0.259      -0.085       0.023\n",
      "AcuteDrugGapSmall        0.2090      0.107      1.956      0.050      -0.000       0.418\n",
      "True                     3.0690      1.449      2.118      0.034       0.229       5.909\n",
      "========================================================================================\n"
     ]
    },
    {
     "name": "stderr",
     "output_type": "stream",
     "text": [
      "C:\\ProgramData\\Anaconda3\\lib\\site-packages\\scipy\\stats\\_distn_infrastructure.py:877: RuntimeWarning: invalid value encountered in greater\n",
      "  return (self.a < x) & (x < self.b)\n",
      "C:\\ProgramData\\Anaconda3\\lib\\site-packages\\scipy\\stats\\_distn_infrastructure.py:877: RuntimeWarning: invalid value encountered in less\n",
      "  return (self.a < x) & (x < self.b)\n",
      "C:\\ProgramData\\Anaconda3\\lib\\site-packages\\scipy\\stats\\_distn_infrastructure.py:1831: RuntimeWarning: invalid value encountered in less_equal\n",
      "  cond2 = cond0 & (x <= self.a)\n"
     ]
    }
   ],
   "source": [
    "print(result.summary())"
   ]
  },
  {
   "cell_type": "code",
   "execution_count": 31,
   "metadata": {},
   "outputs": [],
   "source": [
    "X_train, X_test, y_train, y_test =train_test_split(df_final[['Narcotics','DaysSinceLastERVisit','AcuteDrugGapSmall',True]],df_final['PoorCare'],test_size=0.3,random_state=1)"
   ]
  },
  {
   "cell_type": "code",
   "execution_count": 32,
   "metadata": {},
   "outputs": [
    {
     "name": "stderr",
     "output_type": "stream",
     "text": [
      "C:\\ProgramData\\Anaconda3\\lib\\site-packages\\sklearn\\linear_model\\logistic.py:433: FutureWarning: Default solver will be changed to 'lbfgs' in 0.22. Specify a solver to silence this warning.\n",
      "  FutureWarning)\n"
     ]
    },
    {
     "data": {
      "text/plain": [
       "LogisticRegression(C=1000000000.0, class_weight=None, dual=False,\n",
       "          fit_intercept=True, intercept_scaling=1, max_iter=100,\n",
       "          multi_class='warn', n_jobs=None, penalty='l2', random_state=None,\n",
       "          solver='warn', tol=0.0001, verbose=0, warm_start=False)"
      ]
     },
     "execution_count": 32,
     "metadata": {},
     "output_type": "execute_result"
    }
   ],
   "source": [
    "log_reg.fit(X_train,y_train)"
   ]
  },
  {
   "cell_type": "code",
   "execution_count": 33,
   "metadata": {},
   "outputs": [],
   "source": [
    "pred_train_2=log_reg.predict(X_train)"
   ]
  },
  {
   "cell_type": "code",
   "execution_count": 34,
   "metadata": {},
   "outputs": [
    {
     "data": {
      "text/html": [
       "<div>\n",
       "<style scoped>\n",
       "    .dataframe tbody tr th:only-of-type {\n",
       "        vertical-align: middle;\n",
       "    }\n",
       "\n",
       "    .dataframe tbody tr th {\n",
       "        vertical-align: top;\n",
       "    }\n",
       "\n",
       "    .dataframe thead th {\n",
       "        text-align: right;\n",
       "    }\n",
       "</style>\n",
       "<table border=\"1\" class=\"dataframe\">\n",
       "  <thead>\n",
       "    <tr style=\"text-align: right;\">\n",
       "      <th>col_0</th>\n",
       "      <th>0</th>\n",
       "      <th>1</th>\n",
       "    </tr>\n",
       "    <tr>\n",
       "      <th>PoorCare</th>\n",
       "      <th></th>\n",
       "      <th></th>\n",
       "    </tr>\n",
       "  </thead>\n",
       "  <tbody>\n",
       "    <tr>\n",
       "      <th>0</th>\n",
       "      <td>68</td>\n",
       "      <td>3</td>\n",
       "    </tr>\n",
       "    <tr>\n",
       "      <th>1</th>\n",
       "      <td>11</td>\n",
       "      <td>9</td>\n",
       "    </tr>\n",
       "  </tbody>\n",
       "</table>\n",
       "</div>"
      ],
      "text/plain": [
       "col_0      0  1\n",
       "PoorCare       \n",
       "0         68  3\n",
       "1         11  9"
      ]
     },
     "execution_count": 34,
     "metadata": {},
     "output_type": "execute_result"
    }
   ],
   "source": [
    "pd.crosstab(y_train,pred_train_2)"
   ]
  },
  {
   "cell_type": "code",
   "execution_count": 35,
   "metadata": {},
   "outputs": [],
   "source": [
    "accuracy_train_2=(68+9)/len(y_train)"
   ]
  },
  {
   "cell_type": "code",
   "execution_count": 36,
   "metadata": {},
   "outputs": [
    {
     "data": {
      "text/plain": [
       "0.8461538461538461"
      ]
     },
     "execution_count": 36,
     "metadata": {},
     "output_type": "execute_result"
    }
   ],
   "source": [
    "accuracy_train_2"
   ]
  },
  {
   "cell_type": "code",
   "execution_count": 37,
   "metadata": {},
   "outputs": [],
   "source": [
    "pred_test_2=log_reg.predict(X_test)"
   ]
  },
  {
   "cell_type": "code",
   "execution_count": 38,
   "metadata": {},
   "outputs": [
    {
     "data": {
      "text/html": [
       "<div>\n",
       "<style scoped>\n",
       "    .dataframe tbody tr th:only-of-type {\n",
       "        vertical-align: middle;\n",
       "    }\n",
       "\n",
       "    .dataframe tbody tr th {\n",
       "        vertical-align: top;\n",
       "    }\n",
       "\n",
       "    .dataframe thead th {\n",
       "        text-align: right;\n",
       "    }\n",
       "</style>\n",
       "<table border=\"1\" class=\"dataframe\">\n",
       "  <thead>\n",
       "    <tr style=\"text-align: right;\">\n",
       "      <th>col_0</th>\n",
       "      <th>0</th>\n",
       "      <th>1</th>\n",
       "    </tr>\n",
       "    <tr>\n",
       "      <th>PoorCare</th>\n",
       "      <th></th>\n",
       "      <th></th>\n",
       "    </tr>\n",
       "  </thead>\n",
       "  <tbody>\n",
       "    <tr>\n",
       "      <th>0</th>\n",
       "      <td>26</td>\n",
       "      <td>1</td>\n",
       "    </tr>\n",
       "    <tr>\n",
       "      <th>1</th>\n",
       "      <td>8</td>\n",
       "      <td>5</td>\n",
       "    </tr>\n",
       "  </tbody>\n",
       "</table>\n",
       "</div>"
      ],
      "text/plain": [
       "col_0      0  1\n",
       "PoorCare       \n",
       "0         26  1\n",
       "1          8  5"
      ]
     },
     "execution_count": 38,
     "metadata": {},
     "output_type": "execute_result"
    }
   ],
   "source": [
    "pd.crosstab(y_test,pred_test_2)"
   ]
  },
  {
   "cell_type": "code",
   "execution_count": 39,
   "metadata": {},
   "outputs": [],
   "source": [
    "accuracy_test_2=(26+5)/len(y_test)"
   ]
  },
  {
   "cell_type": "code",
   "execution_count": 40,
   "metadata": {},
   "outputs": [
    {
     "data": {
      "text/plain": [
       "0.775"
      ]
     },
     "execution_count": 40,
     "metadata": {},
     "output_type": "execute_result"
    }
   ],
   "source": [
    "accuracy_test_2"
   ]
  },
  {
   "cell_type": "code",
   "execution_count": 41,
   "metadata": {},
   "outputs": [
    {
     "name": "stderr",
     "output_type": "stream",
     "text": [
      "C:\\ProgramData\\Anaconda3\\lib\\site-packages\\numpy\\core\\fromnumeric.py:2389: FutureWarning: Method .ptp is deprecated and will be removed in a future version. Use numpy.ptp instead.\n",
      "  return ptp(axis=axis, out=out, **kwargs)\n"
     ]
    }
   ],
   "source": [
    "X2=add_constant(X_train)"
   ]
  },
  {
   "cell_type": "code",
   "execution_count": 42,
   "metadata": {},
   "outputs": [],
   "source": [
    "logit=sms.Logit(y_train,X2)"
   ]
  },
  {
   "cell_type": "code",
   "execution_count": 43,
   "metadata": {},
   "outputs": [
    {
     "name": "stdout",
     "output_type": "stream",
     "text": [
      "Optimization terminated successfully.\n",
      "         Current function value: 0.370455\n",
      "         Iterations 7\n"
     ]
    }
   ],
   "source": [
    "result=logit.fit()"
   ]
  },
  {
   "cell_type": "code",
   "execution_count": 44,
   "metadata": {},
   "outputs": [
    {
     "name": "stdout",
     "output_type": "stream",
     "text": [
      "                           Logit Regression Results                           \n",
      "==============================================================================\n",
      "Dep. Variable:               PoorCare   No. Observations:                   91\n",
      "Model:                          Logit   Df Residuals:                       86\n",
      "Method:                           MLE   Df Model:                            4\n",
      "Date:                Sun, 22 Sep 2019   Pseudo R-squ.:                  0.2966\n",
      "Time:                        09:05:16   Log-Likelihood:                -33.711\n",
      "converged:                       True   LL-Null:                       -47.923\n",
      "                                        LLR p-value:                 1.023e-05\n",
      "========================================================================================\n",
      "                           coef    std err          z      P>|z|      [0.025      0.975]\n",
      "----------------------------------------------------------------------------------------\n",
      "const                   -1.3805      0.556     -2.485      0.013      -2.469      -0.291\n",
      "Narcotics                0.1001      0.043      2.311      0.021       0.015       0.185\n",
      "DaysSinceLastERVisit    -0.0023      0.001     -1.912      0.056      -0.005    5.67e-05\n",
      "AcuteDrugGapSmall        0.1820      0.093      1.954      0.051      -0.001       0.365\n",
      "True                     2.6426      1.392      1.899      0.058      -0.085       5.370\n",
      "========================================================================================\n"
     ]
    }
   ],
   "source": [
    "print(result.summary())"
   ]
  },
  {
   "cell_type": "code",
   "execution_count": 45,
   "metadata": {},
   "outputs": [],
   "source": [
    "X_train, X_test, y_train, y_test = train_test_split(df_final[[\"DaysSinceLastERVisit\",\"Narcotics\",True]],df_final['PoorCare'],test_size=0.3,random_state=1)"
   ]
  },
  {
   "cell_type": "code",
   "execution_count": 46,
   "metadata": {},
   "outputs": [
    {
     "name": "stderr",
     "output_type": "stream",
     "text": [
      "C:\\ProgramData\\Anaconda3\\lib\\site-packages\\sklearn\\linear_model\\logistic.py:433: FutureWarning: Default solver will be changed to 'lbfgs' in 0.22. Specify a solver to silence this warning.\n",
      "  FutureWarning)\n"
     ]
    },
    {
     "data": {
      "text/plain": [
       "LogisticRegression(C=1000000000.0, class_weight=None, dual=False,\n",
       "          fit_intercept=True, intercept_scaling=1, max_iter=100,\n",
       "          multi_class='warn', n_jobs=None, penalty='l2', random_state=None,\n",
       "          solver='warn', tol=0.0001, verbose=0, warm_start=False)"
      ]
     },
     "execution_count": 46,
     "metadata": {},
     "output_type": "execute_result"
    }
   ],
   "source": [
    "log_reg=LogisticRegression(C = 1e9)\n",
    "log_reg.fit(X_train,y_train)"
   ]
  },
  {
   "cell_type": "code",
   "execution_count": 47,
   "metadata": {},
   "outputs": [
    {
     "data": {
      "text/html": [
       "<div>\n",
       "<style scoped>\n",
       "    .dataframe tbody tr th:only-of-type {\n",
       "        vertical-align: middle;\n",
       "    }\n",
       "\n",
       "    .dataframe tbody tr th {\n",
       "        vertical-align: top;\n",
       "    }\n",
       "\n",
       "    .dataframe thead th {\n",
       "        text-align: right;\n",
       "    }\n",
       "</style>\n",
       "<table border=\"1\" class=\"dataframe\">\n",
       "  <thead>\n",
       "    <tr style=\"text-align: right;\">\n",
       "      <th>col_0</th>\n",
       "      <th>0</th>\n",
       "      <th>1</th>\n",
       "    </tr>\n",
       "    <tr>\n",
       "      <th>PoorCare</th>\n",
       "      <th></th>\n",
       "      <th></th>\n",
       "    </tr>\n",
       "  </thead>\n",
       "  <tbody>\n",
       "    <tr>\n",
       "      <th>0</th>\n",
       "      <td>70</td>\n",
       "      <td>1</td>\n",
       "    </tr>\n",
       "    <tr>\n",
       "      <th>1</th>\n",
       "      <td>11</td>\n",
       "      <td>9</td>\n",
       "    </tr>\n",
       "  </tbody>\n",
       "</table>\n",
       "</div>"
      ],
      "text/plain": [
       "col_0      0  1\n",
       "PoorCare       \n",
       "0         70  1\n",
       "1         11  9"
      ]
     },
     "execution_count": 47,
     "metadata": {},
     "output_type": "execute_result"
    }
   ],
   "source": [
    "pred_train_3=log_reg.predict(X_train)\n",
    "pd.crosstab(y_train,pred_train_3)"
   ]
  },
  {
   "cell_type": "code",
   "execution_count": 48,
   "metadata": {},
   "outputs": [],
   "source": [
    "accuracy_train_3=(70+9)/len(y_train)"
   ]
  },
  {
   "cell_type": "code",
   "execution_count": 49,
   "metadata": {},
   "outputs": [
    {
     "data": {
      "text/plain": [
       "0.8681318681318682"
      ]
     },
     "execution_count": 49,
     "metadata": {},
     "output_type": "execute_result"
    }
   ],
   "source": [
    "accuracy_train_3"
   ]
  },
  {
   "cell_type": "code",
   "execution_count": 50,
   "metadata": {},
   "outputs": [],
   "source": [
    "pred_test_3=log_reg.predict(X_test)"
   ]
  },
  {
   "cell_type": "code",
   "execution_count": 51,
   "metadata": {},
   "outputs": [
    {
     "data": {
      "text/html": [
       "<div>\n",
       "<style scoped>\n",
       "    .dataframe tbody tr th:only-of-type {\n",
       "        vertical-align: middle;\n",
       "    }\n",
       "\n",
       "    .dataframe tbody tr th {\n",
       "        vertical-align: top;\n",
       "    }\n",
       "\n",
       "    .dataframe thead th {\n",
       "        text-align: right;\n",
       "    }\n",
       "</style>\n",
       "<table border=\"1\" class=\"dataframe\">\n",
       "  <thead>\n",
       "    <tr style=\"text-align: right;\">\n",
       "      <th>col_0</th>\n",
       "      <th>0</th>\n",
       "      <th>1</th>\n",
       "    </tr>\n",
       "    <tr>\n",
       "      <th>PoorCare</th>\n",
       "      <th></th>\n",
       "      <th></th>\n",
       "    </tr>\n",
       "  </thead>\n",
       "  <tbody>\n",
       "    <tr>\n",
       "      <th>0</th>\n",
       "      <td>27</td>\n",
       "      <td>0</td>\n",
       "    </tr>\n",
       "    <tr>\n",
       "      <th>1</th>\n",
       "      <td>8</td>\n",
       "      <td>5</td>\n",
       "    </tr>\n",
       "  </tbody>\n",
       "</table>\n",
       "</div>"
      ],
      "text/plain": [
       "col_0      0  1\n",
       "PoorCare       \n",
       "0         27  0\n",
       "1          8  5"
      ]
     },
     "execution_count": 51,
     "metadata": {},
     "output_type": "execute_result"
    }
   ],
   "source": [
    "pd.crosstab(y_test,pred_test_3)"
   ]
  },
  {
   "cell_type": "code",
   "execution_count": 52,
   "metadata": {},
   "outputs": [],
   "source": [
    "accuracy_test_3=(27+5)/len(y_test)"
   ]
  },
  {
   "cell_type": "code",
   "execution_count": 53,
   "metadata": {},
   "outputs": [
    {
     "data": {
      "text/plain": [
       "0.8"
      ]
     },
     "execution_count": 53,
     "metadata": {},
     "output_type": "execute_result"
    }
   ],
   "source": [
    "accuracy_test_3"
   ]
  },
  {
   "cell_type": "code",
   "execution_count": 54,
   "metadata": {},
   "outputs": [],
   "source": [
    "sensitivity=(70)/71"
   ]
  },
  {
   "cell_type": "code",
   "execution_count": 55,
   "metadata": {},
   "outputs": [
    {
     "data": {
      "text/plain": [
       "0.9859154929577465"
      ]
     },
     "execution_count": 55,
     "metadata": {},
     "output_type": "execute_result"
    }
   ],
   "source": [
    "sensitivity"
   ]
  },
  {
   "cell_type": "code",
   "execution_count": 56,
   "metadata": {},
   "outputs": [],
   "source": [
    "specificity=27/(27+8)"
   ]
  },
  {
   "cell_type": "code",
   "execution_count": 57,
   "metadata": {},
   "outputs": [
    {
     "data": {
      "text/plain": [
       "0.7714285714285715"
      ]
     },
     "execution_count": 57,
     "metadata": {},
     "output_type": "execute_result"
    }
   ],
   "source": [
    "specificity"
   ]
  },
  {
   "cell_type": "code",
   "execution_count": 58,
   "metadata": {},
   "outputs": [
    {
     "data": {
      "text/plain": [
       "0.7480916030534351"
      ]
     },
     "execution_count": 58,
     "metadata": {},
     "output_type": "execute_result"
    }
   ],
   "source": [
    "baseline_model_accuracy"
   ]
  },
  {
   "cell_type": "code",
   "execution_count": 59,
   "metadata": {},
   "outputs": [
    {
     "name": "stderr",
     "output_type": "stream",
     "text": [
      "C:\\ProgramData\\Anaconda3\\lib\\site-packages\\numpy\\core\\fromnumeric.py:2389: FutureWarning: Method .ptp is deprecated and will be removed in a future version. Use numpy.ptp instead.\n",
      "  return ptp(axis=axis, out=out, **kwargs)\n"
     ]
    }
   ],
   "source": [
    "X2=add_constant(X_train)"
   ]
  },
  {
   "cell_type": "code",
   "execution_count": 60,
   "metadata": {},
   "outputs": [],
   "source": [
    "logit=sms.Logit(y_train,X2)"
   ]
  },
  {
   "cell_type": "code",
   "execution_count": 61,
   "metadata": {},
   "outputs": [
    {
     "name": "stdout",
     "output_type": "stream",
     "text": [
      "Optimization terminated successfully.\n",
      "         Current function value: 0.391254\n",
      "         Iterations 6\n"
     ]
    }
   ],
   "source": [
    "result=logit.fit()"
   ]
  },
  {
   "cell_type": "code",
   "execution_count": 62,
   "metadata": {},
   "outputs": [
    {
     "name": "stdout",
     "output_type": "stream",
     "text": [
      "                           Logit Regression Results                           \n",
      "==============================================================================\n",
      "Dep. Variable:               PoorCare   No. Observations:                   91\n",
      "Model:                          Logit   Df Residuals:                       87\n",
      "Method:                           MLE   Df Model:                            3\n",
      "Date:                Sun, 22 Sep 2019   Pseudo R-squ.:                  0.2571\n",
      "Time:                        09:05:16   Log-Likelihood:                -35.604\n",
      "converged:                       True   LL-Null:                       -47.923\n",
      "                                        LLR p-value:                 1.838e-05\n",
      "========================================================================================\n",
      "                           coef    std err          z      P>|z|      [0.025      0.975]\n",
      "----------------------------------------------------------------------------------------\n",
      "const                   -1.2078      0.531     -2.273      0.023      -2.249      -0.166\n",
      "DaysSinceLastERVisit    -0.0019      0.001     -1.729      0.084      -0.004       0.000\n",
      "Narcotics                0.1268      0.042      3.020      0.003       0.045       0.209\n",
      "True                     2.3536      1.343      1.752      0.080      -0.279       4.986\n",
      "========================================================================================\n"
     ]
    }
   ],
   "source": [
    "print(result.summary())"
   ]
  },
  {
   "cell_type": "code",
   "execution_count": 63,
   "metadata": {},
   "outputs": [
    {
     "name": "stdout",
     "output_type": "stream",
     "text": [
      "Intercept is: [-1.19928704]\n"
     ]
    }
   ],
   "source": [
    "print('Intercept is:',log_reg.intercept_)"
   ]
  },
  {
   "cell_type": "code",
   "execution_count": 64,
   "metadata": {},
   "outputs": [
    {
     "name": "stdout",
     "output_type": "stream",
     "text": [
      "Coefficients are: [[-1.93095751e-03  1.26656947e-01  2.21971696e+00]]\n"
     ]
    }
   ],
   "source": [
    "print('Coefficients are:',log_reg.coef_)"
   ]
  },
  {
   "cell_type": "code",
   "execution_count": 65,
   "metadata": {},
   "outputs": [],
   "source": [
    "error_test=8/len(y_test)"
   ]
  },
  {
   "cell_type": "code",
   "execution_count": 66,
   "metadata": {},
   "outputs": [
    {
     "data": {
      "text/plain": [
       "0.2"
      ]
     },
     "execution_count": 66,
     "metadata": {},
     "output_type": "execute_result"
    }
   ],
   "source": [
    "error_test"
   ]
  },
  {
   "cell_type": "code",
   "execution_count": 67,
   "metadata": {},
   "outputs": [],
   "source": [
    "pred_test_probablity=log_reg.predict_proba(X_test)"
   ]
  },
  {
   "cell_type": "code",
   "execution_count": 68,
   "metadata": {},
   "outputs": [
    {
     "data": {
      "text/plain": [
       "array([[0.93155451, 0.06844549],\n",
       "       [0.93155451, 0.06844549],\n",
       "       [0.60079948, 0.39920052],\n",
       "       [0.91352877, 0.08647123],\n",
       "       [0.78086811, 0.21913189],\n",
       "       [0.90298551, 0.09701449],\n",
       "       [0.8813506 , 0.1186494 ],\n",
       "       [0.89992278, 0.10007722],\n",
       "       [0.76922409, 0.23077591],\n",
       "       [0.92302389, 0.07697611],\n",
       "       [0.84246193, 0.15753807],\n",
       "       [0.85116106, 0.14883894],\n",
       "       [0.81319482, 0.18680518],\n",
       "       [0.72648641, 0.27351359],\n",
       "       [0.80457152, 0.19542848],\n",
       "       [0.93155451, 0.06844549],\n",
       "       [0.71103507, 0.28896493],\n",
       "       [0.36456459, 0.63543541],\n",
       "       [0.91779173, 0.08220827],\n",
       "       [0.84373908, 0.15626092],\n",
       "       [0.55659834, 0.44340166],\n",
       "       [0.59654748, 0.40345252],\n",
       "       [0.93155451, 0.06844549],\n",
       "       [0.04261552, 0.95738448],\n",
       "       [0.93155451, 0.06844549],\n",
       "       [0.85523752, 0.14476248],\n",
       "       [0.36456459, 0.63543541],\n",
       "       [0.83167728, 0.16832272],\n",
       "       [0.72037459, 0.27962541],\n",
       "       [0.55090675, 0.44909325],\n",
       "       [0.86101819, 0.13898181],\n",
       "       [0.90298551, 0.09701449],\n",
       "       [0.92302389, 0.07697611],\n",
       "       [0.92302389, 0.07697611],\n",
       "       [0.93155451, 0.06844549],\n",
       "       [0.27214997, 0.72785003],\n",
       "       [0.93155451, 0.06844549],\n",
       "       [0.79644222, 0.20355778],\n",
       "       [0.82332732, 0.17667268],\n",
       "       [0.36456459, 0.63543541]])"
      ]
     },
     "execution_count": 68,
     "metadata": {},
     "output_type": "execute_result"
    }
   ],
   "source": [
    "pred_test_probablity"
   ]
  },
  {
   "cell_type": "code",
   "execution_count": 69,
   "metadata": {},
   "outputs": [
    {
     "name": "stderr",
     "output_type": "stream",
     "text": [
      "C:\\ProgramData\\Anaconda3\\lib\\site-packages\\matplotlib\\figure.py:98: MatplotlibDeprecationWarning: \n",
      "Adding an axes using the same arguments as a previous axes currently reuses the earlier instance.  In a future version, a new instance will always be created and returned.  Meanwhile, this warning can be suppressed, and the future behavior ensured, by passing a unique label to each axes instance.\n",
      "  \"Adding an axes using the same arguments as a previous axes \"\n"
     ]
    },
    {
     "data": {
      "text/plain": [
       "(-0.05, 1.05)"
      ]
     },
     "execution_count": 69,
     "metadata": {},
     "output_type": "execute_result"
    },
    {
     "data": {
      "image/png": "[encoded data removed]",
      "text/plain": [
       "<Figure size 432x288 with 1 Axes>"
      ]
     },
     "metadata": {
      "needs_background": "light"
     },
     "output_type": "display_data"
    }
   ],
   "source": [
    "fpr, tpr, threshold= metrics.roc_curve(y_test, pred_test_probablity[:,1]) #pass the actual test DV and \n",
    "#predicted probability (only P(y)=1)\n",
    "#**********DRAW ROC CURVE**************\n",
    "plt.plot(fpr, tpr, label='ROC curve', color='b')\n",
    "plt.axes().set_aspect('equal')\n",
    "plt.xlim([-0.05, 1.05])\n",
    "plt.ylim([-0.05, 1.05])"
   ]
  },
  {
   "cell_type": "code",
   "execution_count": 70,
   "metadata": {},
   "outputs": [],
   "source": [
    "AUC= metrics.auc(fpr,tpr)"
   ]
  },
  {
   "cell_type": "code",
   "execution_count": 71,
   "metadata": {},
   "outputs": [
    {
     "data": {
      "text/plain": [
       "0.792022792022792"
      ]
     },
     "execution_count": 71,
     "metadata": {},
     "output_type": "execute_result"
    }
   ],
   "source": [
    "AUC"
   ]
  },
  {
   "cell_type": "code",
   "execution_count": 72,
   "metadata": {},
   "outputs": [
    {
     "data": {
      "text/plain": [
       "array([0.06844549, 0.06844549, 0.39920052, 0.08647123, 0.21913189,\n",
       "       0.09701449, 0.1186494 , 0.10007722, 0.23077591, 0.07697611,\n",
       "       0.15753807, 0.14883894, 0.18680518, 0.27351359, 0.19542848,\n",
       "       0.06844549, 0.28896493, 0.63543541, 0.08220827, 0.15626092,\n",
       "       0.44340166, 0.40345252, 0.06844549, 0.95738448, 0.06844549,\n",
       "       0.14476248, 0.63543541, 0.16832272, 0.27962541, 0.44909325,\n",
       "       0.13898181, 0.09701449, 0.07697611, 0.07697611, 0.06844549,\n",
       "       0.72785003, 0.06844549, 0.20355778, 0.17667268, 0.63543541])"
      ]
     },
     "execution_count": 72,
     "metadata": {},
     "output_type": "execute_result"
    }
   ],
   "source": [
    "pred_test_probablity[:,1]"
   ]
  },
  {
   "cell_type": "code",
   "execution_count": 73,
   "metadata": {},
   "outputs": [
    {
     "data": {
      "text/html": [
       "<div>\n",
       "<style scoped>\n",
       "    .dataframe tbody tr th:only-of-type {\n",
       "        vertical-align: middle;\n",
       "    }\n",
       "\n",
       "    .dataframe tbody tr th {\n",
       "        vertical-align: top;\n",
       "    }\n",
       "\n",
       "    .dataframe thead th {\n",
       "        text-align: right;\n",
       "    }\n",
       "</style>\n",
       "<table border=\"1\" class=\"dataframe\">\n",
       "  <thead>\n",
       "    <tr style=\"text-align: right;\">\n",
       "      <th>col_0</th>\n",
       "      <th>0</th>\n",
       "      <th>1</th>\n",
       "    </tr>\n",
       "    <tr>\n",
       "      <th>PoorCare</th>\n",
       "      <th></th>\n",
       "      <th></th>\n",
       "    </tr>\n",
       "  </thead>\n",
       "  <tbody>\n",
       "    <tr>\n",
       "      <th>0</th>\n",
       "      <td>25</td>\n",
       "      <td>2</td>\n",
       "    </tr>\n",
       "    <tr>\n",
       "      <th>1</th>\n",
       "      <td>7</td>\n",
       "      <td>6</td>\n",
       "    </tr>\n",
       "  </tbody>\n",
       "</table>\n",
       "</div>"
      ],
      "text/plain": [
       "col_0      0  1\n",
       "PoorCare       \n",
       "0         25  2\n",
       "1          7  6"
      ]
     },
     "execution_count": 73,
     "metadata": {},
     "output_type": "execute_result"
    }
   ],
   "source": [
    "x=[]\n",
    "for i in range(len(pred_test_probablity[:,1])):\n",
    "    if (pred_test_probablity[:,1][i]>=0.4):\n",
    "        x.append(1)\n",
    "    else:\n",
    "        x.append(0)\n",
    "x=np.array(x)\n",
    "pd.crosstab(y_test,x)"
   ]
  },
  {
   "cell_type": "code",
   "execution_count": 74,
   "metadata": {},
   "outputs": [
    {
     "data": {
      "text/plain": [
       "0.775"
      ]
     },
     "execution_count": 74,
     "metadata": {},
     "output_type": "execute_result"
    }
   ],
   "source": [
    "(25+6)/(25+2+7+6)"
   ]
  },
  {
   "cell_type": "code",
   "execution_count": 75,
   "metadata": {},
   "outputs": [
    {
     "data": {
      "text/html": [
       "<div>\n",
       "<style scoped>\n",
       "    .dataframe tbody tr th:only-of-type {\n",
       "        vertical-align: middle;\n",
       "    }\n",
       "\n",
       "    .dataframe tbody tr th {\n",
       "        vertical-align: top;\n",
       "    }\n",
       "\n",
       "    .dataframe thead th {\n",
       "        text-align: right;\n",
       "    }\n",
       "</style>\n",
       "<table border=\"1\" class=\"dataframe\">\n",
       "  <thead>\n",
       "    <tr style=\"text-align: right;\">\n",
       "      <th></th>\n",
       "      <th>DaysSinceLastERVisit</th>\n",
       "      <th>Narcotics</th>\n",
       "      <th>True</th>\n",
       "    </tr>\n",
       "  </thead>\n",
       "  <tbody>\n",
       "    <tr>\n",
       "      <th>48</th>\n",
       "      <td>718.0</td>\n",
       "      <td>0</td>\n",
       "      <td>0</td>\n",
       "    </tr>\n",
       "    <tr>\n",
       "      <th>124</th>\n",
       "      <td>731.0</td>\n",
       "      <td>0</td>\n",
       "      <td>0</td>\n",
       "    </tr>\n",
       "    <tr>\n",
       "      <th>53</th>\n",
       "      <td>72.0</td>\n",
       "      <td>0</td>\n",
       "      <td>0</td>\n",
       "    </tr>\n",
       "    <tr>\n",
       "      <th>51</th>\n",
       "      <td>716.0</td>\n",
       "      <td>0</td>\n",
       "      <td>0</td>\n",
       "    </tr>\n",
       "    <tr>\n",
       "      <th>112</th>\n",
       "      <td>349.0</td>\n",
       "      <td>0</td>\n",
       "      <td>0</td>\n",
       "    </tr>\n",
       "  </tbody>\n",
       "</table>\n",
       "</div>"
      ],
      "text/plain": [
       "     DaysSinceLastERVisit  Narcotics  True\n",
       "48                  718.0          0     0\n",
       "124                 731.0          0     0\n",
       "53                   72.0          0     0\n",
       "51                  716.0          0     0\n",
       "112                 349.0          0     0"
      ]
     },
     "execution_count": 75,
     "metadata": {},
     "output_type": "execute_result"
    }
   ],
   "source": [
    "X_train.head()"
   ]
  },
  {
   "cell_type": "code",
   "execution_count": 76,
   "metadata": {},
   "outputs": [
    {
     "data": {
      "text/html": [
       "<div>\n",
       "<style scoped>\n",
       "    .dataframe tbody tr th:only-of-type {\n",
       "        vertical-align: middle;\n",
       "    }\n",
       "\n",
       "    .dataframe tbody tr th {\n",
       "        vertical-align: top;\n",
       "    }\n",
       "\n",
       "    .dataframe thead th {\n",
       "        text-align: right;\n",
       "    }\n",
       "</style>\n",
       "<table border=\"1\" class=\"dataframe\">\n",
       "  <thead>\n",
       "    <tr style=\"text-align: right;\">\n",
       "      <th></th>\n",
       "      <th>MemberID</th>\n",
       "      <th>InpatientDays</th>\n",
       "      <th>ERVisits</th>\n",
       "      <th>OfficeVisits</th>\n",
       "      <th>Narcotics</th>\n",
       "      <th>DaysSinceLastERVisit</th>\n",
       "      <th>Pain</th>\n",
       "      <th>TotalVisits</th>\n",
       "      <th>ProviderCount</th>\n",
       "      <th>MedicalClaims</th>\n",
       "      <th>ClaimLines</th>\n",
       "      <th>AcuteDrugGapSmall</th>\n",
       "      <th>PoorCare</th>\n",
       "      <th>True</th>\n",
       "    </tr>\n",
       "  </thead>\n",
       "  <tbody>\n",
       "    <tr>\n",
       "      <th>0</th>\n",
       "      <td>1</td>\n",
       "      <td>0</td>\n",
       "      <td>0</td>\n",
       "      <td>18</td>\n",
       "      <td>1</td>\n",
       "      <td>731.0</td>\n",
       "      <td>10</td>\n",
       "      <td>18</td>\n",
       "      <td>21</td>\n",
       "      <td>93</td>\n",
       "      <td>222</td>\n",
       "      <td>0</td>\n",
       "      <td>0</td>\n",
       "      <td>0</td>\n",
       "    </tr>\n",
       "    <tr>\n",
       "      <th>1</th>\n",
       "      <td>2</td>\n",
       "      <td>1</td>\n",
       "      <td>1</td>\n",
       "      <td>6</td>\n",
       "      <td>1</td>\n",
       "      <td>411.0</td>\n",
       "      <td>0</td>\n",
       "      <td>8</td>\n",
       "      <td>27</td>\n",
       "      <td>19</td>\n",
       "      <td>115</td>\n",
       "      <td>1</td>\n",
       "      <td>0</td>\n",
       "      <td>0</td>\n",
       "    </tr>\n",
       "    <tr>\n",
       "      <th>2</th>\n",
       "      <td>3</td>\n",
       "      <td>0</td>\n",
       "      <td>0</td>\n",
       "      <td>5</td>\n",
       "      <td>3</td>\n",
       "      <td>731.0</td>\n",
       "      <td>10</td>\n",
       "      <td>5</td>\n",
       "      <td>16</td>\n",
       "      <td>27</td>\n",
       "      <td>148</td>\n",
       "      <td>5</td>\n",
       "      <td>0</td>\n",
       "      <td>0</td>\n",
       "    </tr>\n",
       "    <tr>\n",
       "      <th>3</th>\n",
       "      <td>4</td>\n",
       "      <td>0</td>\n",
       "      <td>1</td>\n",
       "      <td>19</td>\n",
       "      <td>0</td>\n",
       "      <td>158.0</td>\n",
       "      <td>34</td>\n",
       "      <td>20</td>\n",
       "      <td>14</td>\n",
       "      <td>59</td>\n",
       "      <td>242</td>\n",
       "      <td>0</td>\n",
       "      <td>0</td>\n",
       "      <td>0</td>\n",
       "    </tr>\n",
       "    <tr>\n",
       "      <th>4</th>\n",
       "      <td>5</td>\n",
       "      <td>8</td>\n",
       "      <td>2</td>\n",
       "      <td>19</td>\n",
       "      <td>3</td>\n",
       "      <td>449.0</td>\n",
       "      <td>10</td>\n",
       "      <td>29</td>\n",
       "      <td>24</td>\n",
       "      <td>51</td>\n",
       "      <td>204</td>\n",
       "      <td>0</td>\n",
       "      <td>0</td>\n",
       "      <td>0</td>\n",
       "    </tr>\n",
       "  </tbody>\n",
       "</table>\n",
       "</div>"
      ],
      "text/plain": [
       "   MemberID  InpatientDays  ERVisits  OfficeVisits  Narcotics  \\\n",
       "0         1              0         0            18          1   \n",
       "1         2              1         1             6          1   \n",
       "2         3              0         0             5          3   \n",
       "3         4              0         1            19          0   \n",
       "4         5              8         2            19          3   \n",
       "\n",
       "   DaysSinceLastERVisit  Pain  TotalVisits  ProviderCount  MedicalClaims  \\\n",
       "0                 731.0    10           18             21             93   \n",
       "1                 411.0     0            8             27             19   \n",
       "2                 731.0    10            5             16             27   \n",
       "3                 158.0    34           20             14             59   \n",
       "4                 449.0    10           29             24             51   \n",
       "\n",
       "   ClaimLines  AcuteDrugGapSmall  PoorCare  True  \n",
       "0         222                  0         0     0  \n",
       "1         115                  1         0     0  \n",
       "2         148                  5         0     0  \n",
       "3         242                  0         0     0  \n",
       "4         204                  0         0     0  "
      ]
     },
     "execution_count": 76,
     "metadata": {},
     "output_type": "execute_result"
    }
   ],
   "source": [
    "df_final.head()"
   ]
  },
  {
   "cell_type": "code",
   "execution_count": null,
   "metadata": {},
   "outputs": [],
   "source": [
    "InpatientDays            0.0221        nan        nan        nan         nan         nan\n",
    "ERVisits                -0.1902        nan        nan        nan         nan         nan\n",
    "OfficeVisits             0.1548        nan        nan        nan         nan         nan\n",
    "Narcotics                0.1010      0.050      2.036      0.042       0.004       0.198\n",
    "DaysSinceLastERVisit    -0.0040      0.002     -1.941      0.052      -0.008    3.95e-05\n",
    "Pain                    -0.0406      0.027     -1.506      0.132      -0.093       0.012\n",
    "TotalVisits             -0.0132        nan        nan        nan         nan         nan"
   ]
  },
  {
   "cell_type": "code",
   "execution_count": 77,
   "metadata": {},
   "outputs": [
    {
     "data": {
      "text/plain": [
       "0"
      ]
     },
     "execution_count": 77,
     "metadata": {},
     "output_type": "execute_result"
    }
   ],
   "source": [
    "df_final['InpatientDays'].isnull().sum()"
   ]
  },
  {
   "cell_type": "code",
   "execution_count": 78,
   "metadata": {},
   "outputs": [
    {
     "data": {
      "text/plain": [
       "0"
      ]
     },
     "execution_count": 78,
     "metadata": {},
     "output_type": "execute_result"
    }
   ],
   "source": [
    "df_final['ERVisits'].isnull().sum()"
   ]
  },
  {
   "cell_type": "code",
   "execution_count": 79,
   "metadata": {},
   "outputs": [
    {
     "data": {
      "text/plain": [
       "0"
      ]
     },
     "execution_count": 79,
     "metadata": {},
     "output_type": "execute_result"
    }
   ],
   "source": [
    "df_final['OfficeVisits'].isnull().sum()"
   ]
  },
  {
   "cell_type": "code",
   "execution_count": 80,
   "metadata": {},
   "outputs": [
    {
     "data": {
      "text/plain": [
       "0"
      ]
     },
     "execution_count": 80,
     "metadata": {},
     "output_type": "execute_result"
    }
   ],
   "source": [
    "df_final['TotalVisits'].isnull().sum()"
   ]
  },
  {
   "cell_type": "code",
   "execution_count": 81,
   "metadata": {},
   "outputs": [
    {
     "data": {
      "text/html": [
       "<div>\n",
       "<style scoped>\n",
       "    .dataframe tbody tr th:only-of-type {\n",
       "        vertical-align: middle;\n",
       "    }\n",
       "\n",
       "    .dataframe tbody tr th {\n",
       "        vertical-align: top;\n",
       "    }\n",
       "\n",
       "    .dataframe thead th {\n",
       "        text-align: right;\n",
       "    }\n",
       "</style>\n",
       "<table border=\"1\" class=\"dataframe\">\n",
       "  <thead>\n",
       "    <tr style=\"text-align: right;\">\n",
       "      <th></th>\n",
       "      <th>MemberID</th>\n",
       "      <th>InpatientDays</th>\n",
       "      <th>ERVisits</th>\n",
       "      <th>OfficeVisits</th>\n",
       "      <th>Narcotics</th>\n",
       "      <th>DaysSinceLastERVisit</th>\n",
       "      <th>Pain</th>\n",
       "      <th>TotalVisits</th>\n",
       "      <th>ProviderCount</th>\n",
       "      <th>MedicalClaims</th>\n",
       "      <th>ClaimLines</th>\n",
       "      <th>AcuteDrugGapSmall</th>\n",
       "      <th>PoorCare</th>\n",
       "      <th>True</th>\n",
       "    </tr>\n",
       "  </thead>\n",
       "  <tbody>\n",
       "    <tr>\n",
       "      <th>MemberID</th>\n",
       "      <td>1.000000</td>\n",
       "      <td>-0.063620</td>\n",
       "      <td>-0.011032</td>\n",
       "      <td>-0.006273</td>\n",
       "      <td>0.203962</td>\n",
       "      <td>0.100174</td>\n",
       "      <td>0.023700</td>\n",
       "      <td>-0.032954</td>\n",
       "      <td>0.012511</td>\n",
       "      <td>-0.065212</td>\n",
       "      <td>-0.090459</td>\n",
       "      <td>0.196651</td>\n",
       "      <td>0.060916</td>\n",
       "      <td>-0.144841</td>\n",
       "    </tr>\n",
       "    <tr>\n",
       "      <th>InpatientDays</th>\n",
       "      <td>-0.063620</td>\n",
       "      <td>1.000000</td>\n",
       "      <td>0.440087</td>\n",
       "      <td>0.175901</td>\n",
       "      <td>-0.093769</td>\n",
       "      <td>-0.290121</td>\n",
       "      <td>0.304058</td>\n",
       "      <td>0.622036</td>\n",
       "      <td>0.244023</td>\n",
       "      <td>0.286378</td>\n",
       "      <td>0.386951</td>\n",
       "      <td>-0.001144</td>\n",
       "      <td>0.080726</td>\n",
       "      <td>0.105626</td>\n",
       "    </tr>\n",
       "    <tr>\n",
       "      <th>ERVisits</th>\n",
       "      <td>-0.011032</td>\n",
       "      <td>0.440087</td>\n",
       "      <td>1.000000</td>\n",
       "      <td>0.308526</td>\n",
       "      <td>-0.003732</td>\n",
       "      <td>-0.735246</td>\n",
       "      <td>0.546779</td>\n",
       "      <td>0.586439</td>\n",
       "      <td>0.457429</td>\n",
       "      <td>0.355319</td>\n",
       "      <td>0.542001</td>\n",
       "      <td>-0.072750</td>\n",
       "      <td>0.135401</td>\n",
       "      <td>0.118766</td>\n",
       "    </tr>\n",
       "    <tr>\n",
       "      <th>OfficeVisits</th>\n",
       "      <td>-0.006273</td>\n",
       "      <td>0.175901</td>\n",
       "      <td>0.308526</td>\n",
       "      <td>1.000000</td>\n",
       "      <td>0.275759</td>\n",
       "      <td>-0.128388</td>\n",
       "      <td>0.352968</td>\n",
       "      <td>0.865387</td>\n",
       "      <td>0.365469</td>\n",
       "      <td>0.498513</td>\n",
       "      <td>0.424953</td>\n",
       "      <td>0.200735</td>\n",
       "      <td>0.329512</td>\n",
       "      <td>0.164056</td>\n",
       "    </tr>\n",
       "    <tr>\n",
       "      <th>Narcotics</th>\n",
       "      <td>0.203962</td>\n",
       "      <td>-0.093769</td>\n",
       "      <td>-0.003732</td>\n",
       "      <td>0.275759</td>\n",
       "      <td>1.000000</td>\n",
       "      <td>0.065055</td>\n",
       "      <td>0.106860</td>\n",
       "      <td>0.163992</td>\n",
       "      <td>0.293478</td>\n",
       "      <td>0.220541</td>\n",
       "      <td>0.185799</td>\n",
       "      <td>0.710889</td>\n",
       "      <td>0.447236</td>\n",
       "      <td>0.043641</td>\n",
       "    </tr>\n",
       "    <tr>\n",
       "      <th>DaysSinceLastERVisit</th>\n",
       "      <td>0.100174</td>\n",
       "      <td>-0.290121</td>\n",
       "      <td>-0.735246</td>\n",
       "      <td>-0.128388</td>\n",
       "      <td>0.065055</td>\n",
       "      <td>1.000000</td>\n",
       "      <td>-0.358781</td>\n",
       "      <td>-0.344640</td>\n",
       "      <td>-0.297701</td>\n",
       "      <td>-0.198114</td>\n",
       "      <td>-0.412797</td>\n",
       "      <td>0.131085</td>\n",
       "      <td>-0.107983</td>\n",
       "      <td>-0.061953</td>\n",
       "    </tr>\n",
       "    <tr>\n",
       "      <th>Pain</th>\n",
       "      <td>0.023700</td>\n",
       "      <td>0.304058</td>\n",
       "      <td>0.546779</td>\n",
       "      <td>0.352968</td>\n",
       "      <td>0.106860</td>\n",
       "      <td>-0.358781</td>\n",
       "      <td>1.000000</td>\n",
       "      <td>0.482959</td>\n",
       "      <td>0.405095</td>\n",
       "      <td>0.296697</td>\n",
       "      <td>0.464713</td>\n",
       "      <td>-0.031490</td>\n",
       "      <td>0.092168</td>\n",
       "      <td>0.078373</td>\n",
       "    </tr>\n",
       "    <tr>\n",
       "      <th>TotalVisits</th>\n",
       "      <td>-0.032954</td>\n",
       "      <td>0.622036</td>\n",
       "      <td>0.586439</td>\n",
       "      <td>0.865387</td>\n",
       "      <td>0.163992</td>\n",
       "      <td>-0.344640</td>\n",
       "      <td>0.482959</td>\n",
       "      <td>1.000000</td>\n",
       "      <td>0.451545</td>\n",
       "      <td>0.549308</td>\n",
       "      <td>0.569619</td>\n",
       "      <td>0.134861</td>\n",
       "      <td>0.300540</td>\n",
       "      <td>0.185814</td>\n",
       "    </tr>\n",
       "    <tr>\n",
       "      <th>ProviderCount</th>\n",
       "      <td>0.012511</td>\n",
       "      <td>0.244023</td>\n",
       "      <td>0.457429</td>\n",
       "      <td>0.365469</td>\n",
       "      <td>0.293478</td>\n",
       "      <td>-0.297701</td>\n",
       "      <td>0.405095</td>\n",
       "      <td>0.451545</td>\n",
       "      <td>1.000000</td>\n",
       "      <td>0.517002</td>\n",
       "      <td>0.605357</td>\n",
       "      <td>0.141284</td>\n",
       "      <td>0.220166</td>\n",
       "      <td>0.155765</td>\n",
       "    </tr>\n",
       "    <tr>\n",
       "      <th>MedicalClaims</th>\n",
       "      <td>-0.065212</td>\n",
       "      <td>0.286378</td>\n",
       "      <td>0.355319</td>\n",
       "      <td>0.498513</td>\n",
       "      <td>0.220541</td>\n",
       "      <td>-0.198114</td>\n",
       "      <td>0.296697</td>\n",
       "      <td>0.549308</td>\n",
       "      <td>0.517002</td>\n",
       "      <td>1.000000</td>\n",
       "      <td>0.813935</td>\n",
       "      <td>0.085637</td>\n",
       "      <td>0.167399</td>\n",
       "      <td>0.067931</td>\n",
       "    </tr>\n",
       "    <tr>\n",
       "      <th>ClaimLines</th>\n",
       "      <td>-0.090459</td>\n",
       "      <td>0.386951</td>\n",
       "      <td>0.542001</td>\n",
       "      <td>0.424953</td>\n",
       "      <td>0.185799</td>\n",
       "      <td>-0.412797</td>\n",
       "      <td>0.464713</td>\n",
       "      <td>0.569619</td>\n",
       "      <td>0.605357</td>\n",
       "      <td>0.813935</td>\n",
       "      <td>1.000000</td>\n",
       "      <td>-0.013229</td>\n",
       "      <td>0.129175</td>\n",
       "      <td>0.045934</td>\n",
       "    </tr>\n",
       "    <tr>\n",
       "      <th>AcuteDrugGapSmall</th>\n",
       "      <td>0.196651</td>\n",
       "      <td>-0.001144</td>\n",
       "      <td>-0.072750</td>\n",
       "      <td>0.200735</td>\n",
       "      <td>0.710889</td>\n",
       "      <td>0.131085</td>\n",
       "      <td>-0.031490</td>\n",
       "      <td>0.134861</td>\n",
       "      <td>0.141284</td>\n",
       "      <td>0.085637</td>\n",
       "      <td>-0.013229</td>\n",
       "      <td>1.000000</td>\n",
       "      <td>0.341435</td>\n",
       "      <td>-0.032375</td>\n",
       "    </tr>\n",
       "    <tr>\n",
       "      <th>PoorCare</th>\n",
       "      <td>0.060916</td>\n",
       "      <td>0.080726</td>\n",
       "      <td>0.135401</td>\n",
       "      <td>0.329512</td>\n",
       "      <td>0.447236</td>\n",
       "      <td>-0.107983</td>\n",
       "      <td>0.092168</td>\n",
       "      <td>0.300540</td>\n",
       "      <td>0.220166</td>\n",
       "      <td>0.167399</td>\n",
       "      <td>0.129175</td>\n",
       "      <td>0.341435</td>\n",
       "      <td>1.000000</td>\n",
       "      <td>0.293437</td>\n",
       "    </tr>\n",
       "    <tr>\n",
       "      <th>True</th>\n",
       "      <td>-0.144841</td>\n",
       "      <td>0.105626</td>\n",
       "      <td>0.118766</td>\n",
       "      <td>0.164056</td>\n",
       "      <td>0.043641</td>\n",
       "      <td>-0.061953</td>\n",
       "      <td>0.078373</td>\n",
       "      <td>0.185814</td>\n",
       "      <td>0.155765</td>\n",
       "      <td>0.067931</td>\n",
       "      <td>0.045934</td>\n",
       "      <td>-0.032375</td>\n",
       "      <td>0.293437</td>\n",
       "      <td>1.000000</td>\n",
       "    </tr>\n",
       "  </tbody>\n",
       "</table>\n",
       "</div>"
      ],
      "text/plain": [
       "                      MemberID  InpatientDays  ERVisits  OfficeVisits  \\\n",
       "MemberID              1.000000      -0.063620 -0.011032     -0.006273   \n",
       "InpatientDays        -0.063620       1.000000  0.440087      0.175901   \n",
       "ERVisits             -0.011032       0.440087  1.000000      0.308526   \n",
       "OfficeVisits         -0.006273       0.175901  0.308526      1.000000   \n",
       "Narcotics             0.203962      -0.093769 -0.003732      0.275759   \n",
       "DaysSinceLastERVisit  0.100174      -0.290121 -0.735246     -0.128388   \n",
       "Pain                  0.023700       0.304058  0.546779      0.352968   \n",
       "TotalVisits          -0.032954       0.622036  0.586439      0.865387   \n",
       "ProviderCount         0.012511       0.244023  0.457429      0.365469   \n",
       "MedicalClaims        -0.065212       0.286378  0.355319      0.498513   \n",
       "ClaimLines           -0.090459       0.386951  0.542001      0.424953   \n",
       "AcuteDrugGapSmall     0.196651      -0.001144 -0.072750      0.200735   \n",
       "PoorCare              0.060916       0.080726  0.135401      0.329512   \n",
       "True                 -0.144841       0.105626  0.118766      0.164056   \n",
       "\n",
       "                      Narcotics  DaysSinceLastERVisit      Pain  TotalVisits  \\\n",
       "MemberID               0.203962              0.100174  0.023700    -0.032954   \n",
       "InpatientDays         -0.093769             -0.290121  0.304058     0.622036   \n",
       "ERVisits              -0.003732             -0.735246  0.546779     0.586439   \n",
       "OfficeVisits           0.275759             -0.128388  0.352968     0.865387   \n",
       "Narcotics              1.000000              0.065055  0.106860     0.163992   \n",
       "DaysSinceLastERVisit   0.065055              1.000000 -0.358781    -0.344640   \n",
       "Pain                   0.106860             -0.358781  1.000000     0.482959   \n",
       "TotalVisits            0.163992             -0.344640  0.482959     1.000000   \n",
       "ProviderCount          0.293478             -0.297701  0.405095     0.451545   \n",
       "MedicalClaims          0.220541             -0.198114  0.296697     0.549308   \n",
       "ClaimLines             0.185799             -0.412797  0.464713     0.569619   \n",
       "AcuteDrugGapSmall      0.710889              0.131085 -0.031490     0.134861   \n",
       "PoorCare               0.447236             -0.107983  0.092168     0.300540   \n",
       "True                   0.043641             -0.061953  0.078373     0.185814   \n",
       "\n",
       "                      ProviderCount  MedicalClaims  ClaimLines  \\\n",
       "MemberID                   0.012511      -0.065212   -0.090459   \n",
       "InpatientDays              0.244023       0.286378    0.386951   \n",
       "ERVisits                   0.457429       0.355319    0.542001   \n",
       "OfficeVisits               0.365469       0.498513    0.424953   \n",
       "Narcotics                  0.293478       0.220541    0.185799   \n",
       "DaysSinceLastERVisit      -0.297701      -0.198114   -0.412797   \n",
       "Pain                       0.405095       0.296697    0.464713   \n",
       "TotalVisits                0.451545       0.549308    0.569619   \n",
       "ProviderCount              1.000000       0.517002    0.605357   \n",
       "MedicalClaims              0.517002       1.000000    0.813935   \n",
       "ClaimLines                 0.605357       0.813935    1.000000   \n",
       "AcuteDrugGapSmall          0.141284       0.085637   -0.013229   \n",
       "PoorCare                   0.220166       0.167399    0.129175   \n",
       "True                       0.155765       0.067931    0.045934   \n",
       "\n",
       "                      AcuteDrugGapSmall  PoorCare      True  \n",
       "MemberID                       0.196651  0.060916 -0.144841  \n",
       "InpatientDays                 -0.001144  0.080726  0.105626  \n",
       "ERVisits                      -0.072750  0.135401  0.118766  \n",
       "OfficeVisits                   0.200735  0.329512  0.164056  \n",
       "Narcotics                      0.710889  0.447236  0.043641  \n",
       "DaysSinceLastERVisit           0.131085 -0.107983 -0.061953  \n",
       "Pain                          -0.031490  0.092168  0.078373  \n",
       "TotalVisits                    0.134861  0.300540  0.185814  \n",
       "ProviderCount                  0.141284  0.220166  0.155765  \n",
       "MedicalClaims                  0.085637  0.167399  0.067931  \n",
       "ClaimLines                    -0.013229  0.129175  0.045934  \n",
       "AcuteDrugGapSmall              1.000000  0.341435 -0.032375  \n",
       "PoorCare                       0.341435  1.000000  0.293437  \n",
       "True                          -0.032375  0.293437  1.000000  "
      ]
     },
     "execution_count": 81,
     "metadata": {},
     "output_type": "execute_result"
    }
   ],
   "source": [
    "df_final.corr()"
   ]
  },
  {
   "cell_type": "code",
   "execution_count": null,
   "metadata": {},
   "outputs": [],
   "source": []
  }
 ],
 "metadata": {
  "kernelspec": {
   "display_name": "Python 3",
   "language": "python",
   "name": "python3"
  },
  "language_info": {
   "codemirror_mode": {
    "name": "ipython",
    "version": 3
   },
   "file_extension": ".py",
   "mimetype": "text/x-python",
   "name": "python",
   "nbconvert_exporter": "python",
   "pygments_lexer": "ipython3",
   "version": "3.7.3"
  }
 },
 "nbformat": 4,
 "nbformat_minor": 2
}
